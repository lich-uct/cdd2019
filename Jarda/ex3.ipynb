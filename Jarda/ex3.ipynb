{
 "cells": [
  {
   "cell_type": "markdown",
   "metadata": {},
   "source": [
    "# Počítačový návrh léčiv - 3. cvičení "
   ]
  },
  {
   "cell_type": "code",
   "execution_count": 1,
   "metadata": {},
   "outputs": [],
   "source": [
    "from rdkit import Chem\n",
    "from rdkit.Chem import Draw\n",
    "from rdkit.Chem import MACCSkeys"
   ]
  },
  {
   "cell_type": "code",
   "execution_count": 2,
   "metadata": {},
   "outputs": [],
   "source": [
    "suppl = Chem.SDMolSupplier(\"../data/drugbank.sdf\")\n",
    "drugbank = [m for m in suppl if m]"
   ]
  },
  {
   "cell_type": "code",
   "execution_count": 3,
   "metadata": {},
   "outputs": [
    {
     "data": {
      "text/plain": [
       "('carboxyl', 'benzene', 'aldehyde', 'amide', 'ketone', 'halogene', 'hydroxyl')"
      ]
     },
     "execution_count": 3,
     "metadata": {},
     "output_type": "execute_result"
    }
   ],
   "source": [
    "substructures = {\n",
    "    'carboxyl' : Chem.MolFromSmarts('C(=O)O'),\n",
    "    'benzene' : Chem.MolFromSmarts('c1ccccc1'),\n",
    "    'aldehyde' : Chem.MolFromSmarts('[CX3H1](=O)[#6]'),\n",
    "    'amide' : Chem.MolFromSmarts('[NX3][CX3](=[OX1])[#6]'),\n",
    "    'ketone' : Chem.MolFromSmarts('[#6][CX3](=O)[#6] '),\n",
    "    'halogene' : Chem.MolFromSmarts('[F;Cl;Br;I]'),\n",
    "    'hydroxyl' : Chem.MolFromSmarts('[OX2H]'),\n",
    "    #'inorganic' : Chem.MolFromSmarts('![[#1];![#6];![#7];![#8];![16];!F;!Cl;!Br;!I]')\n",
    "}\n",
    "\n",
    "pattern_names = tuple(substructures.keys())\n",
    "pattern_names"
   ]
  },
  {
   "cell_type": "code",
   "execution_count": 4,
   "metadata": {},
   "outputs": [],
   "source": [
    "# funkce, která vrací n-tici bool hodnot odpovídající přítomnosti patternu popsaném ve slovníku pattern_dict\n",
    "# in -> m: molekula, pro kterou chci generovat klíč\n",
    "# in -> name_order: n-tice jmen patternů, vytáhnutá ze slovníku.. zde ('carboxyl', 'benzene', 'aldehyde...)\n",
    "# in pattern_dict: slovník o struktuře {jmeno_patternu\\string\\:Chem.MolFromSmarts('pattern pomocí smarts\\string\\)')}\n",
    "def apply_substr_key(m, name_order, pattern_dict):\n",
    "    return tuple((m.HasSubstructMatch(pattern_dict[name]) for name in name_order))"
   ]
  },
  {
   "cell_type": "code",
   "execution_count": 5,
   "metadata": {},
   "outputs": [
    {
     "data": {
      "text/plain": [
       "dict_items([('carboxyl', <rdkit.Chem.rdchem.Mol object at 0x7f2826796da0>), ('benzene', <rdkit.Chem.rdchem.Mol object at 0x7f2826796e40>), ('aldehyde', <rdkit.Chem.rdchem.Mol object at 0x7f2826796e90>), ('amide', <rdkit.Chem.rdchem.Mol object at 0x7f2826796ee0>), ('ketone', <rdkit.Chem.rdchem.Mol object at 0x7f2826796f30>), ('halogene', <rdkit.Chem.rdchem.Mol object at 0x7f2826796f80>), ('hydroxyl', <rdkit.Chem.rdchem.Mol object at 0x7f282679f030>)])"
      ]
     },
     "execution_count": 5,
     "metadata": {},
     "output_type": "execute_result"
    }
   ],
   "source": [
    "substructures.items()"
   ]
  },
  {
   "cell_type": "code",
   "execution_count": 6,
   "metadata": {},
   "outputs": [
    {
     "data": {
      "text/plain": [
       "(True, True, False, False, False, False, True)"
      ]
     },
     "execution_count": 6,
     "metadata": {},
     "output_type": "execute_result"
    }
   ],
   "source": [
    "# vyhledání klíče pro jednu konkrétní molekulu pomocí fce apply_substr_key\n",
    "apply_substr_key(drugbank[123], pattern_names, substructures)\n"
   ]
  },
  {
   "cell_type": "code",
   "execution_count": 7,
   "metadata": {},
   "outputs": [
    {
     "data": {
      "image/png": "[encoded data removed]",
      "text/plain": [
       "<PIL.Image.Image image mode=RGB size=300x300 at 0x7F28267A3860>"
      ]
     },
     "execution_count": 7,
     "metadata": {},
     "output_type": "execute_result"
    }
   ],
   "source": [
    "Draw.MolToImage(drugbank[123])"
   ]
  },
  {
   "cell_type": "code",
   "execution_count": 8,
   "metadata": {},
   "outputs": [
    {
     "data": {
      "text/plain": [
       "7110"
      ]
     },
     "execution_count": 8,
     "metadata": {},
     "output_type": "execute_result"
    }
   ],
   "source": [
    "# zde to samé, pro všechny molekuly drugbanku\n",
    "custom_struct_keys = [apply_substr_key(i, pattern_names, substructures) for i in drugbank]\n",
    "len(custom_struct_keys)"
   ]
  },
  {
   "cell_type": "code",
   "execution_count": 9,
   "metadata": {},
   "outputs": [
    {
     "data": {
      "text/plain": [
       "[(True, True, False, True, False, False, True),\n",
       " (False, True, False, True, False, False, True),\n",
       " (False, True, False, True, False, False, True),\n",
       " (False, True, False, True, False, False, True),\n",
       " (False, False, False, True, False, False, True),\n",
       " (False, True, False, True, False, False, False),\n",
       " (False, True, False, True, False, False, True),\n",
       " (False, False, True, False, False, False, True),\n",
       " (False, True, False, True, False, False, True),\n",
       " (True, True, False, True, False, False, True)]"
      ]
     },
     "execution_count": 9,
     "metadata": {},
     "output_type": "execute_result"
    }
   ],
   "source": [
    "custom_struct_keys[:10]"
   ]
  },
  {
   "cell_type": "code",
   "execution_count": 10,
   "metadata": {},
   "outputs": [
    {
     "name": "stdout",
     "output_type": "stream",
     "text": [
      "carboxyl 2397\n",
      "benzene 4286\n",
      "aldehyde 112\n",
      "amide 2058\n",
      "ketone 653\n",
      "halogene 0\n",
      "hydroxyl 4279\n"
     ]
    }
   ],
   "source": [
    "# vypsání četnosti jednotlivých patternů\n",
    "counts = list(map(sum, zip(*custom_struct_keys)))\n",
    "for i, j in zip(counts, pattern_names):\n",
    "    print(j, i)\n"
   ]
  },
  {
   "cell_type": "code",
   "execution_count": 11,
   "metadata": {
    "scrolled": true
   },
   "outputs": [
    {
     "name": "stdout",
     "output_type": "stream",
     "text": [
      "(True, True, False, False, False, False, True)\n"
     ]
    },
    {
     "data": {
      "image/png": "[encoded data removed]",
      "text/plain": [
       "<PIL.Image.Image image mode=RGB size=300x300 at 0x7F28261D7AC8>"
      ]
     },
     "execution_count": 11,
     "metadata": {},
     "output_type": "execute_result"
    }
   ],
   "source": [
    "# vygenerování klíče pro aspirin\n",
    "aspirin = Chem.MolFromSmiles('O=C(C)Oc1ccccc1C(=O)O')\n",
    "aspirin_key = apply_substr_key(aspirin, pattern_names, substructures)\n",
    "print(aspirin_key)\n",
    "Draw.MolToImage(aspirin)"
   ]
  },
  {
   "cell_type": "code",
   "execution_count": 12,
   "metadata": {},
   "outputs": [],
   "source": [
    "aspirin_key_hits = [i for i, key in enumerate(custom_struct_keys) if key == aspirin_key]"
   ]
  },
  {
   "cell_type": "code",
   "execution_count": 13,
   "metadata": {},
   "outputs": [
    {
     "data": {
      "text/plain": [
       "570"
      ]
     },
     "execution_count": 13,
     "metadata": {},
     "output_type": "execute_result"
    }
   ],
   "source": [
    "hits = ([drugbank[i] for i in aspirin_key_hits])\n",
    "len(hits)"
   ]
  },
  {
   "cell_type": "code",
   "execution_count": 25,
   "metadata": {},
   "outputs": [
    {
     "data": {
      "image/png": "[encoded data removed]",
      "text/plain": [
       "<PIL.PngImagePlugin.PngImageFile image mode=RGB size=600x1400 at 0x7F2825ED3AC8>"
      ]
     },
     "execution_count": 25,
     "metadata": {},
     "output_type": "execute_result"
    }
   ],
   "source": [
    "obrazek = Draw.MolsToGridImage(hits[0:20], molsPerRow = 3)\n",
    "obrazek\n"
   ]
  },
  {
   "cell_type": "code",
   "execution_count": 26,
   "metadata": {},
   "outputs": [],
   "source": [
    "# mám nějakou query, v tomto případě třeba ten aspirin. Na ten aplikuju to vyhledání klíče podle definovanejch pravidel.\n",
    "# tohle jsme zároveň udělali už pro všechny látky v drugbanku a tak teď můžu už jen projíždět\n",
    "# ty n-tice jako (T, F, T, T...) a porovnávat je s tou n-ticí která odpovídá aspirinu. \n",
    "\n",
    "# tato funkce frací True, pouze pokud najde látku která má True všude tam, kde ho má Aspirin. \n",
    "def potential_superstructure(super_key, query_key):\n",
    "    for s, q in zip(super_key, query_key):\n",
    "        if q and not s:\n",
    "            return False\n",
    "    return True"
   ]
  },
  {
   "cell_type": "code",
   "execution_count": 16,
   "metadata": {},
   "outputs": [
    {
     "data": {
      "text/plain": [
       "1068"
      ]
     },
     "execution_count": 16,
     "metadata": {},
     "output_type": "execute_result"
    }
   ],
   "source": [
    "aspirin_potentioal_superstructures = [i for i, key in enumerate(custom_struct_keys)\n",
    "                                      if potential_superstructure(key, aspirin_key)]\n",
    "len(aspirin_potentioal_superstructures)\n"
   ]
  },
  {
   "cell_type": "code",
   "execution_count": 17,
   "metadata": {},
   "outputs": [
    {
     "data": {
      "text/plain": [
       "[30,\n",
       " 49,\n",
       " 57,\n",
       " 74,\n",
       " 85,\n",
       " 86,\n",
       " 93,\n",
       " 95,\n",
       " 98,\n",
       " 100,\n",
       " 101,\n",
       " 105,\n",
       " 108,\n",
       " 109,\n",
       " 111,\n",
       " 112,\n",
       " 113,\n",
       " 115,\n",
       " 116,\n",
       " 118,\n",
       " 122,\n",
       " 123,\n",
       " 125,\n",
       " 126,\n",
       " 132,\n",
       " 137,\n",
       " 138,\n",
       " 141,\n",
       " 144,\n",
       " 145,\n",
       " 146,\n",
       " 147,\n",
       " 148,\n",
       " 149,\n",
       " 152,\n",
       " 153,\n",
       " 154,\n",
       " 155,\n",
       " 156,\n",
       " 157,\n",
       " 158,\n",
       " 159,\n",
       " 160,\n",
       " 161,\n",
       " 162,\n",
       " 163,\n",
       " 164,\n",
       " 165]"
      ]
     },
     "execution_count": 17,
     "metadata": {},
     "output_type": "execute_result"
    }
   ],
   "source": [
    "drugbank_maccs = [MACCSkeys.GenMACCSKeys(m) for m in drugbank]\n",
    "list(drugbank_maccs[666].GetOnBits())"
   ]
  },
  {
   "cell_type": "code",
   "execution_count": 18,
   "metadata": {},
   "outputs": [
    {
     "data": {
      "text/plain": [
       "(89,\n",
       " 113,\n",
       " 123,\n",
       " 126,\n",
       " 127,\n",
       " 136,\n",
       " 139,\n",
       " 140,\n",
       " 143,\n",
       " 144,\n",
       " 146,\n",
       " 150,\n",
       " 152,\n",
       " 154,\n",
       " 157,\n",
       " 159,\n",
       " 160,\n",
       " 162,\n",
       " 163,\n",
       " 164,\n",
       " 165)"
      ]
     },
     "execution_count": 18,
     "metadata": {},
     "output_type": "execute_result"
    }
   ],
   "source": [
    "aspirin_maccs = MACCSkeys.GenMACCSKeys(aspirin)\n",
    "tuple(aspirin_maccs.GetOnBits())\n"
   ]
  },
  {
   "cell_type": "code",
   "execution_count": 19,
   "metadata": {},
   "outputs": [
    {
     "data": {
      "text/plain": [
       "[824]"
      ]
     },
     "execution_count": 19,
     "metadata": {},
     "output_type": "execute_result"
    }
   ],
   "source": [
    "aspirin_maccs_hits = [i for i, key in enumerate(drugbank_maccs) if key == aspirin_maccs]\n",
    "aspirin_maccs_hits"
   ]
  },
  {
   "cell_type": "code",
   "execution_count": 20,
   "metadata": {},
   "outputs": [
    {
     "data": {
      "image/png": "[encoded data removed]",
      "text/plain": [
       "<PIL.Image.Image image mode=RGB size=300x300 at 0x7F2850663F98>"
      ]
     },
     "execution_count": 20,
     "metadata": {},
     "output_type": "execute_result"
    }
   ],
   "source": [
    "Draw.MolToImage(drugbank[824])"
   ]
  },
  {
   "cell_type": "code",
   "execution_count": 21,
   "metadata": {},
   "outputs": [],
   "source": [
    "#vůbec ne překvapivě je ten jeden hit opět aspirin"
   ]
  },
  {
   "cell_type": "code",
   "execution_count": 22,
   "metadata": {},
   "outputs": [],
   "source": [
    "#díváme se který bity má zapnutý ta query struktura. Pak procházíme superstruktury a když je jeden z těch\n",
    "#co jsou v query zaplý vyplý, tak je to pro nás blbá struktura a ignorujem jí.\n",
    "\n",
    "def potential_maccs_superstructure(super_key, query_key):\n",
    "    for on_bit in query_key.GetOnBits(): \n",
    "        if super_key.GetBit(on_bit):\n",
    "            return False\n",
    "    return True"
   ]
  },
  {
   "cell_type": "code",
   "execution_count": 23,
   "metadata": {},
   "outputs": [
    {
     "data": {
      "text/plain": [
       "[25,\n",
       " 43,\n",
       " 53,\n",
       " 54,\n",
       " 74,\n",
       " 75,\n",
       " 77,\n",
       " 78,\n",
       " 79,\n",
       " 80,\n",
       " 82,\n",
       " 83,\n",
       " 84,\n",
       " 85,\n",
       " 90,\n",
       " 91,\n",
       " 92,\n",
       " 95,\n",
       " 96,\n",
       " 97,\n",
       " 100,\n",
       " 104,\n",
       " 106,\n",
       " 110,\n",
       " 111,\n",
       " 113,\n",
       " 114,\n",
       " 115,\n",
       " 117,\n",
       " 118,\n",
       " 119,\n",
       " 120,\n",
       " 121,\n",
       " 122,\n",
       " 123,\n",
       " 125,\n",
       " 127,\n",
       " 128,\n",
       " 129,\n",
       " 131,\n",
       " 132,\n",
       " 136,\n",
       " 137,\n",
       " 138,\n",
       " 139,\n",
       " 140,\n",
       " 141,\n",
       " 142,\n",
       " 143,\n",
       " 145,\n",
       " 146,\n",
       " 147,\n",
       " 148,\n",
       " 149,\n",
       " 150,\n",
       " 151,\n",
       " 152,\n",
       " 153,\n",
       " 154,\n",
       " 155,\n",
       " 156,\n",
       " 157,\n",
       " 158,\n",
       " 159,\n",
       " 160,\n",
       " 161,\n",
       " 162,\n",
       " 163,\n",
       " 164,\n",
       " 165]"
      ]
     },
     "execution_count": 23,
     "metadata": {},
     "output_type": "execute_result"
    }
   ],
   "source": [
    "list(drugbank_maccs[0].GetOnBits())"
   ]
  },
  {
   "cell_type": "code",
   "execution_count": 24,
   "metadata": {},
   "outputs": [
    {
     "data": {
      "text/plain": [
       "60"
      ]
     },
     "execution_count": 24,
     "metadata": {},
     "output_type": "execute_result"
    }
   ],
   "source": [
    "aspirin_potential_maccs_superstructures = [i for i, key, in enumerate(drugbank_maccs)\n",
    "                                          if potential_maccs_superstructure(key, aspirin_maccs)]\n",
    "\n",
    "len(aspirin_potential_maccs_superstructures)"
   ]
  }
 ],
 "metadata": {
  "kernelspec": {
   "display_name": "Python 3",
   "language": "python",
   "name": "python3"
  },
  "language_info": {
   "codemirror_mode": {
    "name": "ipython",
    "version": 3
   },
   "file_extension": ".py",
   "mimetype": "text/x-python",
   "name": "python",
   "nbconvert_exporter": "python",
   "pygments_lexer": "ipython3",
   "version": "3.6.5"
  }
 },
 "nbformat": 4,
 "nbformat_minor": 2
}
