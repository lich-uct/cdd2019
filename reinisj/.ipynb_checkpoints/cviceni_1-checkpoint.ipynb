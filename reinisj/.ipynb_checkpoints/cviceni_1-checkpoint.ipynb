{
 "cells": [
  {
   "cell_type": "code",
   "execution_count": 1,
   "metadata": {},
   "outputs": [],
   "source": [
    "from rdkit import Chem\n",
    "from rdkit.Chem.Draw import IPythonConsole"
   ]
  },
  {
   "cell_type": "code",
   "execution_count": 2,
   "metadata": {},
   "outputs": [
    {
     "data": {
      "image/png": "[encoded data removed]",
      "text/plain": [
       "<rdkit.Chem.rdchem.Mol at 0x7f2fb234de90>"
      ]
     },
     "execution_count": 2,
     "metadata": {},
     "output_type": "execute_result"
    }
   ],
   "source": [
    "Chem.MolFromSmiles(\"CCC(CCC)CC(=CO)CC\")"
   ]
  },
  {
   "cell_type": "code",
   "execution_count": 3,
   "metadata": {},
   "outputs": [],
   "source": [
    "n = Chem.MolFromSmiles(\"c1ccccc1\")"
   ]
  },
  {
   "cell_type": "code",
   "execution_count": 4,
   "metadata": {},
   "outputs": [
    {
     "data": {
      "text/plain": [
       "6"
      ]
     },
     "execution_count": 4,
     "metadata": {},
     "output_type": "execute_result"
    }
   ],
   "source": [
    "n.GetNumAtoms()"
   ]
  },
  {
   "cell_type": "code",
   "execution_count": 5,
   "metadata": {},
   "outputs": [
    {
     "data": {
      "image/png": "[encoded data removed]",
      "text/plain": [
       "<rdkit.Chem.rdchem.Mol at 0x7f2fdc1fc350>"
      ]
     },
     "execution_count": 5,
     "metadata": {},
     "output_type": "execute_result"
    }
   ],
   "source": [
    "n"
   ]
  },
  {
   "cell_type": "code",
   "execution_count": 6,
   "metadata": {},
   "outputs": [
    {
     "data": {
      "text/plain": [
       "'c1ccccc1'"
      ]
     },
     "execution_count": 6,
     "metadata": {},
     "output_type": "execute_result"
    }
   ],
   "source": [
    "Chem.MolToSmiles(n)"
   ]
  },
  {
   "cell_type": "code",
   "execution_count": 7,
   "metadata": {},
   "outputs": [],
   "source": [
    "suppl = Chem.SDMolSupplier(\"../data/drugbank.sdf\")"
   ]
  },
  {
   "cell_type": "markdown",
   "metadata": {},
   "source": [
    "#### Pocet tezkych atomu v cele drugbank"
   ]
  },
  {
   "cell_type": "code",
   "execution_count": 9,
   "metadata": {
    "scrolled": true
   },
   "outputs": [
    {
     "name": "stderr",
     "output_type": "stream",
     "text": [
      "RDKit WARNING: [15:11:16]  S group DAT ignored on line 2516\n",
      "RDKit WARNING: [15:11:16]  S group DAT ignored on line 2516\n",
      "RDKit WARNING: [15:11:16]  S group DAT ignored on line 2516\n",
      "RDKit WARNING: [15:11:16]  S group DAT ignored on line 2516\n",
      "RDKit WARNING: [15:11:16]  S group DAT ignored on line 15552\n",
      "RDKit WARNING: [15:11:16]  S group DAT ignored on line 15552\n",
      "RDKit WARNING: [15:11:16]  S group DAT ignored on line 15552\n",
      "RDKit WARNING: [15:11:16]  S group DAT ignored on line 15552\n",
      "RDKit ERROR: [15:11:16] Explicit valence for atom # 7 N, 4, is greater than permitted\n",
      "RDKit ERROR: [15:11:16] ERROR: Could not sanitize molecule ending on line 20009\n",
      "RDKit WARNING: [15:11:16] Warning: conflicting stereochemistry at atom 5 ignored.\n",
      "RDKit WARNING: [15:11:16] Warning: conflicting stereochemistry at atom 5 ignored.\n",
      "RDKit WARNING: [15:11:16]  S group GEN ignored on line 102860\n",
      "RDKit ERROR: [15:11:16] ERROR: Explicit valence for atom # 7 N, 4, is greater than permitted\n",
      "RDKit ERROR: [15:11:16]  Unhandled CTAB feature: S group COP on line: 133906. Molecule skipped.\n",
      "RDKit ERROR: [15:11:16] Can't kekulize mol.  Unkekulized atoms: 1 2 3 5 6 7 8 9 10\n",
      "RDKit ERROR: \n",
      "RDKit ERROR: [15:11:16] ERROR: Could not sanitize molecule ending on line 250947\n",
      "RDKit ERROR: [15:11:16] ERROR: Can't kekulize mol.  Unkekulized atoms: 1 2 3 5 6 7 8 9 10\n",
      "RDKit ERROR: \n",
      "RDKit ERROR: [15:11:16] Explicit valence for atom # 17 O, 3, is greater than permitted\n",
      "RDKit ERROR: [15:11:16] ERROR: Could not sanitize molecule ending on line 258130\n",
      "RDKit ERROR: [15:11:16] ERROR: Explicit valence for atom # 17 O, 3, is greater than permitted\n",
      "RDKit ERROR: [15:11:16] Can't kekulize mol.  Unkekulized atoms: 57 58 59 60 61 62 63 64 65\n",
      "RDKit ERROR: \n",
      "RDKit ERROR: [15:11:16] ERROR: Could not sanitize molecule ending on line 261581\n",
      "RDKit ERROR: [15:11:16] ERROR: Can't kekulize mol.  Unkekulized atoms: 57 58 59 60 61 62 63 64 65\n",
      "RDKit ERROR: \n",
      "RDKit ERROR: [15:11:16] Explicit valence for atom # 47 Mg, 4, is greater than permitted\n",
      "RDKit ERROR: [15:11:16] ERROR: Could not sanitize molecule ending on line 272221\n",
      "RDKit ERROR: [15:11:16] ERROR: Explicit valence for atom # 47 Mg, 4, is greater than permitted\n",
      "RDKit ERROR: [15:11:16] Can't kekulize mol.  Unkekulized atoms: 0 1 2 6 7 8 9 10 11 12 13 14 15 16 17\n",
      "RDKit ERROR: \n",
      "RDKit ERROR: [15:11:16] ERROR: Could not sanitize molecule ending on line 280661\n",
      "RDKit ERROR: [15:11:16] ERROR: Can't kekulize mol.  Unkekulized atoms: 0 1 2 6 7 8 9 10 11 12 13 14 15 16 17\n",
      "RDKit ERROR: \n",
      "RDKit ERROR: [15:11:16] Explicit valence for atom # 13 Cl, 5, is greater than permitted\n",
      "RDKit ERROR: [15:11:16] ERROR: Could not sanitize molecule ending on line 282635\n",
      "RDKit ERROR: [15:11:16] ERROR: Explicit valence for atom # 13 Cl, 5, is greater than permitted\n",
      "RDKit ERROR: [15:11:16] Can't kekulize mol.  Unkekulized atoms: 3 4 5 6 7 8 10 11 12\n",
      "RDKit ERROR: \n",
      "RDKit ERROR: [15:11:16] ERROR: Could not sanitize molecule ending on line 292762\n",
      "RDKit ERROR: [15:11:16] ERROR: Can't kekulize mol.  Unkekulized atoms: 3 4 5 6 7 8 10 11 12\n",
      "RDKit ERROR: \n",
      "RDKit ERROR: [15:11:16] Can't kekulize mol.  Unkekulized atoms: 0 1 2 4 5 6 7 8 9 10\n",
      "RDKit ERROR: \n",
      "RDKit ERROR: [15:11:16] ERROR: Could not sanitize molecule ending on line 293836\n",
      "RDKit ERROR: [15:11:16] ERROR: Can't kekulize mol.  Unkekulized atoms: 0 1 2 4 5 6 7 8 9 10\n",
      "RDKit ERROR: \n",
      "RDKit ERROR: [15:11:16] Can't kekulize mol.  Unkekulized atoms: 2 3 4 5 6 7 8 9 10\n",
      "RDKit ERROR: \n",
      "RDKit ERROR: [15:11:16] ERROR: Could not sanitize molecule ending on line 302815\n",
      "RDKit ERROR: [15:11:16] ERROR: Can't kekulize mol.  Unkekulized atoms: 2 3 4 5 6 7 8 9 10\n",
      "RDKit ERROR: \n",
      "RDKit ERROR: [15:11:16] Can't kekulize mol.  Unkekulized atoms: 13 14 15 16 22\n",
      "RDKit ERROR: \n",
      "RDKit ERROR: [15:11:16] ERROR: Could not sanitize molecule ending on line 304047\n",
      "RDKit ERROR: [15:11:16] ERROR: Can't kekulize mol.  Unkekulized atoms: 13 14 15 16 22\n",
      "RDKit ERROR: \n",
      "RDKit ERROR: [15:11:16] Explicit valence for atom # 46 Mg, 4, is greater than permitted\n",
      "RDKit ERROR: [15:11:16] ERROR: Could not sanitize molecule ending on line 312454\n",
      "RDKit ERROR: [15:11:16] ERROR: Explicit valence for atom # 46 Mg, 4, is greater than permitted\n",
      "RDKit ERROR: [15:11:16] Explicit valence for atom # 27 N, 4, is greater than permitted\n",
      "RDKit ERROR: [15:11:16] ERROR: Could not sanitize molecule ending on line 317905\n",
      "RDKit ERROR: [15:11:16] ERROR: Explicit valence for atom # 27 N, 4, is greater than permitted\n",
      "RDKit ERROR: [15:11:16] Explicit valence for atom # 16 N, 4, is greater than permitted\n",
      "RDKit ERROR: [15:11:16] ERROR: Could not sanitize molecule ending on line 318439\n",
      "RDKit ERROR: [15:11:16] ERROR: Explicit valence for atom # 16 N, 4, is greater than permitted\n",
      "RDKit ERROR: [15:11:16] Can't kekulize mol.  Unkekulized atoms: 3 4 5 6 54\n",
      "RDKit ERROR: \n",
      "RDKit ERROR: [15:11:16] ERROR: Could not sanitize molecule ending on line 324910\n",
      "RDKit ERROR: [15:11:16] ERROR: Can't kekulize mol.  Unkekulized atoms: 3 4 5 6 54\n",
      "RDKit ERROR: \n",
      "RDKit ERROR: [15:11:16] Can't kekulize mol.  Unkekulized atoms: 3 4 5 6 7\n",
      "RDKit ERROR: \n",
      "RDKit ERROR: [15:11:16] ERROR: Could not sanitize molecule ending on line 326050\n",
      "RDKit ERROR: [15:11:16] ERROR: Can't kekulize mol.  Unkekulized atoms: 3 4 5 6 7\n",
      "RDKit ERROR: \n",
      "RDKit ERROR: [15:11:16] Can't kekulize mol.  Unkekulized atoms: 2 3 4 5 11\n",
      "RDKit ERROR: \n",
      "RDKit ERROR: [15:11:16] ERROR: Could not sanitize molecule ending on line 331986\n",
      "RDKit ERROR: [15:11:16] ERROR: Can't kekulize mol.  Unkekulized atoms: 2 3 4 5 11\n",
      "RDKit ERROR: \n",
      "RDKit ERROR: [15:11:16] Can't kekulize mol.  Unkekulized atoms: 1 2 3 4 5 6 7 8 9\n",
      "RDKit ERROR: \n",
      "RDKit ERROR: [15:11:16] ERROR: Could not sanitize molecule ending on line 333287\n",
      "RDKit ERROR: [15:11:16] ERROR: Can't kekulize mol.  Unkekulized atoms: 1 2 3 4 5 6 7 8 9\n",
      "RDKit ERROR: \n",
      "RDKit ERROR: [15:11:16] Can't kekulize mol.  Unkekulized atoms: 3 4 5 6 7\n",
      "RDKit ERROR: \n",
      "RDKit ERROR: [15:11:16] ERROR: Could not sanitize molecule ending on line 347574\n",
      "RDKit ERROR: [15:11:16] ERROR: Can't kekulize mol.  Unkekulized atoms: 3 4 5 6 7\n",
      "RDKit ERROR: \n",
      "RDKit ERROR: [15:11:17] Can't kekulize mol.  Unkekulized atoms: 5 6 7 8 9 10 11 12 13\n",
      "RDKit ERROR: \n",
      "RDKit ERROR: [15:11:17] ERROR: Could not sanitize molecule ending on line 357505\n",
      "RDKit ERROR: [15:11:17] ERROR: Can't kekulize mol.  Unkekulized atoms: 5 6 7 8 9 10 11 12 13\n",
      "RDKit ERROR: \n",
      "RDKit ERROR: [15:11:17] Can't kekulize mol.  Unkekulized atoms: 3 4 5 6 7\n",
      "RDKit ERROR: \n",
      "RDKit ERROR: [15:11:17] ERROR: Could not sanitize molecule ending on line 371006\n",
      "RDKit ERROR: [15:11:17] ERROR: Can't kekulize mol.  Unkekulized atoms: 3 4 5 6 7\n",
      "RDKit ERROR: \n",
      "RDKit ERROR: [15:11:17] Can't kekulize mol.  Unkekulized atoms: 1 2 3 4 5 6 7 8 9\n",
      "RDKit ERROR: \n",
      "RDKit ERROR: [15:11:17] ERROR: Could not sanitize molecule ending on line 378618\n",
      "RDKit ERROR: [15:11:17] ERROR: Can't kekulize mol.  Unkekulized atoms: 1 2 3 4 5 6 7 8 9\n",
      "RDKit ERROR: \n",
      "RDKit ERROR: [15:11:17] Explicit valence for atom # 56 O, 3, is greater than permitted\n",
      "RDKit ERROR: [15:11:17] ERROR: Could not sanitize molecule ending on line 398455\n",
      "RDKit ERROR: [15:11:17] ERROR: Explicit valence for atom # 56 O, 3, is greater than permitted\n",
      "RDKit ERROR: [15:11:17] Can't kekulize mol.  Unkekulized atoms: 9 10 11 12 18\n",
      "RDKit ERROR: \n",
      "RDKit ERROR: [15:11:17] ERROR: Could not sanitize molecule ending on line 407765\n",
      "RDKit ERROR: [15:11:17] ERROR: Can't kekulize mol.  Unkekulized atoms: 9 10 11 12 18\n",
      "RDKit ERROR: \n",
      "RDKit ERROR: [15:11:17] Explicit valence for atom # 46 Mg, 4, is greater than permitted\n",
      "RDKit ERROR: [15:11:17] ERROR: Could not sanitize molecule ending on line 417941\n",
      "RDKit ERROR: [15:11:17] ERROR: Explicit valence for atom # 46 Mg, 4, is greater than permitted\n",
      "RDKit ERROR: [15:11:17] Can't kekulize mol.  Unkekulized atoms: 1 2 3 12 13 14 15 16 17\n",
      "RDKit ERROR: \n",
      "RDKit ERROR: [15:11:17] ERROR: Could not sanitize molecule ending on line 422810\n",
      "RDKit ERROR: [15:11:17] ERROR: Can't kekulize mol.  Unkekulized atoms: 1 2 3 12 13 14 15 16 17\n",
      "RDKit ERROR: \n",
      "RDKit ERROR: [15:11:17] Can't kekulize mol.  Unkekulized atoms: 44 45 46 47 49\n",
      "RDKit ERROR: \n",
      "RDKit ERROR: [15:11:17] ERROR: Could not sanitize molecule ending on line 425190\n",
      "RDKit ERROR: [15:11:17] ERROR: Can't kekulize mol.  Unkekulized atoms: 44 45 46 47 49\n",
      "RDKit ERROR: \n",
      "RDKit ERROR: [15:11:17] Explicit valence for atom # 8 N, 5, is greater than permitted\n",
      "RDKit ERROR: [15:11:17] ERROR: Could not sanitize molecule ending on line 426332\n",
      "RDKit ERROR: [15:11:17] ERROR: Explicit valence for atom # 8 N, 5, is greater than permitted\n",
      "RDKit ERROR: [15:11:17] Can't kekulize mol.  Unkekulized atoms: 54 55 56 57 58 59 60 61 62\n",
      "RDKit ERROR: \n",
      "RDKit ERROR: [15:11:17] ERROR: Could not sanitize molecule ending on line 427901\n",
      "RDKit ERROR: [15:11:17] ERROR: Can't kekulize mol.  Unkekulized atoms: 54 55 56 57 58 59 60 61 62\n",
      "RDKit ERROR: \n",
      "RDKit ERROR: [15:11:17] Can't kekulize mol.  Unkekulized atoms: 0 1 2 3 4 5 6 7 8\n",
      "RDKit ERROR: \n",
      "RDKit ERROR: [15:11:17] ERROR: Could not sanitize molecule ending on line 432118\n"
     ]
    },
    {
     "name": "stderr",
     "output_type": "stream",
     "text": [
      "RDKit ERROR: [15:11:17] ERROR: Can't kekulize mol.  Unkekulized atoms: 0 1 2 3 4 5 6 7 8\n",
      "RDKit ERROR: \n",
      "RDKit ERROR: [15:11:17] Can't kekulize mol.  Unkekulized atoms: 3 4 5 6 8 9 10\n",
      "RDKit ERROR: \n",
      "RDKit ERROR: [15:11:17] ERROR: Could not sanitize molecule ending on line 442989\n",
      "RDKit ERROR: [15:11:17] ERROR: Can't kekulize mol.  Unkekulized atoms: 3 4 5 6 8 9 10\n",
      "RDKit ERROR: \n",
      "RDKit ERROR: [15:11:17] Can't kekulize mol.  Unkekulized atoms: 3 4 5 6 9\n",
      "RDKit ERROR: \n",
      "RDKit ERROR: [15:11:17] ERROR: Could not sanitize molecule ending on line 447465\n",
      "RDKit ERROR: [15:11:17] ERROR: Can't kekulize mol.  Unkekulized atoms: 3 4 5 6 9\n",
      "RDKit ERROR: \n",
      "RDKit ERROR: [15:11:17] Can't kekulize mol.  Unkekulized atoms: 16 17 18 19 20\n",
      "RDKit ERROR: \n",
      "RDKit ERROR: [15:11:17] ERROR: Could not sanitize molecule ending on line 466177\n",
      "RDKit ERROR: [15:11:17] ERROR: Can't kekulize mol.  Unkekulized atoms: 16 17 18 19 20\n",
      "RDKit ERROR: \n",
      "RDKit ERROR: [15:11:17] Can't kekulize mol.  Unkekulized atoms: 7 8 9 10 17\n",
      "RDKit ERROR: \n",
      "RDKit ERROR: [15:11:17] ERROR: Could not sanitize molecule ending on line 468852\n",
      "RDKit ERROR: [15:11:17] ERROR: Can't kekulize mol.  Unkekulized atoms: 7 8 9 10 17\n",
      "RDKit ERROR: \n",
      "RDKit ERROR: [15:11:17] Can't kekulize mol.  Unkekulized atoms: 3 4 5 6 7 8 9 10 11\n",
      "RDKit ERROR: \n",
      "RDKit ERROR: [15:11:17] ERROR: Could not sanitize molecule ending on line 469201\n",
      "RDKit ERROR: [15:11:17] ERROR: Can't kekulize mol.  Unkekulized atoms: 3 4 5 6 7 8 9 10 11\n",
      "RDKit ERROR: \n",
      "RDKit ERROR: [15:11:17] Explicit valence for atom # 53 N, 4, is greater than permitted\n",
      "RDKit ERROR: [15:11:17] ERROR: Could not sanitize molecule ending on line 472285\n",
      "RDKit ERROR: [15:11:17] ERROR: Explicit valence for atom # 53 N, 4, is greater than permitted\n",
      "RDKit ERROR: [15:11:17] Can't kekulize mol.  Unkekulized atoms: 2 3 4 5 12\n",
      "RDKit ERROR: \n",
      "RDKit ERROR: [15:11:17] ERROR: Could not sanitize molecule ending on line 480504\n",
      "RDKit ERROR: [15:11:17] ERROR: Can't kekulize mol.  Unkekulized atoms: 2 3 4 5 12\n",
      "RDKit ERROR: \n",
      "RDKit ERROR: [15:11:17] Explicit valence for atom # 2 O, 3, is greater than permitted\n",
      "RDKit ERROR: [15:11:17] ERROR: Could not sanitize molecule ending on line 499305\n",
      "RDKit ERROR: [15:11:17] ERROR: Explicit valence for atom # 2 O, 3, is greater than permitted\n",
      "RDKit ERROR: [15:11:17] Can't kekulize mol.  Unkekulized atoms: 1 2 3 4 5 6 7 8 9\n",
      "RDKit ERROR: \n",
      "RDKit ERROR: [15:11:17] ERROR: Could not sanitize molecule ending on line 503342\n",
      "RDKit ERROR: [15:11:17] ERROR: Can't kekulize mol.  Unkekulized atoms: 1 2 3 4 5 6 7 8 9\n",
      "RDKit ERROR: \n",
      "RDKit ERROR: [15:11:17] Can't kekulize mol.  Unkekulized atoms: 0 1 2 4 5 6 7 8 9 10\n",
      "RDKit ERROR: \n",
      "RDKit ERROR: [15:11:17] ERROR: Could not sanitize molecule ending on line 508068\n",
      "RDKit ERROR: [15:11:17] ERROR: Can't kekulize mol.  Unkekulized atoms: 0 1 2 4 5 6 7 8 9 10\n",
      "RDKit ERROR: \n",
      "RDKit ERROR: [15:11:17] Can't kekulize mol.  Unkekulized atoms: 1 2 3 4 5 6 7 8 9\n",
      "RDKit ERROR: \n",
      "RDKit ERROR: [15:11:17] ERROR: Could not sanitize molecule ending on line 510069\n",
      "RDKit ERROR: [15:11:17] ERROR: Can't kekulize mol.  Unkekulized atoms: 1 2 3 4 5 6 7 8 9\n",
      "RDKit ERROR: \n",
      "RDKit ERROR: [15:11:17] Can't kekulize mol.  Unkekulized atoms: 3 4 5 6 7 8 10\n",
      "RDKit ERROR: \n",
      "RDKit ERROR: [15:11:17] ERROR: Could not sanitize molecule ending on line 511111\n",
      "RDKit ERROR: [15:11:17] ERROR: Can't kekulize mol.  Unkekulized atoms: 3 4 5 6 7 8 10\n",
      "RDKit ERROR: \n",
      "RDKit ERROR: [15:11:17] Can't kekulize mol.  Unkekulized atoms: 1 2 3 5 6 7 8 9 10\n",
      "RDKit ERROR: \n",
      "RDKit ERROR: [15:11:17] ERROR: Could not sanitize molecule ending on line 512030\n",
      "RDKit ERROR: [15:11:17] ERROR: Can't kekulize mol.  Unkekulized atoms: 1 2 3 5 6 7 8 9 10\n",
      "RDKit ERROR: \n",
      "RDKit ERROR: [15:11:17] Explicit valence for atom # 2 O, 3, is greater than permitted\n",
      "RDKit ERROR: [15:11:17] ERROR: Could not sanitize molecule ending on line 519056\n",
      "RDKit ERROR: [15:11:17] ERROR: Explicit valence for atom # 2 O, 3, is greater than permitted\n",
      "RDKit ERROR: [15:11:17] Explicit valence for atom # 6 B, 4, is greater than permitted\n",
      "RDKit ERROR: [15:11:17] ERROR: Could not sanitize molecule ending on line 541262\n",
      "RDKit ERROR: [15:11:17] ERROR: Explicit valence for atom # 6 B, 4, is greater than permitted\n",
      "RDKit ERROR: [15:11:17] Can't kekulize mol.  Unkekulized atoms: 2 3 17 19 20\n",
      "RDKit ERROR: \n",
      "RDKit ERROR: [15:11:17] ERROR: Could not sanitize molecule ending on line 557517\n",
      "RDKit ERROR: [15:11:17] ERROR: Can't kekulize mol.  Unkekulized atoms: 2 3 17 19 20\n",
      "RDKit ERROR: \n",
      "RDKit ERROR: [15:11:17] Can't kekulize mol.  Unkekulized atoms: 0 1 2 4 5 6 7 8 9 10\n",
      "RDKit ERROR: \n",
      "RDKit ERROR: [15:11:17] ERROR: Could not sanitize molecule ending on line 561344\n",
      "RDKit ERROR: [15:11:17] ERROR: Can't kekulize mol.  Unkekulized atoms: 0 1 2 4 5 6 7 8 9 10\n",
      "RDKit ERROR: \n",
      "RDKit ERROR: [15:11:17] Can't kekulize mol.  Unkekulized atoms: 10 11 12 13 19\n",
      "RDKit ERROR: \n",
      "RDKit ERROR: [15:11:17] ERROR: Could not sanitize molecule ending on line 562947\n",
      "RDKit ERROR: [15:11:17] ERROR: Can't kekulize mol.  Unkekulized atoms: 10 11 12 13 19\n",
      "RDKit ERROR: \n",
      "RDKit ERROR: [15:11:17] Explicit valence for atom # 27 N, 4, is greater than permitted\n",
      "RDKit ERROR: [15:11:17] ERROR: Could not sanitize molecule ending on line 567073\n",
      "RDKit ERROR: [15:11:17] ERROR: Explicit valence for atom # 27 N, 4, is greater than permitted\n",
      "RDKit ERROR: [15:11:17] Can't kekulize mol.  Unkekulized atoms: 9 10 11 12 13 14 15 16 17\n",
      "RDKit ERROR: \n",
      "RDKit ERROR: [15:11:17] ERROR: Could not sanitize molecule ending on line 568252\n",
      "RDKit ERROR: [15:11:17] ERROR: Can't kekulize mol.  Unkekulized atoms: 9 10 11 12 13 14 15 16 17\n",
      "RDKit ERROR: \n",
      "RDKit ERROR: [15:11:17] Can't kekulize mol.  Unkekulized atoms: 23 24 25 26 27\n",
      "RDKit ERROR: \n",
      "RDKit ERROR: [15:11:17] ERROR: Could not sanitize molecule ending on line 574645\n",
      "RDKit ERROR: [15:11:17] ERROR: Can't kekulize mol.  Unkekulized atoms: 23 24 25 26 27\n",
      "RDKit ERROR: \n",
      "RDKit ERROR: [15:11:17] Can't kekulize mol.  Unkekulized atoms: 5 6 7 8 9\n",
      "RDKit ERROR: \n",
      "RDKit ERROR: [15:11:17] ERROR: Could not sanitize molecule ending on line 592639\n",
      "RDKit ERROR: [15:11:17] ERROR: Can't kekulize mol.  Unkekulized atoms: 5 6 7 8 9\n",
      "RDKit ERROR: \n",
      "RDKit ERROR: [15:11:17] Explicit valence for atom # 12 N, 4, is greater than permitted\n",
      "RDKit ERROR: [15:11:17] ERROR: Could not sanitize molecule ending on line 595909\n",
      "RDKit ERROR: [15:11:17] ERROR: Explicit valence for atom # 12 N, 4, is greater than permitted\n",
      "RDKit ERROR: [15:11:17] Explicit valence for atom # 0 Br, 2, is greater than permitted\n",
      "RDKit ERROR: [15:11:17] ERROR: Could not sanitize molecule ending on line 599041\n",
      "RDKit ERROR: [15:11:17] ERROR: Explicit valence for atom # 0 Br, 2, is greater than permitted\n",
      "RDKit ERROR: [15:11:17] Explicit valence for atom # 1 N, 4, is greater than permitted\n",
      "RDKit ERROR: [15:11:17] ERROR: Could not sanitize molecule ending on line 601819\n",
      "RDKit ERROR: [15:11:17] ERROR: Explicit valence for atom # 1 N, 4, is greater than permitted\n",
      "RDKit ERROR: [15:11:17] Explicit valence for atom # 6 Be, 4, is greater than permitted\n",
      "RDKit ERROR: [15:11:17] ERROR: Could not sanitize molecule ending on line 604427\n",
      "RDKit ERROR: [15:11:17] ERROR: Explicit valence for atom # 6 Be, 4, is greater than permitted\n",
      "RDKit ERROR: [15:11:17] Can't kekulize mol.  Unkekulized atoms: 4 5 6 7 8 9 10 11 12\n",
      "RDKit ERROR: \n",
      "RDKit ERROR: [15:11:17] ERROR: Could not sanitize molecule ending on line 604912\n",
      "RDKit ERROR: [15:11:17] ERROR: Can't kekulize mol.  Unkekulized atoms: 4 5 6 7 8 9 10 11 12\n",
      "RDKit ERROR: \n",
      "RDKit ERROR: [15:11:17] Can't kekulize mol.  Unkekulized atoms: 5 6 7 8 9 10 11 12 13\n",
      "RDKit ERROR: \n",
      "RDKit ERROR: [15:11:17] ERROR: Could not sanitize molecule ending on line 616025\n",
      "RDKit ERROR: [15:11:17] ERROR: Can't kekulize mol.  Unkekulized atoms: 5 6 7 8 9 10 11 12 13\n",
      "RDKit ERROR: \n",
      "RDKit ERROR: [15:11:17] Can't kekulize mol.  Unkekulized atoms: 1 2 3 5 6 7 8 9 10\n",
      "RDKit ERROR: \n",
      "RDKit ERROR: [15:11:17] ERROR: Could not sanitize molecule ending on line 623202\n",
      "RDKit ERROR: [15:11:17] ERROR: Can't kekulize mol.  Unkekulized atoms: 1 2 3 5 6 7 8 9 10\n",
      "RDKit ERROR: \n",
      "RDKit ERROR: [15:11:17] Can't kekulize mol.  Unkekulized atoms: 5 6 7 8 9 10 11 12 13\n",
      "RDKit ERROR: \n",
      "RDKit ERROR: [15:11:17] ERROR: Could not sanitize molecule ending on line 628065\n",
      "RDKit ERROR: [15:11:17] ERROR: Can't kekulize mol.  Unkekulized atoms: 5 6 7 8 9 10 11 12 13\n",
      "RDKit ERROR: \n",
      "RDKit ERROR: [15:11:17] Explicit valence for atom # 19 N, 4, is greater than permitted\n",
      "RDKit ERROR: [15:11:17] ERROR: Could not sanitize molecule ending on line 636938\n",
      "RDKit ERROR: [15:11:17] ERROR: Explicit valence for atom # 19 N, 4, is greater than permitted\n",
      "RDKit ERROR: [15:11:17] Explicit valence for atom # 0 O, 3, is greater than permitted\n",
      "RDKit ERROR: [15:11:17] ERROR: Could not sanitize molecule ending on line 640674\n",
      "RDKit ERROR: [15:11:17] ERROR: Explicit valence for atom # 0 O, 3, is greater than permitted\n",
      "RDKit ERROR: [15:11:17] Explicit valence for atom # 17 Mg, 4, is greater than permitted\n",
      "RDKit ERROR: [15:11:17] ERROR: Could not sanitize molecule ending on line 642835\n",
      "RDKit ERROR: [15:11:17] ERROR: Explicit valence for atom # 17 Mg, 4, is greater than permitted\n",
      "RDKit ERROR: [15:11:17] Explicit valence for atom # 4 F, 2, is greater than permitted\n",
      "RDKit ERROR: [15:11:17] ERROR: Could not sanitize molecule ending on line 645068\n",
      "RDKit ERROR: [15:11:17] ERROR: Explicit valence for atom # 4 F, 2, is greater than permitted\n",
      "RDKit ERROR: [15:11:17] Can't kekulize mol.  Unkekulized atoms: 0 1 2 4 5 6 7 8 9 10\n",
      "RDKit ERROR: \n",
      "RDKit ERROR: [15:11:17] ERROR: Could not sanitize molecule ending on line 659994\n"
     ]
    },
    {
     "name": "stderr",
     "output_type": "stream",
     "text": [
      "RDKit ERROR: [15:11:17] ERROR: Can't kekulize mol.  Unkekulized atoms: 0 1 2 4 5 6 7 8 9 10\n",
      "RDKit ERROR: \n",
      "RDKit ERROR: [15:11:17]  Unhandled CTAB feature: S group SRU on line: 754017. Molecule skipped.\n",
      "RDKit ERROR: [15:11:18] Explicit valence for atom # 0 Be, 3, is greater than permitted\n",
      "RDKit ERROR: [15:11:18] ERROR: Could not sanitize molecule ending on line 995692\n"
     ]
    },
    {
     "name": "stdout",
     "output_type": "stream",
     "text": [
      "172446\n",
      "7180\n",
      "70\n"
     ]
    },
    {
     "name": "stderr",
     "output_type": "stream",
     "text": [
      "RDKit ERROR: [15:11:18] ERROR: Explicit valence for atom # 0 Be, 3, is greater than permitted\n",
      "RDKit ERROR: [15:11:18]  Unhandled CTAB feature: S group SRU on line: 1148513. Molecule skipped.\n",
      "RDKit ERROR: [15:11:18] Explicit valence for atom # 0 C greater than permitted\n",
      "RDKit ERROR: [15:11:18] ERROR: Could not sanitize molecule ending on line 1151592\n"
     ]
    }
   ],
   "source": [
    "count = 0\n",
    "atom_count = 0\n",
    "fail = 0\n",
    "working = []\n",
    "for x in suppl:\n",
    "    count+=1\n",
    "    try:\n",
    "        atom_count += x.GetNumAtoms()\n",
    "        working.append(x)\n",
    "    except:\n",
    "        fail += 1\n",
    "print(\"pocet zaznamu v drugbank filu\", count)\n",
    "print(\"pocet failnutejch zaznamul)\n",
    "print(count)\n"
   ]
  },
  {
   "cell_type": "code",
   "execution_count": 10,
   "metadata": {},
   "outputs": [
    {
     "name": "stdout",
     "output_type": "stream",
     "text": [
      "172446\n"
     ]
    }
   ],
   "source": [
    "atom_count = 0\n",
    "for x in working:\n",
    "        atom_count += x.GetNumAtoms()\n",
    "print(atom_count)"
   ]
  },
  {
   "cell_type": "markdown",
   "metadata": {},
   "source": [
    "#### Prumerny pocet aromatickych a nearomatickych kruhu"
   ]
  },
  {
   "cell_type": "code",
   "execution_count": 30,
   "metadata": {},
   "outputs": [
    {
     "data": {
      "text/plain": [
       "1"
      ]
     },
     "execution_count": 30,
     "metadata": {},
     "output_type": "execute_result"
    }
   ],
   "source": [
    "m = Chem.MolFromSmiles(\"C1=CC=C2C(=C1)C(=CN2)CC(C(=O)O)N\")\n",
    "rings = 0\n",
    "aro_rings = 0\n",
    "rings = m.GetRingInfo.AtomRings()\n",
    "for ring in rings()\n",
    "    atom.is\n",
    "n.GetRingInfo().NumRings()\n",
    "# rinfo = n.GetRingInfo()\n",
    "# rinfo\n",
    "# rinfo.AtomRings()\n",
    "# a = n.GetAtomWithIdx(0)\n",
    "# a.GetIsAromatic()"
   ]
  },
  {
   "cell_type": "code",
   "execution_count": null,
   "metadata": {},
   "outputs": [],
   "source": []
  },
  {
   "cell_type": "markdown",
   "metadata": {},
   "source": [
    "#### Predelat SDF soubor na soubor, ve kterym je to ulozeny ve SMILES, jako identifikator mit prislusny InChIKey"
   ]
  },
  {
   "cell_type": "markdown",
   "metadata": {},
   "source": [
    "1. Pak to dat v gitu jako update? nevim jak\n",
    "2. nejdriv git pull, mozna se predtim budu muset hrabat v git configu: git config\n",
    "3. zacnu na necem pracovat\n",
    "4. na konci zase git pull, kouknu se, jestli tam je nejakej konflikt\n",
    "5. nastavit nejakej normalni textovej editor v gitu\n",
    "6. pred commitem git add, tzn zmeny chceme dat do dalsi verze\n",
    "7. udelam commit\n",
    "8. pak to nahraju na server, tzn git push"
   ]
  },
  {
   "cell_type": "code",
   "execution_count": null,
   "metadata": {},
   "outputs": [],
   "source": []
  }
 ],
 "metadata": {
  "kernelspec": {
   "display_name": "Python 3",
   "language": "python",
   "name": "python3"
  },
  "language_info": {
   "codemirror_mode": {
    "name": "ipython",
    "version": 3
   },
   "file_extension": ".py",
   "mimetype": "text/x-python",
   "name": "python",
   "nbconvert_exporter": "python",
   "pygments_lexer": "ipython3",
   "version": "3.6.5"
  }
 },
 "nbformat": 4,
 "nbformat_minor": 2
}
