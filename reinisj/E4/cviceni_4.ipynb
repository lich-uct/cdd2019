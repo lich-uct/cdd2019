{
 "cells": [
  {
   "cell_type": "markdown",
   "metadata": {},
   "source": [
    "# Počítačový návrh léčiv, 4. cvičení\n",
    "Jiří Reiniš"
   ]
  },
  {
   "cell_type": "markdown",
   "metadata": {},
   "source": [
    "\"na tomto cviceni si budeme hrat s fingerprinty/patterny a jejich hashovanim\""
   ]
  },
  {
   "cell_type": "code",
   "execution_count": 1,
   "metadata": {},
   "outputs": [],
   "source": [
    "from rdkit.Chem import AllChem as Chem\n",
    "from rdkit.Chem import Draw"
   ]
  },
  {
   "cell_type": "code",
   "execution_count": 2,
   "metadata": {},
   "outputs": [],
   "source": [
    "suppl = Chem.SDMolSupplier(\"../../data/drugbank.sdf\")\n",
    "drugbank = [m for m in suppl if m]"
   ]
  },
  {
   "cell_type": "markdown",
   "metadata": {},
   "source": [
    "jak to funguje:\n",
    "1. postupne udelame patterny, ktery jsou v dany molekule\n",
    "2. prekodujou se na cisla\n",
    "3. cisla se zahashujou\n"
   ]
  },
  {
   "cell_type": "code",
   "execution_count": 3,
   "metadata": {},
   "outputs": [],
   "source": [
    "morgan_fps = [Chem.GetMorganFingerprintAsBitVect(m, 2, nBits=512) for m in drugbank]"
   ]
  },
  {
   "cell_type": "code",
   "execution_count": 4,
   "metadata": {},
   "outputs": [
    {
     "data": {
      "text/plain": [
       "(7110,\n",
       " [<rdkit.DataStructs.cDataStructs.ExplicitBitVect at 0x7faa8f8c8ad0>,\n",
       "  <rdkit.DataStructs.cDataStructs.ExplicitBitVect at 0x7faa8f6c01c0>,\n",
       "  <rdkit.DataStructs.cDataStructs.ExplicitBitVect at 0x7faa8f6c0170>,\n",
       "  <rdkit.DataStructs.cDataStructs.ExplicitBitVect at 0x7faa8f6c0210>,\n",
       "  <rdkit.DataStructs.cDataStructs.ExplicitBitVect at 0x7faa8f6c0260>,\n",
       "  <rdkit.DataStructs.cDataStructs.ExplicitBitVect at 0x7faa8f6c02b0>,\n",
       "  <rdkit.DataStructs.cDataStructs.ExplicitBitVect at 0x7faa8f6c0300>,\n",
       "  <rdkit.DataStructs.cDataStructs.ExplicitBitVect at 0x7faa8f6c0350>,\n",
       "  <rdkit.DataStructs.cDataStructs.ExplicitBitVect at 0x7faa8f6c03a0>,\n",
       "  <rdkit.DataStructs.cDataStructs.ExplicitBitVect at 0x7faa8f6c03f0>])"
      ]
     },
     "execution_count": 4,
     "metadata": {},
     "output_type": "execute_result"
    }
   ],
   "source": [
    "len(morgan_fps), morgan_fps[0:10]"
   ]
  },
  {
   "cell_type": "code",
   "execution_count": 5,
   "metadata": {},
   "outputs": [
    {
     "data": {
      "text/plain": [
       "{1,\n",
       " 3,\n",
       " 13,\n",
       " 22,\n",
       " 33,\n",
       " 56,\n",
       " 64,\n",
       " 80,\n",
       " 113,\n",
       " 116,\n",
       " 138,\n",
       " 144,\n",
       " 147,\n",
       " 165,\n",
       " 175,\n",
       " 183,\n",
       " 214,\n",
       " 235,\n",
       " 247,\n",
       " 252,\n",
       " 274,\n",
       " 283,\n",
       " 295,\n",
       " 316,\n",
       " 321,\n",
       " 337,\n",
       " 356,\n",
       " 369,\n",
       " 371,\n",
       " 381,\n",
       " 401,\n",
       " 412,\n",
       " 414,\n",
       " 428,\n",
       " 440,\n",
       " 441,\n",
       " 456,\n",
       " 457,\n",
       " 507}"
      ]
     },
     "execution_count": 5,
     "metadata": {},
     "output_type": "execute_result"
    }
   ],
   "source": [
    "set(morgan_fps[666].GetOnBits())"
   ]
  },
  {
   "cell_type": "markdown",
   "metadata": {},
   "source": [
    "\"nevyhodou fingerprintu je nemoznost primocare jednoduche interpretace\""
   ]
  },
  {
   "cell_type": "code",
   "execution_count": 6,
   "metadata": {},
   "outputs": [
    {
     "data": {
      "image/png": "[encoded data removed]",
      "text/plain": [
       "<PIL.Image.Image image mode=RGB size=300x300 at 0x7FAA8F60AF98>"
      ]
     },
     "execution_count": 6,
     "metadata": {},
     "output_type": "execute_result"
    }
   ],
   "source": [
    "Draw.MolToImage(drugbank[666])"
   ]
  },
  {
   "cell_type": "code",
   "execution_count": 7,
   "metadata": {},
   "outputs": [
    {
     "data": {
      "text/plain": [
       "38"
      ]
     },
     "execution_count": 7,
     "metadata": {},
     "output_type": "execute_result"
    }
   ],
   "source": [
    "devil_fp = Chem.GetMorganFingerprintAsBitVect(drugbank[666], 2, nBits=256)\n",
    "len(devil_fp.GetOnBits())"
   ]
  },
  {
   "cell_type": "code",
   "execution_count": 8,
   "metadata": {},
   "outputs": [
    {
     "data": {
      "text/plain": [
       "39"
      ]
     },
     "execution_count": 8,
     "metadata": {},
     "output_type": "execute_result"
    }
   ],
   "source": [
    "devil_fp = Chem.GetMorganFingerprintAsBitVect(drugbank[666], 2, nBits=512)\n",
    "len(devil_fp.GetOnBits())"
   ]
  },
  {
   "cell_type": "code",
   "execution_count": 9,
   "metadata": {},
   "outputs": [
    {
     "data": {
      "text/plain": [
       "39"
      ]
     },
     "execution_count": 9,
     "metadata": {},
     "output_type": "execute_result"
    }
   ],
   "source": [
    "devil_fp = Chem.GetMorganFingerprintAsBitVect(drugbank[666], 2, nBits=1024)\n",
    "len(devil_fp.GetOnBits())"
   ]
  },
  {
   "cell_type": "code",
   "execution_count": 10,
   "metadata": {},
   "outputs": [
    {
     "data": {
      "text/plain": [
       "39"
      ]
     },
     "execution_count": 10,
     "metadata": {},
     "output_type": "execute_result"
    }
   ],
   "source": [
    "devil_fp = Chem.GetMorganFingerprintAsBitVect(drugbank[666], 2, nBits=2048)\n",
    "len(devil_fp.GetOnBits())"
   ]
  },
  {
   "cell_type": "markdown",
   "metadata": {},
   "source": [
    "Nyni se podivame, jak huste jsou zaplnene bity, kdyz ruzne menime parametry hashovani a vyberu fingerprintu"
   ]
  },
  {
   "cell_type": "code",
   "execution_count": 13,
   "metadata": {},
   "outputs": [],
   "source": [
    "morgan_fps_2_256  = [Chem.GetMorganFingerprintAsBitVect(m, 2, nBits=256) for m in drugbank]\n",
    "morgan_fps_2_512  = [Chem.GetMorganFingerprintAsBitVect(m, 2, nBits=512) for m in drugbank]\n",
    "morgan_fps_2_1024 = [Chem.GetMorganFingerprintAsBitVect(m, 2, nBits=1024) for m in drugbank]\n",
    "morgan_fps_2_2048 = [Chem.GetMorganFingerprintAsBitVect(m, 2, nBits=2048) for m in drugbank]\n",
    "morgan_fps_3_256  = [Chem.GetMorganFingerprintAsBitVect(m, 3, nBits=256) for m in drugbank]\n",
    "morgan_fps_3_512  = [Chem.GetMorganFingerprintAsBitVect(m, 3, nBits=512) for m in drugbank]\n",
    "morgan_fps_3_1024 = [Chem.GetMorganFingerprintAsBitVect(m, 3, nBits=1024) for m in drugbank]\n",
    "morgan_fps_3_2048 = [Chem.GetMorganFingerprintAsBitVect(m, 3, nBits=2048) for m in drugbank]"
   ]
  },
  {
   "cell_type": "code",
   "execution_count": 14,
   "metadata": {},
   "outputs": [],
   "source": [
    "def fingerprint_density(fps):\n",
    "    sum_on_bit_density = sum((len(fp.GetOnBits()) / fp.GetNumBits() for fp in fps))\n",
    "    average_on_bit_density = sum_on_bit_density / len(fps)\n",
    "    return average_on_bit_density"
   ]
  },
  {
   "cell_type": "code",
   "execution_count": 15,
   "metadata": {},
   "outputs": [],
   "source": [
    "densities = [fingerprint_density(fps) for fps in (morgan_fps_2_256, morgan_fps_2_512, morgan_fps_2_1024, morgan_fps_2_2048,\n",
    "                                                  morgan_fps_3_256, morgan_fps_3_512, morgan_fps_3_1024, morgan_fps_3_2048)]"
   ]
  },
  {
   "cell_type": "code",
   "execution_count": 16,
   "metadata": {},
   "outputs": [],
   "source": [
    "avg_on_bits = [x * y for x, y in zip(densities, (256, 512, 1024, 2048, 256, 512, 1024, 2048))]"
   ]
  },
  {
   "cell_type": "code",
   "execution_count": 17,
   "metadata": {},
   "outputs": [
    {
     "data": {
      "text/plain": [
       "[37.31870604781997,\n",
       " 38.8943741209564,\n",
       " 39.7985935302391,\n",
       " 40.2760900140647,\n",
       " 48.55133614627285,\n",
       " 51.54992967651196,\n",
       " 53.21701828410689,\n",
       " 54.10450070323488]"
      ]
     },
     "execution_count": 17,
     "metadata": {},
     "output_type": "execute_result"
    }
   ],
   "source": [
    "avg_on_bits"
   ]
  },
  {
   "cell_type": "code",
   "execution_count": null,
   "metadata": {},
   "outputs": [],
   "source": [
    "[0,2,3]*2"
   ]
  },
  {
   "cell_type": "markdown",
   "metadata": {},
   "source": [
    "#### Nyni si vysvetlime fingerprinty na jedne molekule"
   ]
  },
  {
   "cell_type": "code",
   "execution_count": 21,
   "metadata": {},
   "outputs": [
    {
     "data": {
      "text/plain": [
       "{1: ((4, 0), (5, 0)),\n",
       " 3: ((15, 1), (16, 1)),\n",
       " 13: ((12, 1),),\n",
       " 22: ((14, 1),),\n",
       " 33: ((7, 0), (8, 0), (9, 0), (10, 0), (11, 0)),\n",
       " 56: ((14, 2),),\n",
       " 64: ((23, 1), (25, 1), (24, 1), (26, 1)),\n",
       " 80: ((6, 0), (12, 0)),\n",
       " 113: ((3, 2),),\n",
       " 116: ((7, 1),),\n",
       " 138: ((2, 0),),\n",
       " 144: ((1, 0),),\n",
       " 147: ((0, 1),),\n",
       " 165: ((17, 2), (18, 2)),\n",
       " 175: ((23, 2), (25, 2), (24, 2), (26, 2)),\n",
       " 183: ((0, 0),),\n",
       " 214: ((19, 1), (20, 1), (21, 1), (22, 1)),\n",
       " 235: ((13, 1),),\n",
       " 247: ((1, 2),),\n",
       " 252: ((0, 2),),\n",
       " 274: ((1, 1),),\n",
       " 283: ((8, 1), (9, 1), (10, 1), (11, 1)),\n",
       " 295: ((14, 0),),\n",
       " 316: ((13, 2),),\n",
       " 321: ((6, 2),),\n",
       " 337: ((19, 0), (20, 0), (21, 0), (22, 0), (23, 0), (24, 0), (25, 0), (26, 0)),\n",
       " 356: ((15, 0), (16, 0), (17, 0), (18, 0)),\n",
       " 369: ((17, 1), (18, 1)),\n",
       " 371: ((19, 2), (20, 2)),\n",
       " 381: ((2, 1),),\n",
       " 401: ((6, 1),),\n",
       " 412: ((3, 1),),\n",
       " 414: ((3, 0),),\n",
       " 428: ((12, 2),),\n",
       " 440: ((4, 2), (5, 2)),\n",
       " 441: ((15, 2), (16, 2)),\n",
       " 456: ((4, 1), (5, 1)),\n",
       " 457: ((21, 2), (22, 2)),\n",
       " 507: ((13, 0),)}"
      ]
     },
     "execution_count": 21,
     "metadata": {},
     "output_type": "execute_result"
    }
   ],
   "source": [
    "bitinfo = {}\n",
    "Chem.GetMorganFingerprintAsBitVect(drugbank[666], 2, nBits=512, bitInfo=bitinfo)\n",
    "bitinfo"
   ]
  },
  {
   "cell_type": "code",
   "execution_count": 23,
   "metadata": {},
   "outputs": [],
   "source": [
    "def bit2smiles(mol, bit):\n",
    "    bitinfo = {}\n",
    "    Chem.GetMorganFingerprintAsBitVect(mol, 2, nBits=512, bitInfo=bitinfo)\n",
    "    fragments = set()\n",
    "    for hit, radius in bitinfo.get(bit, []):\n",
    "        if radius > 0:\n",
    "            hit_atoms = Chem.FindAtomEnvironmentOfRadiusN(mol, radius, hit)\n",
    "            submol = Chem.PathToSubmol(mol, hit_atoms)\n",
    "            fragment_smiles = Chem.MolToSmiles(submol)\n",
    "        else:\n",
    "            fragment_smiles = mol.GetAtomWithIdx(hit).GetSymbol()\n",
    "        fragments.add(fragment_smiles)\n",
    "    return fragments"
   ]
  },
  {
   "cell_type": "code",
   "execution_count": 28,
   "metadata": {},
   "outputs": [
    {
     "name": "stdout",
     "output_type": "stream",
     "text": [
      "{'COCC[NH3+]'}\n",
      "{'C'}\n",
      "{'C[N+](C)(C)C'}\n"
     ]
    }
   ],
   "source": [
    "print(bit2smiles(drugbank[666], 428))\n",
    "print(bit2smiles(drugbank[666], 337))\n",
    "print(bit2smiles(drugbank[666], 412))\n"
   ]
  },
  {
   "cell_type": "code",
   "execution_count": 34,
   "metadata": {},
   "outputs": [
    {
     "data": {
      "image/png": "[encoded data removed]",
      "text/plain": [
       "<PIL.PngImagePlugin.PngImageFile image mode=RGB size=150x150 at 0x7FAA8E0037B8>"
      ]
     },
     "metadata": {},
     "output_type": "display_data"
    },
    {
     "data": {
      "image/png": "[encoded data removed]",
      "text/plain": [
       "<PIL.PngImagePlugin.PngImageFile image mode=RGB size=150x150 at 0x7FAA8E003208>"
      ]
     },
     "metadata": {},
     "output_type": "display_data"
    },
    {
     "data": {
      "image/png": "[encoded data removed]",
      "text/plain": [
       "<PIL.PngImagePlugin.PngImageFile image mode=RGB size=150x150 at 0x7FAA8E0037F0>"
      ]
     },
     "metadata": {},
     "output_type": "display_data"
    }
   ],
   "source": [
    "from rdkit.Chem.Draw import IPythonConsole\n",
    "display(Draw.DrawMorganBit(drugbank[666], 337, bitinfo))\n",
    "display(Draw.DrawMorganBit(drugbank[666], 428, bitinfo))\n",
    "display(Draw.DrawMorganBit(drugbank[666], 441, bitinfo))"
   ]
  },
  {
   "cell_type": "markdown",
   "metadata": {},
   "source": [
    "Ted si budeme hrat s Tanimoto distance"
   ]
  },
  {
   "cell_type": "code",
   "execution_count": 35,
   "metadata": {},
   "outputs": [],
   "source": [
    "morgan_fps = [Chem.GetMorganFingerprintAsBitVect(m, 2, nBits=1024) for m in drugbank]"
   ]
  },
  {
   "cell_type": "code",
   "execution_count": 36,
   "metadata": {},
   "outputs": [],
   "source": [
    "def tanimoto_similarity(fp1, fp2):\n",
    "    fp1_on_bits = set(fp1.GetOnBits())\n",
    "    fp2_on_bits = set(fp2.GetOnBits())\n",
    "    all_bits = fp1_on_bits.union(fp2_on_bits)\n",
    "    shared_bits = fp1_on_bits.intersection(fp2_on_bits)\n",
    "    if not all_bits:\n",
    "        raise ValueError('nope')\n",
    "    return len(shared_bits) / len(all_bits)"
   ]
  },
  {
   "cell_type": "code",
   "execution_count": 37,
   "metadata": {},
   "outputs": [
    {
     "data": {
      "text/plain": [
       "0.14516129032258066"
      ]
     },
     "execution_count": 37,
     "metadata": {},
     "output_type": "execute_result"
    }
   ],
   "source": [
    "tanimoto_similarity(morgan_fps[0],morgan_fps[666])"
   ]
  },
  {
   "cell_type": "code",
   "execution_count": null,
   "metadata": {},
   "outputs": [],
   "source": []
  }
 ],
 "metadata": {
  "kernelspec": {
   "display_name": "Python 3",
   "language": "python",
   "name": "python3"
  },
  "language_info": {
   "codemirror_mode": {
    "name": "ipython",
    "version": 3
   },
   "file_extension": ".py",
   "mimetype": "text/x-python",
   "name": "python",
   "nbconvert_exporter": "python",
   "pygments_lexer": "ipython3",
   "version": "3.6.5"
  }
 },
 "nbformat": 4,
 "nbformat_minor": 2
}
