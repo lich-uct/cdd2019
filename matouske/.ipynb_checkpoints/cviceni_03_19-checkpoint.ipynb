{
 "cells": [
  {
   "cell_type": "markdown",
   "metadata": {},
   "source": [
    "# 1. Hashovane fingerprinty\n",
    "- napocitani fingerprintu\n",
    "- porovnani bitove hustoty\n",
    "- zjisteni, co nastavuje dany bit\n",
    "- podobnost fingerprintu"
   ]
  },
  {
   "cell_type": "markdown",
   "metadata": {},
   "source": [
    "## Napocitani fingerprintu\n",
    "obdobne jako MACCs keys"
   ]
  },
  {
   "cell_type": "code",
   "execution_count": 72,
   "metadata": {},
   "outputs": [],
   "source": [
    "#from rdkit import Chem\n",
    "#from rdkit.Chem import AllChem\n",
    "from rdkit.Chem import AllChem as Chem #AllChem sada vsech funkci, ted se to bude chovat jako Chem\n",
    "\n",
    "from rdkit.Chem import Draw\n",
    "from rdkit.Chem import MACCSkeys\n",
    "from rdkit.Chem.Draw import IPythonConsole #aby fungovalo: Draw.DrawMorganBit"
   ]
  },
  {
   "cell_type": "code",
   "execution_count": 5,
   "metadata": {},
   "outputs": [],
   "source": [
    "suppl = Chem.SDMolSupplier('../data/drugbank.sdf')\n",
    "drugbank = [m for m in suppl if m]"
   ]
  },
  {
   "cell_type": "markdown",
   "metadata": {},
   "source": [
    "- vsechny fragmenty,ktere si navolime podle typu fingerprintu -> deterministicky vyhodnotime jako cisla -> bit\n",
    "- struktura -> na fragmenty -> kazdemu fragmentu priradi cislo -> hashovani na bit string urcite delky (casto Morganovy a ?)\n",
    "- fragment: zakladni -> rozsirovani o sousedni ... fragmenty do urcite vzdalenosti od urciteho atomu\n",
    "- vsechny fragmenty definovane velikosti se ve fingerprintu odrazi,jsou povolene kolize\n",
    "- viz: https://docs.chemaxon.com/display/docs/Chemical+Hashed+Fingerprint \n",
    "- cim vic fragmentu, tim jsou fingerprinty hustsi, tim vetsi sance kolizi (pri urcite delce)\n",
    "- cim delsi, tim mene kolizi, ale vice pameti a prostredku na zpracovani\n",
    "- obsahuje vsechny informace v molekule"
   ]
  },
  {
   "cell_type": "code",
   "execution_count": 57,
   "metadata": {},
   "outputs": [],
   "source": [
    "#napocitani Morganovych fingerprintu:\n",
    "morgan_fps = [Chem.GetMorganFingerprintAsBitVect(m, 2, nBits=1024) for m in drugbank]\n",
    "#2 ... struktura: centralni atom (nulovy ... jen ten atom) + okoli 1 + okoli 2 => jak daleko se divam od atomu + cirkularni (od 0 po 2)\n",
    "#okoli 0 + nastaveni bitu -> okoli 1 + nastaveni bitu -> okoli 2 + nastaveni bitu atd.\n",
    "#stejne fragmenty (i z jineho atomu) -> kolize uvnitr\n",
    "\n",
    "# => obdoba MACCs keys"
   ]
  },
  {
   "cell_type": "code",
   "execution_count": 7,
   "metadata": {},
   "outputs": [
    {
     "data": {
      "text/plain": [
       "7110"
      ]
     },
     "execution_count": 7,
     "metadata": {},
     "output_type": "execute_result"
    }
   ],
   "source": [
    "len(morgan_fps)"
   ]
  },
  {
   "cell_type": "code",
   "execution_count": 8,
   "metadata": {},
   "outputs": [
    {
     "data": {
      "text/plain": [
       "{1,\n",
       " 3,\n",
       " 13,\n",
       " 33,\n",
       " 64,\n",
       " 80,\n",
       " 147,\n",
       " 175,\n",
       " 283,\n",
       " 316,\n",
       " 356,\n",
       " 371,\n",
       " 414,\n",
       " 428,\n",
       " 457,\n",
       " 534,\n",
       " 568,\n",
       " 625,\n",
       " 628,\n",
       " 650,\n",
       " 656,\n",
       " 677,\n",
       " 695,\n",
       " 726,\n",
       " 747,\n",
       " 759,\n",
       " 764,\n",
       " 786,\n",
       " 807,\n",
       " 833,\n",
       " 849,\n",
       " 881,\n",
       " 893,\n",
       " 913,\n",
       " 924,\n",
       " 952,\n",
       " 953,\n",
       " 968,\n",
       " 1019}"
      ]
     },
     "execution_count": 8,
     "metadata": {},
     "output_type": "execute_result"
    }
   ],
   "source": [
    "set(morgan_fps[666].GetOnBits())"
   ]
  },
  {
   "cell_type": "code",
   "execution_count": 10,
   "metadata": {},
   "outputs": [
    {
     "data": {
      "text/plain": [
       "39"
      ]
     },
     "execution_count": 10,
     "metadata": {},
     "output_type": "execute_result"
    }
   ],
   "source": [
    "len(set(morgan_fps[666].GetOnBits()))\n",
    "# 39 ruznych fragmentu\n",
    "# ale nepostavime z nich molekulu"
   ]
  },
  {
   "cell_type": "code",
   "execution_count": 14,
   "metadata": {},
   "outputs": [
    {
     "data": {
      "image/png": "[encoded data removed]",
      "text/plain": [
       "<PIL.Image.Image image mode=RGB size=300x300 at 0x7F2D3215AFD0>"
      ]
     },
     "execution_count": 14,
     "metadata": {},
     "output_type": "execute_result"
    }
   ],
   "source": [
    "Draw.MolToImage(drugbank[666])"
   ]
  },
  {
   "cell_type": "code",
   "execution_count": 26,
   "metadata": {},
   "outputs": [],
   "source": [
    "devil_fp = Chem.GetMorganFingerprintAsBitVect(drugbank[666], 2, nBits=512)"
   ]
  },
  {
   "cell_type": "code",
   "execution_count": 27,
   "metadata": {},
   "outputs": [
    {
     "name": "stdout",
     "output_type": "stream",
     "text": [
      "delka: 39\n"
     ]
    },
    {
     "data": {
      "text/plain": [
       "{1,\n",
       " 3,\n",
       " 13,\n",
       " 22,\n",
       " 33,\n",
       " 56,\n",
       " 64,\n",
       " 80,\n",
       " 113,\n",
       " 116,\n",
       " 138,\n",
       " 144,\n",
       " 147,\n",
       " 165,\n",
       " 175,\n",
       " 183,\n",
       " 214,\n",
       " 235,\n",
       " 247,\n",
       " 252,\n",
       " 274,\n",
       " 283,\n",
       " 295,\n",
       " 316,\n",
       " 321,\n",
       " 337,\n",
       " 356,\n",
       " 369,\n",
       " 371,\n",
       " 381,\n",
       " 401,\n",
       " 412,\n",
       " 414,\n",
       " 428,\n",
       " 440,\n",
       " 441,\n",
       " 456,\n",
       " 457,\n",
       " 507}"
      ]
     },
     "execution_count": 27,
     "metadata": {},
     "output_type": "execute_result"
    }
   ],
   "source": [
    "print('delka:', len(set(devil_fp.GetOnBits())))\n",
    "#stale bez kolize\n",
    "\n",
    "set(devil_fp.GetOnBits())"
   ]
  },
  {
   "cell_type": "code",
   "execution_count": 23,
   "metadata": {},
   "outputs": [],
   "source": [
    "devil_fp_10 = Chem.GetMorganFingerprintAsBitVect(drugbank[666], 2, nBits=10)"
   ]
  },
  {
   "cell_type": "code",
   "execution_count": 28,
   "metadata": {},
   "outputs": [
    {
     "name": "stdout",
     "output_type": "stream",
     "text": [
      "delka: 10\n"
     ]
    },
    {
     "data": {
      "text/plain": [
       "{0, 1, 2, 3, 4, 5, 6, 7, 8, 9}"
      ]
     },
     "execution_count": 28,
     "metadata": {},
     "output_type": "execute_result"
    }
   ],
   "source": [
    "print('delka:', len(set(devil_fp_10.GetOnBits())))\n",
    "#obsazena informace je nesmyslna\n",
    "#prilis male fingerprinty\n",
    "\n",
    "set(devil_fp_10.GetOnBits())"
   ]
  },
  {
   "cell_type": "code",
   "execution_count": 31,
   "metadata": {},
   "outputs": [],
   "source": [
    "devil_fp = Chem.GetMorganFingerprintAsBitVect(drugbank[666], 2, nBits=10000)"
   ]
  },
  {
   "cell_type": "code",
   "execution_count": 32,
   "metadata": {},
   "outputs": [
    {
     "name": "stdout",
     "output_type": "stream",
     "text": [
      "delka: 39\n"
     ]
    },
    {
     "data": {
      "text/plain": [
       "{18,\n",
       " 348,\n",
       " 708,\n",
       " 875,\n",
       " 1313,\n",
       " 1977,\n",
       " 2216,\n",
       " 2611,\n",
       " 2730,\n",
       " 2881,\n",
       " 2940,\n",
       " 3601,\n",
       " 3781,\n",
       " 3787,\n",
       " 3969,\n",
       " 3984,\n",
       " 4272,\n",
       " 4487,\n",
       " 5027,\n",
       " 5576,\n",
       " 5955,\n",
       " 6017,\n",
       " 6070,\n",
       " 6502,\n",
       " 6729,\n",
       " 6844,\n",
       " 6991,\n",
       " 7409,\n",
       " 7421,\n",
       " 7552,\n",
       " 7688,\n",
       " 7724,\n",
       " 7764,\n",
       " 8189,\n",
       " 8334,\n",
       " 8407,\n",
       " 8737,\n",
       " 9515,\n",
       " 9815}"
      ]
     },
     "execution_count": 32,
     "metadata": {},
     "output_type": "execute_result"
    }
   ],
   "source": [
    "print('delka:', len(set(devil_fp.GetOnBits())))\n",
    "#stale jich je 39,bez zisku dalsi informace\n",
    "# -> DB reprezentovana fingerprintem, u hashovanych lze pridat/ubrat siri informace\n",
    "\n",
    "set(devil_fp.GetOnBits())"
   ]
  },
  {
   "cell_type": "markdown",
   "metadata": {},
   "source": [
    "## Porovnani bitove hustoty \n",
    "- u drugbank"
   ]
  },
  {
   "cell_type": "code",
   "execution_count": 38,
   "metadata": {},
   "outputs": [],
   "source": [
    "morgan_fps_2_1024 = [Chem.GetMorganFingerprintAsBitVect(m, 2, nBits=1024) for m in drugbank]\n",
    "morgan_fps_2_512 = [Chem.GetMorganFingerprintAsBitVect(m, 2, nBits=512) for m in drugbank]\n",
    "morgan_fps_2_2048 = [Chem.GetMorganFingerprintAsBitVect(m, 2, nBits=2048) for m in drugbank]\n",
    "\n",
    "morgan_fps_3_1024 = [Chem.GetMorganFingerprintAsBitVect(m, 3, nBits=1024) for m in drugbank]\n",
    "morgan_fps_3_512 = [Chem.GetMorganFingerprintAsBitVect(m, 3, nBits=512) for m in drugbank]\n",
    "morgan_fps_3_2048 = [Chem.GetMorganFingerprintAsBitVect(m, 3, nBits=2048) for m in drugbank]"
   ]
  },
  {
   "cell_type": "code",
   "execution_count": 46,
   "metadata": {},
   "outputs": [],
   "source": [
    "def fingerprint_density(fps):\n",
    "    sum_on_bit_density = sum((len(fp.GetOnBits())/fp.GetNumBits() for fp in fps))\n",
    "    average_on_bit_density = sum_on_bit_density/len(fps)\n",
    "    return average_on_bit_density"
   ]
  },
  {
   "cell_type": "code",
   "execution_count": 47,
   "metadata": {},
   "outputs": [],
   "source": [
    "    densities = [fingerprint_density(fps) for fps in (morgan_fps_2_512, morgan_fps_2_1024,morgan_fps_2_2048,morgan_fps_3_512, morgan_fps_3_1024,morgan_fps_3_2048)]"
   ]
  },
  {
   "cell_type": "code",
   "execution_count": 48,
   "metadata": {},
   "outputs": [
    {
     "data": {
      "text/plain": [
       "[0.07596557445499297,\n",
       " 0.038865813994374124,\n",
       " 0.01966605957718003,\n",
       " 0.10068345639943742,\n",
       " 0.05196974441807314,\n",
       " 0.026418213234001408]"
      ]
     },
     "execution_count": 48,
     "metadata": {},
     "output_type": "execute_result"
    }
   ],
   "source": [
    "densities"
   ]
  },
  {
   "cell_type": "code",
   "execution_count": 49,
   "metadata": {},
   "outputs": [
    {
     "data": {
      "text/plain": [
       "[38.8943741209564,\n",
       " 39.7985935302391,\n",
       " 40.2760900140647,\n",
       " 51.54992967651196,\n",
       " 53.21701828410689,\n",
       " 54.10450070323488]"
      ]
     },
     "execution_count": 49,
     "metadata": {},
     "output_type": "execute_result"
    }
   ],
   "source": [
    "avg_on_bits =[x*y for x,y in zip(densities,(512,1024,2048,512,1024,2048))]\n",
    "avg_on_bits"
   ]
  },
  {
   "cell_type": "markdown",
   "metadata": {},
   "source": [
    "- porovnani s MACCs"
   ]
  },
  {
   "cell_type": "code",
   "execution_count": 52,
   "metadata": {},
   "outputs": [],
   "source": [
    "drugbank_maccs = [MACCSkeys.GenMACCSKeys(m) for m in drugbank]"
   ]
  },
  {
   "cell_type": "code",
   "execution_count": 54,
   "metadata": {},
   "outputs": [
    {
     "data": {
      "text/plain": [
       "(0.26487447046834517, 43.9691620977453)"
      ]
     },
     "execution_count": 54,
     "metadata": {},
     "output_type": "execute_result"
    }
   ],
   "source": [
    "fingerprint_density(drugbank_maccs), fingerprint_density(drugbank_maccs)*166"
   ]
  },
  {
   "cell_type": "code",
   "execution_count": 55,
   "metadata": {},
   "outputs": [],
   "source": [
    "morgan_fps_2_166 = [Chem.GetMorganFingerprintAsBitVect(m, 2, nBits=166) for m in drugbank]\n",
    "#kazdy 5-ty bit je nastaveny"
   ]
  },
  {
   "cell_type": "code",
   "execution_count": 56,
   "metadata": {},
   "outputs": [
    {
     "data": {
      "text/plain": [
       "(0.21416128649620272, 35.55077355836965)"
      ]
     },
     "execution_count": 56,
     "metadata": {},
     "output_type": "execute_result"
    }
   ],
   "source": [
    "fingerprint_density(morgan_fps_2_166), fingerprint_density(morgan_fps_2_166)*166"
   ]
  },
  {
   "cell_type": "markdown",
   "metadata": {},
   "source": [
    "## Zjisteni, co nastavuje dany bit"
   ]
  },
  {
   "cell_type": "code",
   "execution_count": 61,
   "metadata": {},
   "outputs": [
    {
     "data": {
      "text/plain": [
       "{1: ((4, 0), (5, 0)),\n",
       " 3: ((15, 1), (16, 1)),\n",
       " 13: ((12, 1),),\n",
       " 22: ((14, 1),),\n",
       " 33: ((7, 0), (8, 0), (9, 0), (10, 0), (11, 0)),\n",
       " 56: ((14, 2),),\n",
       " 64: ((23, 1), (25, 1), (24, 1), (26, 1)),\n",
       " 80: ((6, 0), (12, 0)),\n",
       " 113: ((3, 2),),\n",
       " 116: ((7, 1),),\n",
       " 138: ((2, 0),),\n",
       " 144: ((1, 0),),\n",
       " 147: ((0, 1),),\n",
       " 165: ((17, 2), (18, 2)),\n",
       " 175: ((23, 2), (25, 2), (24, 2), (26, 2)),\n",
       " 183: ((0, 0),),\n",
       " 214: ((19, 1), (20, 1), (21, 1), (22, 1)),\n",
       " 235: ((13, 1),),\n",
       " 247: ((1, 2),),\n",
       " 252: ((0, 2),),\n",
       " 274: ((1, 1),),\n",
       " 283: ((8, 1), (9, 1), (10, 1), (11, 1)),\n",
       " 295: ((14, 0),),\n",
       " 316: ((13, 2),),\n",
       " 321: ((6, 2),),\n",
       " 337: ((19, 0), (20, 0), (21, 0), (22, 0), (23, 0), (24, 0), (25, 0), (26, 0)),\n",
       " 356: ((15, 0), (16, 0), (17, 0), (18, 0)),\n",
       " 369: ((17, 1), (18, 1)),\n",
       " 371: ((19, 2), (20, 2)),\n",
       " 381: ((2, 1),),\n",
       " 401: ((6, 1),),\n",
       " 412: ((3, 1),),\n",
       " 414: ((3, 0),),\n",
       " 428: ((12, 2),),\n",
       " 440: ((4, 2), (5, 2)),\n",
       " 441: ((15, 2), (16, 2)),\n",
       " 456: ((4, 1), (5, 1)),\n",
       " 457: ((21, 2), (22, 2)),\n",
       " 507: ((13, 0),)}"
      ]
     },
     "execution_count": 61,
     "metadata": {},
     "output_type": "execute_result"
    }
   ],
   "source": [
    "bitinfo = {}\n",
    "Chem.GetMorganFingerprintAsBitVect(drugbank[666], 2, nBits=512, bitInfo=bitinfo)\n",
    "bitinfo\n",
    "#tuple tuplu\n",
    "#index centralniho atomu a okoli, kteremu fragment odpovida"
   ]
  },
  {
   "cell_type": "code",
   "execution_count": 63,
   "metadata": {},
   "outputs": [
    {
     "data": {
      "image/png": "[encoded data removed]",
      "text/plain": [
       "<PIL.Image.Image image mode=RGB size=300x300 at 0x7F2D30390B00>"
      ]
     },
     "execution_count": 63,
     "metadata": {},
     "output_type": "execute_result"
    }
   ],
   "source": [
    "Draw.MolToImage(drugbank[666])"
   ]
  },
  {
   "cell_type": "code",
   "execution_count": 64,
   "metadata": {},
   "outputs": [],
   "source": [
    "def bit2smales(mol, bit):\n",
    "    bitinfo = {}\n",
    "    Chem.GetMorganFingerprintAsBitVect(mol, 2, nBits=512, bitInfo=bitinfo)\n",
    "    fragments = set()\n",
    "    for hit,radius in bitinfo.get(bit,[]): #bere dvojice (atom, radius)\n",
    "        if radius > 0:\n",
    "            hit_atoms = Chem.FindAtomEnvironmentOfRadiusN(mol, radius, hit) #najde okoli bitu daneho radiem\n",
    "            submol = Chem.PathToSubmol(mol, hit_atoms)\n",
    "            fragment_smiles = Chem.MolToSmiles(submol)\n",
    "        else:\n",
    "            fragment_smiles = mol.GetAtomWithIdx(hit).GetSymbol()\n",
    "        fragments.add(fragment_smiles)\n",
    "    return(fragments)"
   ]
  },
  {
   "cell_type": "code",
   "execution_count": 75,
   "metadata": {},
   "outputs": [
    {
     "data": {
      "text/plain": [
       "{'C'}"
      ]
     },
     "execution_count": 75,
     "metadata": {},
     "output_type": "execute_result"
    }
   ],
   "source": [
    "bit2smales(drugbank[666],337)"
   ]
  },
  {
   "cell_type": "code",
   "execution_count": 76,
   "metadata": {},
   "outputs": [
    {
     "data": {
      "image/png": "[encoded data removed]",
      "text/plain": [
       "<PIL.PngImagePlugin.PngImageFile image mode=RGB size=150x150 at 0x7F2D30423978>"
      ]
     },
     "execution_count": 76,
     "metadata": {},
     "output_type": "execute_result"
    }
   ],
   "source": [
    "Draw.DrawMorganBit(drugbank[666],337,bitinfo)\n",
    "#okoli 0"
   ]
  },
  {
   "cell_type": "code",
   "execution_count": 80,
   "metadata": {},
   "outputs": [
    {
     "data": {
      "image/png": "[encoded data removed]",
      "text/plain": [
       "<PIL.PngImagePlugin.PngImageFile image mode=RGB size=150x150 at 0x7F2D323C5A20>"
      ]
     },
     "execution_count": 80,
     "metadata": {},
     "output_type": "execute_result"
    }
   ],
   "source": [
    "Draw.DrawMorganBit(drugbank[666],295,bitinfo)\n",
    "#uhlik charakteristicky svoji vaznosti"
   ]
  },
  {
   "cell_type": "code",
   "execution_count": 81,
   "metadata": {},
   "outputs": [
    {
     "data": {
      "image/png": "[encoded data removed]",
      "text/plain": [
       "<PIL.PngImagePlugin.PngImageFile image mode=RGB size=150x150 at 0x7F2D323C55C0>"
      ]
     },
     "execution_count": 81,
     "metadata": {},
     "output_type": "execute_result"
    }
   ],
   "source": [
    "Draw.DrawMorganBit(drugbank[666],507,bitinfo)"
   ]
  },
  {
   "cell_type": "code",
   "execution_count": 77,
   "metadata": {},
   "outputs": [
    {
     "data": {
      "text/plain": [
       "{'ccc'}"
      ]
     },
     "execution_count": 77,
     "metadata": {},
     "output_type": "execute_result"
    }
   ],
   "source": [
    "bit2smales(drugbank[666],64)\n",
    "#aromaticke uhliky"
   ]
  },
  {
   "cell_type": "code",
   "execution_count": 78,
   "metadata": {},
   "outputs": [
    {
     "data": {
      "image/png": "[encoded data removed]",
      "text/plain": [
       "<PIL.PngImagePlugin.PngImageFile image mode=RGB size=150x150 at 0x7F2D30423E80>"
      ]
     },
     "execution_count": 78,
     "metadata": {},
     "output_type": "execute_result"
    }
   ],
   "source": [
    "Draw.DrawMorganBit(drugbank[666],64,bitinfo)\n",
    "#okoli 1"
   ]
  },
  {
   "cell_type": "code",
   "execution_count": 79,
   "metadata": {},
   "outputs": [
    {
     "data": {
      "image/png": "[encoded data removed]",
      "text/plain": [
       "<PIL.PngImagePlugin.PngImageFile image mode=RGB size=150x150 at 0x7F2D304234E0>"
      ]
     },
     "execution_count": 79,
     "metadata": {},
     "output_type": "execute_result"
    }
   ],
   "source": [
    "Draw.DrawMorganBit(drugbank[666],441,bitinfo)\n",
    "#okoli 2"
   ]
  },
  {
   "cell_type": "markdown",
   "metadata": {},
   "source": [
    "# 2. Podobnost fingerprintu - Tanimoto\n",
    "- podobnostni vyhledavani (similarity search)\n",
    "- kdyz chci neco podobneho nebo neco nepodobneho\n",
    "- pouziva se cutoff 0.7\n",
    "- steroidy na 0.9 a bliz"
   ]
  },
  {
   "cell_type": "code",
   "execution_count": 82,
   "metadata": {},
   "outputs": [],
   "source": [
    "morgan_fps = [Chem.GetMorganFingerprintAsBitVect(m, 2, nBits=1024) for m in drugbank]"
   ]
  },
  {
   "cell_type": "code",
   "execution_count": 83,
   "metadata": {},
   "outputs": [],
   "source": [
    "# tez v rdkitu\n",
    "# pomer spolecneho vs. obecne\n",
    "# vse stejne -> vrati 1\n",
    "# nic spolecneho -> vrati 0\n",
    "\n",
    "def tanimoto_similarity(fp1, fp2):\n",
    "    fp1_on_bits = set(fp1.GetOnBits())\n",
    "    fp2_on_bits = set(fp2.GetOnBits()) \n",
    "    all_bits = fp1_on_bits.union(fp2_on_bits)\n",
    "    shared_bits = fp1_on_bits.intersection(fp2_on_bits) #spolecne\n",
    "    if not all_bits:\n",
    "        raise ValueError(\"Chyba\")\n",
    "    return len(shared_bits) / len(all_bits)"
   ]
  },
  {
   "cell_type": "code",
   "execution_count": 85,
   "metadata": {},
   "outputs": [
    {
     "data": {
      "text/plain": [
       "0.14516129032258066"
      ]
     },
     "execution_count": 85,
     "metadata": {},
     "output_type": "execute_result"
    }
   ],
   "source": [
    "tanimoto_similarity(morgan_fps[0],morgan_fps[666])\n",
    "#mala"
   ]
  },
  {
   "cell_type": "code",
   "execution_count": 86,
   "metadata": {},
   "outputs": [
    {
     "data": {
      "text/plain": [
       "1.0"
      ]
     },
     "execution_count": 86,
     "metadata": {},
     "output_type": "execute_result"
    }
   ],
   "source": [
    "tanimoto_similarity(morgan_fps[666],morgan_fps[666])"
   ]
  },
  {
   "cell_type": "code",
   "execution_count": 87,
   "metadata": {},
   "outputs": [
    {
     "data": {
      "text/plain": [
       "0.0"
      ]
     },
     "execution_count": 87,
     "metadata": {},
     "output_type": "execute_result"
    }
   ],
   "source": [
    "tanimoto_similarity(Chem.GetMorganFingerprintAsBitVect(Chem.MolFromSmiles(\"[As]\"), 2, nBits=1024),morgan_fps[666])"
   ]
  },
  {
   "cell_type": "code",
   "execution_count": 88,
   "metadata": {},
   "outputs": [
    {
     "data": {
      "text/plain": [
       "0.07142857142857142"
      ]
     },
     "execution_count": 88,
     "metadata": {},
     "output_type": "execute_result"
    }
   ],
   "source": [
    "tanimoto_similarity(Chem.GetMorganFingerprintAsBitVect(Chem.MolFromSmiles(\"CCO\"), 2, nBits=1024),morgan_fps[666])"
   ]
  },
  {
   "cell_type": "code",
   "execution_count": 89,
   "metadata": {},
   "outputs": [
    {
     "data": {
      "text/plain": [
       "0.18867924528301888"
      ]
     },
     "execution_count": 89,
     "metadata": {},
     "output_type": "execute_result"
    }
   ],
   "source": [
    "tanimoto_similarity(Chem.GetMorganFingerprintAsBitVect(Chem.MolFromSmiles(\"O=C(C)Oc1ccccc1C(=O)O\"), 2, nBits=1024),morgan_fps[666])\n",
    "#aspirin"
   ]
  }
 ],
 "metadata": {
  "kernelspec": {
   "display_name": "Python 3",
   "language": "python",
   "name": "python3"
  },
  "language_info": {
   "codemirror_mode": {
    "name": "ipython",
    "version": 3
   },
   "file_extension": ".py",
   "mimetype": "text/x-python",
   "name": "python",
   "nbconvert_exporter": "python",
   "pygments_lexer": "ipython3",
   "version": "3.6.5"
  }
 },
 "nbformat": 4,
 "nbformat_minor": 2
}
