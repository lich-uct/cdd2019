{
 "cells": [
  {
   "cell_type": "markdown",
   "metadata": {},
   "source": [
    "# Multidimensional scaling\n",
    "- vykresleni zajimavych bodu"
   ]
  },
  {
   "cell_type": "code",
   "execution_count": null,
   "metadata": {},
   "outputs": [],
   "source": [
    "from rdkit.Chem import AllChem as Chem\n",
    "\n",
    "#odstraneni soli\n",
    "from rdkit.Chem import SaltRemover \n",
    "\n",
    "#aby to vykreslovalo molekuly\n",
    "from rdkit.Chem.Draw import IPythonConsole \n",
    "\n",
    "#odstraneni tautomeru a vseho ostatniho (i predchoziho)\n",
    "import molvs\n",
    "\n",
    "from scipy.spatial import distance\n",
    "from sklearn import manifold\n",
    "\n",
    "import seaborn\n",
    "import pandas as pd\n",
    "\n",
    "from rdkit.SimDivFilters.rdSimDivPickers import MaxMinPicker"
   ]
  },
  {
   "cell_type": "markdown",
   "metadata": {},
   "source": [
    "## Ziskani \"cistych\" dat"
   ]
  },
  {
   "cell_type": "markdown",
   "metadata": {},
   "source": [
    "1. zbaveni se nehezkych struktur"
   ]
  },
  {
   "cell_type": "code",
   "execution_count": 3,
   "metadata": {},
   "outputs": [],
   "source": [
    "isOrganic = Chem.MolFromSmarts(\"[#6]\")\n",
    "hasInorganic = Chem.MolFromSmarts(\"[!#6;!#7;!#8;!#16;!Cl;!F;!Br;!I]\")"
   ]
  },
  {
   "cell_type": "code",
   "execution_count": 4,
   "metadata": {},
   "outputs": [
    {
     "name": "stdout",
     "output_type": "stream",
     "text": [
      "True\n",
      "True\n"
     ]
    }
   ],
   "source": [
    "mol = Chem.MolFromSmiles(\"[Ca++].C([O-])([O-])=O\")\n",
    "print(mol.HasSubstructMatch(isOrganic))\n",
    "print(mol.HasSubstructMatch(hasInorganic))"
   ]
  },
  {
   "cell_type": "markdown",
   "metadata": {},
   "source": [
    "2. Odstraneni jednoduchych iontu"
   ]
  },
  {
   "cell_type": "code",
   "execution_count": 5,
   "metadata": {},
   "outputs": [
    {
     "data": {
      "image/png": "[encoded data removed]",
      "text/plain": [
       "<rdkit.Chem.rdchem.Mol at 0x7f8394956940>"
      ]
     },
     "execution_count": 5,
     "metadata": {},
     "output_type": "execute_result"
    }
   ],
   "source": [
    "remover = SaltRemover.SaltRemover()\n",
    "remover.StripMol(mol)"
   ]
  },
  {
   "cell_type": "code",
   "execution_count": 6,
   "metadata": {},
   "outputs": [
    {
     "name": "stdout",
     "output_type": "stream",
     "text": [
      "True\n",
      "True\n"
     ]
    },
    {
     "data": {
      "image/png": "[encoded data removed]",
      "text/plain": [
       "<rdkit.Chem.rdchem.Mol at 0x7f8394956a30>"
      ]
     },
     "execution_count": 6,
     "metadata": {},
     "output_type": "execute_result"
    }
   ],
   "source": [
    "mol = Chem.MolFromSmiles(\"[Na+].O=C(C)Oc1ccccc1C([O-])O\")\n",
    "print(mol.HasSubstructMatch(isOrganic))\n",
    "print(mol.HasSubstructMatch(hasInorganic))\n",
    "remover.StripMol(mol)"
   ]
  },
  {
   "cell_type": "markdown",
   "metadata": {},
   "source": [
    "3. Odstraneni naboje"
   ]
  },
  {
   "cell_type": "code",
   "execution_count": 7,
   "metadata": {},
   "outputs": [],
   "source": [
    "def _InitialiseNeutralisationReactions():\n",
    "    #set pravidel:\n",
    "    patts= (\n",
    "        # Imidazoles\n",
    "        ('[n+;H]','n'),\n",
    "        # Amines\n",
    "        ('[N+;!H0]','N'),\n",
    "        # Carboxylic acids and alcohols\n",
    "        ('[$([O-]);!$([O-][#7])]','O'),\n",
    "        # Thiols\n",
    "        ('[S-;X1]','S'),\n",
    "        # Sulfonamides\n",
    "        ('[$([N-;X2]S(=O)=O)]','N'),\n",
    "        # Enamines\n",
    "        ('[$([N-;X2][C,N]=C)]','N'),\n",
    "        # Tetrazoles\n",
    "        ('[n-]','[nH]'),\n",
    "        # Sulfoxides\n",
    "        ('[$([S-]=O)]','S'),\n",
    "        # Amides\n",
    "        ('[$([N-]C=O)]','N'),\n",
    "        )\n",
    "    return [(Chem.MolFromSmarts(x),Chem.MolFromSmiles(y,False)) for x,y in patts]\n",
    "\n",
    "_reactions=None\n",
    "def NeutraliseCharges(mol, reactions=None):\n",
    "    global _reactions\n",
    "    if reactions is None:\n",
    "        if _reactions is None:\n",
    "            _reactions=_InitialiseNeutralisationReactions()\n",
    "        reactions=_reactions\n",
    "    replaced = False\n",
    "    for i,(reactant, product) in enumerate(reactions):\n",
    "        while mol.HasSubstructMatch(reactant):\n",
    "            replaced = True\n",
    "            rms = Chem.ReplaceSubstructs(mol, reactant, product)\n",
    "            mol = rms[0]\n",
    "    if replaced:\n",
    "        return mol #nova modifikovana instance\n",
    "    else:\n",
    "        return False"
   ]
  },
  {
   "cell_type": "code",
   "execution_count": 8,
   "metadata": {},
   "outputs": [
    {
     "data": {
      "image/png": "[encoded data removed]",
      "text/plain": [
       "<rdkit.Chem.rdchem.Mol at 0x7f83949b9088>"
      ]
     },
     "execution_count": 8,
     "metadata": {},
     "output_type": "execute_result"
    }
   ],
   "source": [
    "NeutraliseCharges(remover.StripMol(mol))"
   ]
  },
  {
   "cell_type": "code",
   "execution_count": 9,
   "metadata": {},
   "outputs": [
    {
     "data": {
      "text/plain": [
       "False"
      ]
     },
     "execution_count": 9,
     "metadata": {},
     "output_type": "execute_result"
    }
   ],
   "source": [
    "NeutraliseCharges(NeutraliseCharges(remover.StripMol(mol))) #neutralni molekule vrati False"
   ]
  },
  {
   "cell_type": "markdown",
   "metadata": {},
   "source": [
    "4. Odstraneni tautomeru a vlastne cela standardizace v jednom"
   ]
  },
  {
   "cell_type": "code",
   "execution_count": 10,
   "metadata": {},
   "outputs": [
    {
     "data": {
      "image/png": "[encoded data removed]",
      "text/plain": [
       "<rdkit.Chem.rdchem.Mol at 0x7f83949b9ce8>"
      ]
     },
     "execution_count": 10,
     "metadata": {},
     "output_type": "execute_result"
    }
   ],
   "source": [
    "s = molvs.Standardizer()\n",
    "s.super_parent(mol) #lze zavolat na vse -> otestovat, zda je organicky a nema nic oskliveho (z hasInorganic)\n",
    "#ale na velkych strukturach pada na tautomerech\n"
   ]
  },
  {
   "cell_type": "code",
   "execution_count": 20,
   "metadata": {},
   "outputs": [],
   "source": [
    "isOrganic = Chem.MolFromSmarts(\"[#6]\")\n",
    "hasInorganic = Chem.MolFromSmarts(\"[!#6;!#7;!#8;!#16;!Cl;!F;!Br;!I]\")\n",
    "_s = molvs.Standardizer()\n",
    "def standardization(mol):\n",
    "    mol = _s.standardize(mol)\n",
    "    mol = _s.fragment_parent(mol) #vrati nejvetsi fragment\n",
    "    \n",
    "    if mol.HasSubstructMatch(isOrganic) and not mol.HasSubstructMatch(hasInorganic):\n",
    "        mol = _s.charge_parent(mol)\n",
    "        mol = _s.stereo_parent(mol)\n",
    "        return mol\n",
    "    else:\n",
    "        return None"
   ]
  },
  {
   "cell_type": "code",
   "execution_count": 21,
   "metadata": {},
   "outputs": [],
   "source": [
    "standardization(Chem.MolFromSmiles(\"[NH3+]-[Pt-2](Cl)(Cl)[NH3+]\"))"
   ]
  },
  {
   "cell_type": "code",
   "execution_count": 22,
   "metadata": {},
   "outputs": [
    {
     "data": {
      "image/png": "[encoded data removed]",
      "text/plain": [
       "<rdkit.Chem.rdchem.Mol at 0x7f83947104a8>"
      ]
     },
     "execution_count": 22,
     "metadata": {},
     "output_type": "execute_result"
    }
   ],
   "source": [
    "standardization(Chem.MolFromSmiles(\"[Na+].O=C(C)Oc1ccccc1C([O-])O\"))"
   ]
  },
  {
   "cell_type": "markdown",
   "metadata": {},
   "source": [
    "## Nacteni drugbank"
   ]
  },
  {
   "cell_type": "code",
   "execution_count": 23,
   "metadata": {},
   "outputs": [],
   "source": [
    "#velmi dlouhe\n",
    "#suppl = Chem.SDMolSupplier('../data/drugbank.sdf')\n",
    "#drugbank = [standardization(mol) for mol in suppl if mol and standardization(mol)]"
   ]
  },
  {
   "cell_type": "code",
   "execution_count": 24,
   "metadata": {},
   "outputs": [
    {
     "name": "stderr",
     "output_type": "stream",
     "text": [
      "RDKit WARNING: [16:18:32]  S group DAT ignored on line 2516\n",
      "RDKit WARNING: [16:18:32]  S group DAT ignored on line 2516\n",
      "RDKit WARNING: [16:18:32]  S group DAT ignored on line 2516\n",
      "RDKit WARNING: [16:18:32]  S group DAT ignored on line 2516\n",
      "RDKit WARNING: [16:18:32]  S group DAT ignored on line 15552\n",
      "RDKit WARNING: [16:18:32]  S group DAT ignored on line 15552\n",
      "RDKit WARNING: [16:18:32]  S group DAT ignored on line 15552\n",
      "RDKit WARNING: [16:18:32]  S group DAT ignored on line 15552\n",
      "RDKit ERROR: [16:18:32] Explicit valence for atom # 7 N, 4, is greater than permitted\n",
      "RDKit ERROR: [16:18:32] ERROR: Could not sanitize molecule ending on line 20009\n",
      "RDKit WARNING: [16:18:32] Warning: conflicting stereochemistry at atom 5 ignored.\n",
      "RDKit WARNING: [16:18:32] Warning: conflicting stereochemistry at atom 5 ignored.\n",
      "RDKit WARNING: [16:18:32]  S group GEN ignored on line 102860\n",
      "RDKit ERROR: [16:18:32] ERROR: Explicit valence for atom # 7 N, 4, is greater than permitted\n",
      "RDKit ERROR: [16:18:32]  Unhandled CTAB feature: S group COP on line: 133906. Molecule skipped.\n",
      "RDKit ERROR: [16:18:33] Can't kekulize mol.  Unkekulized atoms: 1 2 3 5 6 7 8 9 10\n",
      "RDKit ERROR: \n",
      "RDKit ERROR: [16:18:33] ERROR: Could not sanitize molecule ending on line 250947\n",
      "RDKit ERROR: [16:18:33] ERROR: Can't kekulize mol.  Unkekulized atoms: 1 2 3 5 6 7 8 9 10\n",
      "RDKit ERROR: \n",
      "RDKit ERROR: [16:18:33] Explicit valence for atom # 17 O, 3, is greater than permitted\n",
      "RDKit ERROR: [16:18:33] ERROR: Could not sanitize molecule ending on line 258130\n",
      "RDKit ERROR: [16:18:33] ERROR: Explicit valence for atom # 17 O, 3, is greater than permitted\n",
      "RDKit ERROR: [16:18:33] Can't kekulize mol.  Unkekulized atoms: 57 58 59 60 61 62 63 64 65\n",
      "RDKit ERROR: \n",
      "RDKit ERROR: [16:18:33] ERROR: Could not sanitize molecule ending on line 261581\n",
      "RDKit ERROR: [16:18:33] ERROR: Can't kekulize mol.  Unkekulized atoms: 57 58 59 60 61 62 63 64 65\n",
      "RDKit ERROR: \n",
      "RDKit ERROR: [16:18:33] Explicit valence for atom # 47 Mg, 4, is greater than permitted\n",
      "RDKit ERROR: [16:18:33] ERROR: Could not sanitize molecule ending on line 272221\n",
      "RDKit ERROR: [16:18:33] ERROR: Explicit valence for atom # 47 Mg, 4, is greater than permitted\n",
      "RDKit ERROR: [16:18:33] Can't kekulize mol.  Unkekulized atoms: 0 1 2 6 7 8 9 10 11 12 13 14 15 16 17\n",
      "RDKit ERROR: \n",
      "RDKit ERROR: [16:18:33] ERROR: Could not sanitize molecule ending on line 280661\n",
      "RDKit ERROR: [16:18:33] ERROR: Can't kekulize mol.  Unkekulized atoms: 0 1 2 6 7 8 9 10 11 12 13 14 15 16 17\n",
      "RDKit ERROR: \n",
      "RDKit ERROR: [16:18:33] Explicit valence for atom # 13 Cl, 5, is greater than permitted\n",
      "RDKit ERROR: [16:18:33] ERROR: Could not sanitize molecule ending on line 282635\n",
      "RDKit ERROR: [16:18:33] ERROR: Explicit valence for atom # 13 Cl, 5, is greater than permitted\n",
      "RDKit ERROR: [16:18:33] Can't kekulize mol.  Unkekulized atoms: 3 4 5 6 7 8 10 11 12\n",
      "RDKit ERROR: \n",
      "RDKit ERROR: [16:18:33] ERROR: Could not sanitize molecule ending on line 292762\n",
      "RDKit ERROR: [16:18:33] ERROR: Can't kekulize mol.  Unkekulized atoms: 3 4 5 6 7 8 10 11 12\n",
      "RDKit ERROR: \n",
      "RDKit ERROR: [16:18:33] Can't kekulize mol.  Unkekulized atoms: 0 1 2 4 5 6 7 8 9 10\n",
      "RDKit ERROR: \n",
      "RDKit ERROR: [16:18:33] ERROR: Could not sanitize molecule ending on line 293836\n",
      "RDKit ERROR: [16:18:33] ERROR: Can't kekulize mol.  Unkekulized atoms: 0 1 2 4 5 6 7 8 9 10\n",
      "RDKit ERROR: \n",
      "RDKit ERROR: [16:18:33] Can't kekulize mol.  Unkekulized atoms: 2 3 4 5 6 7 8 9 10\n",
      "RDKit ERROR: \n",
      "RDKit ERROR: [16:18:33] ERROR: Could not sanitize molecule ending on line 302815\n",
      "RDKit ERROR: [16:18:33] ERROR: Can't kekulize mol.  Unkekulized atoms: 2 3 4 5 6 7 8 9 10\n",
      "RDKit ERROR: \n",
      "RDKit ERROR: [16:18:33] Can't kekulize mol.  Unkekulized atoms: 13 14 15 16 22\n",
      "RDKit ERROR: \n",
      "RDKit ERROR: [16:18:33] ERROR: Could not sanitize molecule ending on line 304047\n",
      "RDKit ERROR: [16:18:33] ERROR: Can't kekulize mol.  Unkekulized atoms: 13 14 15 16 22\n",
      "RDKit ERROR: \n",
      "RDKit ERROR: [16:18:34] Explicit valence for atom # 46 Mg, 4, is greater than permitted\n",
      "RDKit ERROR: [16:18:34] ERROR: Could not sanitize molecule ending on line 312454\n",
      "RDKit ERROR: [16:18:34] ERROR: Explicit valence for atom # 46 Mg, 4, is greater than permitted\n",
      "RDKit ERROR: [16:18:34] Explicit valence for atom # 27 N, 4, is greater than permitted\n",
      "RDKit ERROR: [16:18:34] ERROR: Could not sanitize molecule ending on line 317905\n",
      "RDKit ERROR: [16:18:34] ERROR: Explicit valence for atom # 27 N, 4, is greater than permitted\n",
      "RDKit ERROR: [16:18:34] Explicit valence for atom # 16 N, 4, is greater than permitted\n",
      "RDKit ERROR: [16:18:34] ERROR: Could not sanitize molecule ending on line 318439\n",
      "RDKit ERROR: [16:18:34] ERROR: Explicit valence for atom # 16 N, 4, is greater than permitted\n",
      "RDKit ERROR: [16:18:34] Can't kekulize mol.  Unkekulized atoms: 3 4 5 6 54\n",
      "RDKit ERROR: \n",
      "RDKit ERROR: [16:18:34] ERROR: Could not sanitize molecule ending on line 324910\n",
      "RDKit ERROR: [16:18:34] ERROR: Can't kekulize mol.  Unkekulized atoms: 3 4 5 6 54\n",
      "RDKit ERROR: \n",
      "RDKit ERROR: [16:18:34] Can't kekulize mol.  Unkekulized atoms: 3 4 5 6 7\n",
      "RDKit ERROR: \n",
      "RDKit ERROR: [16:18:34] ERROR: Could not sanitize molecule ending on line 326050\n",
      "RDKit ERROR: [16:18:34] ERROR: Can't kekulize mol.  Unkekulized atoms: 3 4 5 6 7\n",
      "RDKit ERROR: \n",
      "RDKit ERROR: [16:18:34] Can't kekulize mol.  Unkekulized atoms: 2 3 4 5 11\n",
      "RDKit ERROR: \n",
      "RDKit ERROR: [16:18:34] ERROR: Could not sanitize molecule ending on line 331986\n",
      "RDKit ERROR: [16:18:34] ERROR: Can't kekulize mol.  Unkekulized atoms: 2 3 4 5 11\n",
      "RDKit ERROR: \n",
      "RDKit ERROR: [16:18:34] Can't kekulize mol.  Unkekulized atoms: 1 2 3 4 5 6 7 8 9\n",
      "RDKit ERROR: \n",
      "RDKit ERROR: [16:18:34] ERROR: Could not sanitize molecule ending on line 333287\n",
      "RDKit ERROR: [16:18:34] ERROR: Can't kekulize mol.  Unkekulized atoms: 1 2 3 4 5 6 7 8 9\n",
      "RDKit ERROR: \n",
      "RDKit ERROR: [16:18:34] Can't kekulize mol.  Unkekulized atoms: 3 4 5 6 7\n",
      "RDKit ERROR: \n",
      "RDKit ERROR: [16:18:34] ERROR: Could not sanitize molecule ending on line 347574\n",
      "RDKit ERROR: [16:18:34] ERROR: Can't kekulize mol.  Unkekulized atoms: 3 4 5 6 7\n",
      "RDKit ERROR: \n",
      "RDKit ERROR: [16:18:34] Can't kekulize mol.  Unkekulized atoms: 5 6 7 8 9 10 11 12 13\n",
      "RDKit ERROR: \n",
      "RDKit ERROR: [16:18:34] ERROR: Could not sanitize molecule ending on line 357505\n",
      "RDKit ERROR: [16:18:34] ERROR: Can't kekulize mol.  Unkekulized atoms: 5 6 7 8 9 10 11 12 13\n",
      "RDKit ERROR: \n",
      "RDKit ERROR: [16:18:34] Can't kekulize mol.  Unkekulized atoms: 3 4 5 6 7\n",
      "RDKit ERROR: \n",
      "RDKit ERROR: [16:18:34] ERROR: Could not sanitize molecule ending on line 371006\n",
      "RDKit ERROR: [16:18:34] ERROR: Can't kekulize mol.  Unkekulized atoms: 3 4 5 6 7\n",
      "RDKit ERROR: \n",
      "RDKit ERROR: [16:18:34] Can't kekulize mol.  Unkekulized atoms: 1 2 3 4 5 6 7 8 9\n",
      "RDKit ERROR: \n",
      "RDKit ERROR: [16:18:34] ERROR: Could not sanitize molecule ending on line 378618\n",
      "RDKit ERROR: [16:18:34] ERROR: Can't kekulize mol.  Unkekulized atoms: 1 2 3 4 5 6 7 8 9\n",
      "RDKit ERROR: \n",
      "RDKit ERROR: [16:18:34] Explicit valence for atom # 56 O, 3, is greater than permitted\n",
      "RDKit ERROR: [16:18:34] ERROR: Could not sanitize molecule ending on line 398455\n",
      "RDKit ERROR: [16:18:34] ERROR: Explicit valence for atom # 56 O, 3, is greater than permitted\n",
      "RDKit ERROR: [16:18:34] Can't kekulize mol.  Unkekulized atoms: 9 10 11 12 18\n",
      "RDKit ERROR: \n",
      "RDKit ERROR: [16:18:34] ERROR: Could not sanitize molecule ending on line 407765\n",
      "RDKit ERROR: [16:18:34] ERROR: Can't kekulize mol.  Unkekulized atoms: 9 10 11 12 18\n",
      "RDKit ERROR: \n",
      "RDKit ERROR: [16:18:34] Explicit valence for atom # 46 Mg, 4, is greater than permitted\n",
      "RDKit ERROR: [16:18:34] ERROR: Could not sanitize molecule ending on line 417941\n",
      "RDKit ERROR: [16:18:34] ERROR: Explicit valence for atom # 46 Mg, 4, is greater than permitted\n",
      "RDKit ERROR: [16:18:34] Can't kekulize mol.  Unkekulized atoms: 1 2 3 12 13 14 15 16 17\n",
      "RDKit ERROR: \n",
      "RDKit ERROR: [16:18:34] ERROR: Could not sanitize molecule ending on line 422810\n",
      "RDKit ERROR: [16:18:34] ERROR: Can't kekulize mol.  Unkekulized atoms: 1 2 3 12 13 14 15 16 17\n",
      "RDKit ERROR: \n",
      "RDKit ERROR: [16:18:34] Can't kekulize mol.  Unkekulized atoms: 44 45 46 47 49\n",
      "RDKit ERROR: \n",
      "RDKit ERROR: [16:18:34] ERROR: Could not sanitize molecule ending on line 425190\n",
      "RDKit ERROR: [16:18:34] ERROR: Can't kekulize mol.  Unkekulized atoms: 44 45 46 47 49\n",
      "RDKit ERROR: \n",
      "RDKit ERROR: [16:18:34] Explicit valence for atom # 8 N, 5, is greater than permitted\n",
      "RDKit ERROR: [16:18:34] ERROR: Could not sanitize molecule ending on line 426332\n"
     ]
    },
    {
     "name": "stderr",
     "output_type": "stream",
     "text": [
      "RDKit ERROR: [16:18:34] ERROR: Explicit valence for atom # 8 N, 5, is greater than permitted\n",
      "RDKit ERROR: [16:18:35] Can't kekulize mol.  Unkekulized atoms: 54 55 56 57 58 59 60 61 62\n",
      "RDKit ERROR: \n",
      "RDKit ERROR: [16:18:35] ERROR: Could not sanitize molecule ending on line 427901\n",
      "RDKit ERROR: [16:18:35] ERROR: Can't kekulize mol.  Unkekulized atoms: 54 55 56 57 58 59 60 61 62\n",
      "RDKit ERROR: \n",
      "RDKit ERROR: [16:18:35] Can't kekulize mol.  Unkekulized atoms: 0 1 2 3 4 5 6 7 8\n",
      "RDKit ERROR: \n",
      "RDKit ERROR: [16:18:35] ERROR: Could not sanitize molecule ending on line 432118\n",
      "RDKit ERROR: [16:18:35] ERROR: Can't kekulize mol.  Unkekulized atoms: 0 1 2 3 4 5 6 7 8\n",
      "RDKit ERROR: \n",
      "RDKit ERROR: [16:18:35] Can't kekulize mol.  Unkekulized atoms: 3 4 5 6 8 9 10\n",
      "RDKit ERROR: \n",
      "RDKit ERROR: [16:18:35] ERROR: Could not sanitize molecule ending on line 442989\n",
      "RDKit ERROR: [16:18:35] ERROR: Can't kekulize mol.  Unkekulized atoms: 3 4 5 6 8 9 10\n",
      "RDKit ERROR: \n",
      "RDKit ERROR: [16:18:35] Can't kekulize mol.  Unkekulized atoms: 3 4 5 6 9\n",
      "RDKit ERROR: \n",
      "RDKit ERROR: [16:18:35] ERROR: Could not sanitize molecule ending on line 447465\n",
      "RDKit ERROR: [16:18:35] ERROR: Can't kekulize mol.  Unkekulized atoms: 3 4 5 6 9\n",
      "RDKit ERROR: \n",
      "RDKit ERROR: [16:18:35] Can't kekulize mol.  Unkekulized atoms: 16 17 18 19 20\n",
      "RDKit ERROR: \n",
      "RDKit ERROR: [16:18:35] ERROR: Could not sanitize molecule ending on line 466177\n",
      "RDKit ERROR: [16:18:35] ERROR: Can't kekulize mol.  Unkekulized atoms: 16 17 18 19 20\n",
      "RDKit ERROR: \n",
      "RDKit ERROR: [16:18:35] Can't kekulize mol.  Unkekulized atoms: 7 8 9 10 17\n",
      "RDKit ERROR: \n",
      "RDKit ERROR: [16:18:35] ERROR: Could not sanitize molecule ending on line 468852\n",
      "RDKit ERROR: [16:18:35] ERROR: Can't kekulize mol.  Unkekulized atoms: 7 8 9 10 17\n",
      "RDKit ERROR: \n",
      "RDKit ERROR: [16:18:35] Can't kekulize mol.  Unkekulized atoms: 3 4 5 6 7 8 9 10 11\n",
      "RDKit ERROR: \n",
      "RDKit ERROR: [16:18:35] ERROR: Could not sanitize molecule ending on line 469201\n",
      "RDKit ERROR: [16:18:35] ERROR: Can't kekulize mol.  Unkekulized atoms: 3 4 5 6 7 8 9 10 11\n",
      "RDKit ERROR: \n",
      "RDKit ERROR: [16:18:35] Explicit valence for atom # 53 N, 4, is greater than permitted\n",
      "RDKit ERROR: [16:18:35] ERROR: Could not sanitize molecule ending on line 472285\n",
      "RDKit ERROR: [16:18:35] ERROR: Explicit valence for atom # 53 N, 4, is greater than permitted\n",
      "RDKit ERROR: [16:18:35] Can't kekulize mol.  Unkekulized atoms: 2 3 4 5 12\n",
      "RDKit ERROR: \n",
      "RDKit ERROR: [16:18:35] ERROR: Could not sanitize molecule ending on line 480504\n",
      "RDKit ERROR: [16:18:35] ERROR: Can't kekulize mol.  Unkekulized atoms: 2 3 4 5 12\n",
      "RDKit ERROR: \n",
      "RDKit ERROR: [16:18:35] Explicit valence for atom # 2 O, 3, is greater than permitted\n",
      "RDKit ERROR: [16:18:35] ERROR: Could not sanitize molecule ending on line 499305\n",
      "RDKit ERROR: [16:18:35] ERROR: Explicit valence for atom # 2 O, 3, is greater than permitted\n",
      "RDKit ERROR: [16:18:35] Can't kekulize mol.  Unkekulized atoms: 1 2 3 4 5 6 7 8 9\n",
      "RDKit ERROR: \n",
      "RDKit ERROR: [16:18:35] ERROR: Could not sanitize molecule ending on line 503342\n",
      "RDKit ERROR: [16:18:35] ERROR: Can't kekulize mol.  Unkekulized atoms: 1 2 3 4 5 6 7 8 9\n",
      "RDKit ERROR: \n",
      "RDKit ERROR: [16:18:35] Can't kekulize mol.  Unkekulized atoms: 0 1 2 4 5 6 7 8 9 10\n",
      "RDKit ERROR: \n",
      "RDKit ERROR: [16:18:35] ERROR: Could not sanitize molecule ending on line 508068\n",
      "RDKit ERROR: [16:18:35] ERROR: Can't kekulize mol.  Unkekulized atoms: 0 1 2 4 5 6 7 8 9 10\n",
      "RDKit ERROR: \n",
      "RDKit ERROR: [16:18:35] Can't kekulize mol.  Unkekulized atoms: 1 2 3 4 5 6 7 8 9\n",
      "RDKit ERROR: \n",
      "RDKit ERROR: [16:18:35] ERROR: Could not sanitize molecule ending on line 510069\n",
      "RDKit ERROR: [16:18:35] ERROR: Can't kekulize mol.  Unkekulized atoms: 1 2 3 4 5 6 7 8 9\n",
      "RDKit ERROR: \n",
      "RDKit ERROR: [16:18:35] Can't kekulize mol.  Unkekulized atoms: 3 4 5 6 7 8 10\n",
      "RDKit ERROR: \n",
      "RDKit ERROR: [16:18:35] ERROR: Could not sanitize molecule ending on line 511111\n",
      "RDKit ERROR: [16:18:35] ERROR: Can't kekulize mol.  Unkekulized atoms: 3 4 5 6 7 8 10\n",
      "RDKit ERROR: \n",
      "RDKit ERROR: [16:18:35] Can't kekulize mol.  Unkekulized atoms: 1 2 3 5 6 7 8 9 10\n",
      "RDKit ERROR: \n",
      "RDKit ERROR: [16:18:35] ERROR: Could not sanitize molecule ending on line 512030\n",
      "RDKit ERROR: [16:18:35] ERROR: Can't kekulize mol.  Unkekulized atoms: 1 2 3 5 6 7 8 9 10\n",
      "RDKit ERROR: \n",
      "RDKit ERROR: [16:18:35] Explicit valence for atom # 2 O, 3, is greater than permitted\n",
      "RDKit ERROR: [16:18:35] ERROR: Could not sanitize molecule ending on line 519056\n",
      "RDKit ERROR: [16:18:35] ERROR: Explicit valence for atom # 2 O, 3, is greater than permitted\n",
      "RDKit ERROR: [16:18:36] Explicit valence for atom # 6 B, 4, is greater than permitted\n",
      "RDKit ERROR: [16:18:36] ERROR: Could not sanitize molecule ending on line 541262\n",
      "RDKit ERROR: [16:18:36] ERROR: Explicit valence for atom # 6 B, 4, is greater than permitted\n",
      "RDKit ERROR: [16:18:36] Can't kekulize mol.  Unkekulized atoms: 2 3 17 19 20\n",
      "RDKit ERROR: \n",
      "RDKit ERROR: [16:18:36] ERROR: Could not sanitize molecule ending on line 557517\n",
      "RDKit ERROR: [16:18:36] ERROR: Can't kekulize mol.  Unkekulized atoms: 2 3 17 19 20\n",
      "RDKit ERROR: \n",
      "RDKit ERROR: [16:18:36] Can't kekulize mol.  Unkekulized atoms: 0 1 2 4 5 6 7 8 9 10\n",
      "RDKit ERROR: \n",
      "RDKit ERROR: [16:18:36] ERROR: Could not sanitize molecule ending on line 561344\n",
      "RDKit ERROR: [16:18:36] ERROR: Can't kekulize mol.  Unkekulized atoms: 0 1 2 4 5 6 7 8 9 10\n",
      "RDKit ERROR: \n",
      "RDKit ERROR: [16:18:36] Can't kekulize mol.  Unkekulized atoms: 10 11 12 13 19\n",
      "RDKit ERROR: \n",
      "RDKit ERROR: [16:18:36] ERROR: Could not sanitize molecule ending on line 562947\n",
      "RDKit ERROR: [16:18:36] ERROR: Can't kekulize mol.  Unkekulized atoms: 10 11 12 13 19\n",
      "RDKit ERROR: \n",
      "RDKit ERROR: [16:18:36] Explicit valence for atom # 27 N, 4, is greater than permitted\n",
      "RDKit ERROR: [16:18:36] ERROR: Could not sanitize molecule ending on line 567073\n",
      "RDKit ERROR: [16:18:36] ERROR: Explicit valence for atom # 27 N, 4, is greater than permitted\n",
      "RDKit ERROR: [16:18:36] Can't kekulize mol.  Unkekulized atoms: 9 10 11 12 13 14 15 16 17\n",
      "RDKit ERROR: \n",
      "RDKit ERROR: [16:18:36] ERROR: Could not sanitize molecule ending on line 568252\n",
      "RDKit ERROR: [16:18:36] ERROR: Can't kekulize mol.  Unkekulized atoms: 9 10 11 12 13 14 15 16 17\n",
      "RDKit ERROR: \n",
      "RDKit ERROR: [16:18:36] Can't kekulize mol.  Unkekulized atoms: 23 24 25 26 27\n",
      "RDKit ERROR: \n",
      "RDKit ERROR: [16:18:36] ERROR: Could not sanitize molecule ending on line 574645\n",
      "RDKit ERROR: [16:18:36] ERROR: Can't kekulize mol.  Unkekulized atoms: 23 24 25 26 27\n",
      "RDKit ERROR: \n",
      "RDKit ERROR: [16:18:36] Can't kekulize mol.  Unkekulized atoms: 5 6 7 8 9\n",
      "RDKit ERROR: \n",
      "RDKit ERROR: [16:18:36] ERROR: Could not sanitize molecule ending on line 592639\n",
      "RDKit ERROR: [16:18:36] ERROR: Can't kekulize mol.  Unkekulized atoms: 5 6 7 8 9\n",
      "RDKit ERROR: \n",
      "RDKit ERROR: [16:18:36] Explicit valence for atom # 12 N, 4, is greater than permitted\n",
      "RDKit ERROR: [16:18:36] ERROR: Could not sanitize molecule ending on line 595909\n",
      "RDKit ERROR: [16:18:36] ERROR: Explicit valence for atom # 12 N, 4, is greater than permitted\n",
      "RDKit ERROR: [16:18:36] Explicit valence for atom # 0 Br, 2, is greater than permitted\n",
      "RDKit ERROR: [16:18:36] ERROR: Could not sanitize molecule ending on line 599041\n",
      "RDKit ERROR: [16:18:36] ERROR: Explicit valence for atom # 0 Br, 2, is greater than permitted\n",
      "RDKit ERROR: [16:18:36] Explicit valence for atom # 1 N, 4, is greater than permitted\n",
      "RDKit ERROR: [16:18:36] ERROR: Could not sanitize molecule ending on line 601819\n",
      "RDKit ERROR: [16:18:36] ERROR: Explicit valence for atom # 1 N, 4, is greater than permitted\n",
      "RDKit ERROR: [16:18:36] Explicit valence for atom # 6 Be, 4, is greater than permitted\n",
      "RDKit ERROR: [16:18:36] ERROR: Could not sanitize molecule ending on line 604427\n",
      "RDKit ERROR: [16:18:36] ERROR: Explicit valence for atom # 6 Be, 4, is greater than permitted\n",
      "RDKit ERROR: [16:18:36] Can't kekulize mol.  Unkekulized atoms: 4 5 6 7 8 9 10 11 12\n",
      "RDKit ERROR: \n",
      "RDKit ERROR: [16:18:36] ERROR: Could not sanitize molecule ending on line 604912\n",
      "RDKit ERROR: [16:18:36] ERROR: Can't kekulize mol.  Unkekulized atoms: 4 5 6 7 8 9 10 11 12\n",
      "RDKit ERROR: \n",
      "RDKit ERROR: [16:18:36] Can't kekulize mol.  Unkekulized atoms: 5 6 7 8 9 10 11 12 13\n",
      "RDKit ERROR: \n",
      "RDKit ERROR: [16:18:36] ERROR: Could not sanitize molecule ending on line 616025\n",
      "RDKit ERROR: [16:18:36] ERROR: Can't kekulize mol.  Unkekulized atoms: 5 6 7 8 9 10 11 12 13\n",
      "RDKit ERROR: \n",
      "RDKit ERROR: [16:18:36] Can't kekulize mol.  Unkekulized atoms: 1 2 3 5 6 7 8 9 10\n",
      "RDKit ERROR: \n",
      "RDKit ERROR: [16:18:36] ERROR: Could not sanitize molecule ending on line 623202\n",
      "RDKit ERROR: [16:18:36] ERROR: Can't kekulize mol.  Unkekulized atoms: 1 2 3 5 6 7 8 9 10\n",
      "RDKit ERROR: \n",
      "RDKit ERROR: [16:18:37] Can't kekulize mol.  Unkekulized atoms: 5 6 7 8 9 10 11 12 13\n",
      "RDKit ERROR: \n",
      "RDKit ERROR: [16:18:37] ERROR: Could not sanitize molecule ending on line 628065\n",
      "RDKit ERROR: [16:18:37] ERROR: Can't kekulize mol.  Unkekulized atoms: 5 6 7 8 9 10 11 12 13\n",
      "RDKit ERROR: \n",
      "RDKit ERROR: [16:18:37] Explicit valence for atom # 19 N, 4, is greater than permitted\n",
      "RDKit ERROR: [16:18:37] ERROR: Could not sanitize molecule ending on line 636938\n",
      "RDKit ERROR: [16:18:37] ERROR: Explicit valence for atom # 19 N, 4, is greater than permitted\n",
      "RDKit ERROR: [16:18:37] Explicit valence for atom # 0 O, 3, is greater than permitted\n",
      "RDKit ERROR: [16:18:37] ERROR: Could not sanitize molecule ending on line 640674\n",
      "RDKit ERROR: [16:18:37] ERROR: Explicit valence for atom # 0 O, 3, is greater than permitted\n",
      "RDKit ERROR: [16:18:37] Explicit valence for atom # 17 Mg, 4, is greater than permitted\n",
      "RDKit ERROR: [16:18:37] ERROR: Could not sanitize molecule ending on line 642835\n"
     ]
    },
    {
     "name": "stderr",
     "output_type": "stream",
     "text": [
      "RDKit ERROR: [16:18:37] ERROR: Explicit valence for atom # 17 Mg, 4, is greater than permitted\n",
      "RDKit ERROR: [16:18:37] Explicit valence for atom # 4 F, 2, is greater than permitted\n",
      "RDKit ERROR: [16:18:37] ERROR: Could not sanitize molecule ending on line 645068\n",
      "RDKit ERROR: [16:18:37] ERROR: Explicit valence for atom # 4 F, 2, is greater than permitted\n",
      "RDKit ERROR: [16:18:37] Can't kekulize mol.  Unkekulized atoms: 0 1 2 4 5 6 7 8 9 10\n",
      "RDKit ERROR: \n",
      "RDKit ERROR: [16:18:37] ERROR: Could not sanitize molecule ending on line 659994\n",
      "RDKit ERROR: [16:18:37] ERROR: Can't kekulize mol.  Unkekulized atoms: 0 1 2 4 5 6 7 8 9 10\n",
      "RDKit ERROR: \n",
      "RDKit ERROR: [16:18:38]  Unhandled CTAB feature: S group SRU on line: 754017. Molecule skipped.\n",
      "RDKit ERROR: [16:18:39] Explicit valence for atom # 0 Be, 3, is greater than permitted\n",
      "RDKit ERROR: [16:18:39] ERROR: Could not sanitize molecule ending on line 995692\n",
      "RDKit ERROR: [16:18:39] ERROR: Explicit valence for atom # 0 Be, 3, is greater than permitted\n",
      "RDKit ERROR: [16:18:40]  Unhandled CTAB feature: S group SRU on line: 1148513. Molecule skipped.\n",
      "RDKit ERROR: [16:18:40] Explicit valence for atom # 0 C greater than permitted\n",
      "RDKit ERROR: [16:18:40] ERROR: Could not sanitize molecule ending on line 1151592\n",
      "RDKit ERROR: [16:18:40] ERROR: Explicit valence for atom # 0 C greater than permitted\n",
      "RDKit ERROR: [16:21:30] Can't kekulize mol.  Unkekulized atoms: 3 10\n",
      "RDKit ERROR: \n",
      "RDKit ERROR: [16:21:30] Can't kekulize mol.  Unkekulized atoms: 3 10\n",
      "RDKit ERROR: \n",
      "RDKit ERROR: [16:21:30] Can't kekulize mol.  Unkekulized atoms: 3 10\n",
      "RDKit ERROR: \n",
      "RDKit ERROR: [16:21:30] Can't kekulize mol.  Unkekulized atoms: 3 10\n",
      "RDKit ERROR: \n",
      "RDKit ERROR: [16:21:30] Can't kekulize mol.  Unkekulized atoms: 3 10\n",
      "RDKit ERROR: \n"
     ]
    }
   ],
   "source": [
    "drugbank = [mol for mol in Chem.SDMolSupplier('../data/drugbank.sdf') if mol]\n",
    "suppl = (standardization(mol) for mol in drugbank if mol)\n",
    "clean_drugbank = [mol for mol in suppl if mol]"
   ]
  },
  {
   "cell_type": "code",
   "execution_count": 26,
   "metadata": {},
   "outputs": [
    {
     "data": {
      "text/plain": [
       "(7110, 6207)"
      ]
     },
     "execution_count": 26,
     "metadata": {},
     "output_type": "execute_result"
    }
   ],
   "source": [
    "len(drugbank), len(clean_drugbank)"
   ]
  },
  {
   "cell_type": "code",
   "execution_count": null,
   "metadata": {},
   "outputs": [],
   "source": [
    "fps =  [Chem.GetMorganFingerprintAsBitVect(m, 2, nBits=1024) for m in clean_drugbank]\n",
    "\n",
    "sparse_mat = distance.pdist(fps, metric=\"jaccard\")\n",
    "dist_mat = distance.squareform(sparse_mat)\n",
    "\n",
    "clf = manifold.MDS(n_components=2, n_init=1, max_iter=100, dissimilarity=\"precomputed\")\n",
    "X_mds = clf.fit_transform(dist_mat)"
   ]
  },
  {
   "cell_type": "code",
   "execution_count": null,
   "metadata": {},
   "outputs": [],
   "source": [
    "pd.DataFrame(X_mds, columns=[\"x\",\"y\"])"
   ]
  },
  {
   "cell_type": "code",
   "execution_count": null,
   "metadata": {},
   "outputs": [],
   "source": [
    "seaborn.scatterplot(x=\"x\",y=\"y\", data=data)"
   ]
  },
  {
   "cell_type": "code",
   "execution_count": null,
   "metadata": {},
   "outputs": [],
   "source": [
    "def distance_function(i, j):\n",
    "    dist_mat[i,j]\n",
    "    \n",
    "picker=MaxMinPicker()    \n",
    "picked = list(picker.LazyPick(distance_function,len(fps),100, seed=666))\n",
    "t_data = data.copy()\n",
    "t_data[\"picked\"] = [x in picked for x,y in enumerate(X_mds)]"
   ]
  },
  {
   "cell_type": "code",
   "execution_count": null,
   "metadata": {},
   "outputs": [],
   "source": [
    "seaborn.scatterplot(x=\"x\",y=\"y\", data=t_data, hue=\"picked\")"
   ]
  },
  {
   "cell_type": "code",
   "execution_count": null,
   "metadata": {},
   "outputs": [],
   "source": []
  },
  {
   "cell_type": "code",
   "execution_count": null,
   "metadata": {},
   "outputs": [],
   "source": []
  },
  {
   "cell_type": "code",
   "execution_count": null,
   "metadata": {},
   "outputs": [],
   "source": []
  },
  {
   "cell_type": "code",
   "execution_count": null,
   "metadata": {},
   "outputs": [],
   "source": []
  }
 ],
 "metadata": {
  "kernelspec": {
   "display_name": "Python 3",
   "language": "python",
   "name": "python3"
  },
  "language_info": {
   "codemirror_mode": {
    "name": "ipython",
    "version": 3
   },
   "file_extension": ".py",
   "mimetype": "text/x-python",
   "name": "python",
   "nbconvert_exporter": "python",
   "pygments_lexer": "ipython3",
   "version": "3.6.5"
  }
 },
 "nbformat": 4,
 "nbformat_minor": 2
}
