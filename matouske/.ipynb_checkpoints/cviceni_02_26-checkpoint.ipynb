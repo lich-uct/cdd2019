{
 "cells": [
  {
   "cell_type": "code",
   "execution_count": 1,
   "metadata": {},
   "outputs": [],
   "source": [
    "from rdkit import Chem\n",
    "from rdkit.Chem.Draw import IPythonConsole #pro nakresleni molekuly\n",
    "#funkce zacinaji velkym pismenem"
   ]
  },
  {
   "cell_type": "code",
   "execution_count": 2,
   "metadata": {
    "scrolled": true
   },
   "outputs": [
    {
     "data": {
      "image/png": "[encoded data removed]",
      "text/plain": [
       "<rdkit.Chem.rdchem.Mol at 0x7f87701779e0>"
      ]
     },
     "execution_count": 2,
     "metadata": {},
     "output_type": "execute_result"
    }
   ],
   "source": [
    "Chem.MolFromSmiles('CCCCCCCCCC')"
   ]
  },
  {
   "cell_type": "code",
   "execution_count": 11,
   "metadata": {},
   "outputs": [
    {
     "name": "stdout",
     "output_type": "stream",
     "text": [
      "<rdkit.Chem.rdchem.Mol object at 0x7f8798fad120>\n"
     ]
    },
    {
     "data": {
      "image/png": "[encoded data removed]",
      "text/plain": [
       "<rdkit.Chem.rdchem.Mol at 0x7f8798fad120>"
      ]
     },
     "execution_count": 11,
     "metadata": {},
     "output_type": "execute_result"
    }
   ],
   "source": [
    "m = Chem.MolFromSmiles('c1ccccc1')\n",
    "print(m)\n",
    "m"
   ]
  },
  {
   "cell_type": "code",
   "execution_count": 13,
   "metadata": {},
   "outputs": [
    {
     "data": {
      "text/plain": [
       "6"
      ]
     },
     "execution_count": 13,
     "metadata": {},
     "output_type": "execute_result"
    }
   ],
   "source": [
    "m.GetNumAtoms()"
   ]
  },
  {
   "cell_type": "code",
   "execution_count": 14,
   "metadata": {},
   "outputs": [
    {
     "data": {
      "text/plain": [
       "6"
      ]
     },
     "execution_count": 14,
     "metadata": {},
     "output_type": "execute_result"
    }
   ],
   "source": [
    "m.GetNumBonds()"
   ]
  },
  {
   "cell_type": "code",
   "execution_count": 15,
   "metadata": {},
   "outputs": [
    {
     "data": {
      "text/plain": [
       "'c1ccccc1'"
      ]
     },
     "execution_count": 15,
     "metadata": {},
     "output_type": "execute_result"
    }
   ],
   "source": [
    "Chem.MolToSmiles(m)"
   ]
  },
  {
   "cell_type": "code",
   "execution_count": 26,
   "metadata": {},
   "outputs": [],
   "source": [
    "suppl = Chem.SDMolSupplier('../data/drugbank.sdf')\n",
    "# supplier je kurzor dosouboru"
   ]
  },
  {
   "cell_type": "code",
   "execution_count": 27,
   "metadata": {},
   "outputs": [
    {
     "data": {
      "text/plain": [
       "<rdkit.Chem.rdmolfiles.SDMolSupplier at 0x7f876f758ed8>"
      ]
     },
     "execution_count": 27,
     "metadata": {},
     "output_type": "execute_result"
    }
   ],
   "source": [
    "suppl"
   ]
  },
  {
   "cell_type": "code",
   "execution_count": 25,
   "metadata": {},
   "outputs": [
    {
     "data": {
      "image/png": "[encoded data removed]",
      "text/plain": [
       "<rdkit.Chem.rdchem.Mol at 0x7f876fac9da0>"
      ]
     },
     "execution_count": 25,
     "metadata": {},
     "output_type": "execute_result"
    }
   ],
   "source": [
    "#suppl.__next__()"
   ]
  },
  {
   "cell_type": "code",
   "execution_count": 30,
   "metadata": {},
   "outputs": [
    {
     "name": "stderr",
     "output_type": "stream",
     "text": [
      "RDKit WARNING: [16:05:54]  S group DAT ignored on line 2516\n",
      "RDKit WARNING: [16:05:54]  S group DAT ignored on line 2516\n",
      "RDKit WARNING: [16:05:54]  S group DAT ignored on line 2516\n",
      "RDKit WARNING: [16:05:54]  S group DAT ignored on line 2516\n",
      "RDKit WARNING: [16:05:54]  S group DAT ignored on line 15552\n",
      "RDKit WARNING: [16:05:54]  S group DAT ignored on line 15552\n",
      "RDKit WARNING: [16:05:54]  S group DAT ignored on line 15552\n",
      "RDKit WARNING: [16:05:54]  S group DAT ignored on line 15552\n",
      "RDKit ERROR: [16:05:10] ERROR: Explicit valence for atom # 7 N, 4, is greater than permitted\n",
      "RDKit ERROR: [16:05:54] Explicit valence for atom # 7 N, 4, is greater than permitted\n",
      "RDKit ERROR: [16:05:54] ERROR: Could not sanitize molecule ending on line 20009\n",
      "RDKit WARNING: [16:05:54] Warning: conflicting stereochemistry at atom 5 ignored.\n",
      "RDKit WARNING: [16:05:54] Warning: conflicting stereochemistry at atom 5 ignored.\n",
      "RDKit WARNING: [16:05:54]  S group GEN ignored on line 102860\n",
      "RDKit ERROR: [16:05:54] ERROR: Explicit valence for atom # 7 N, 4, is greater than permitted\n",
      "RDKit ERROR: [16:05:54]  Unhandled CTAB feature: S group COP on line: 133906. Molecule skipped.\n",
      "RDKit ERROR: [16:05:55] Can't kekulize mol.  Unkekulized atoms: 1 2 3 5 6 7 8 9 10\n",
      "RDKit ERROR: \n",
      "RDKit ERROR: [16:05:55] ERROR: Could not sanitize molecule ending on line 250947\n",
      "RDKit ERROR: [16:05:55] ERROR: Can't kekulize mol.  Unkekulized atoms: 1 2 3 5 6 7 8 9 10\n",
      "RDKit ERROR: \n",
      "RDKit ERROR: [16:05:55] Explicit valence for atom # 17 O, 3, is greater than permitted\n",
      "RDKit ERROR: [16:05:55] ERROR: Could not sanitize molecule ending on line 258130\n",
      "RDKit ERROR: [16:05:55] ERROR: Explicit valence for atom # 17 O, 3, is greater than permitted\n",
      "RDKit ERROR: [16:05:55] Can't kekulize mol.  Unkekulized atoms: 57 58 59 60 61 62 63 64 65\n",
      "RDKit ERROR: \n",
      "RDKit ERROR: [16:05:55] ERROR: Could not sanitize molecule ending on line 261581\n",
      "RDKit ERROR: [16:05:55] ERROR: Can't kekulize mol.  Unkekulized atoms: 57 58 59 60 61 62 63 64 65\n",
      "RDKit ERROR: \n",
      "RDKit ERROR: [16:05:55] Explicit valence for atom # 47 Mg, 4, is greater than permitted\n",
      "RDKit ERROR: [16:05:55] ERROR: Could not sanitize molecule ending on line 272221\n",
      "RDKit ERROR: [16:05:55] ERROR: Explicit valence for atom # 47 Mg, 4, is greater than permitted\n",
      "RDKit ERROR: [16:05:55] Can't kekulize mol.  Unkekulized atoms: 0 1 2 6 7 8 9 10 11 12 13 14 15 16 17\n",
      "RDKit ERROR: \n",
      "RDKit ERROR: [16:05:55] ERROR: Could not sanitize molecule ending on line 280661\n",
      "RDKit ERROR: [16:05:55] ERROR: Can't kekulize mol.  Unkekulized atoms: 0 1 2 6 7 8 9 10 11 12 13 14 15 16 17\n",
      "RDKit ERROR: \n",
      "RDKit ERROR: [16:05:55] Explicit valence for atom # 13 Cl, 5, is greater than permitted\n",
      "RDKit ERROR: [16:05:55] ERROR: Could not sanitize molecule ending on line 282635\n",
      "RDKit ERROR: [16:05:55] ERROR: Explicit valence for atom # 13 Cl, 5, is greater than permitted\n",
      "RDKit ERROR: [16:05:55] Can't kekulize mol.  Unkekulized atoms: 3 4 5 6 7 8 10 11 12\n",
      "RDKit ERROR: \n",
      "RDKit ERROR: [16:05:55] ERROR: Could not sanitize molecule ending on line 292762\n",
      "RDKit ERROR: [16:05:55] ERROR: Can't kekulize mol.  Unkekulized atoms: 3 4 5 6 7 8 10 11 12\n",
      "RDKit ERROR: \n",
      "RDKit ERROR: [16:05:55] Can't kekulize mol.  Unkekulized atoms: 0 1 2 4 5 6 7 8 9 10\n",
      "RDKit ERROR: \n",
      "RDKit ERROR: [16:05:55] ERROR: Could not sanitize molecule ending on line 293836\n",
      "RDKit ERROR: [16:05:55] ERROR: Can't kekulize mol.  Unkekulized atoms: 0 1 2 4 5 6 7 8 9 10\n",
      "RDKit ERROR: \n",
      "RDKit ERROR: [16:05:55] Can't kekulize mol.  Unkekulized atoms: 2 3 4 5 6 7 8 9 10\n",
      "RDKit ERROR: \n",
      "RDKit ERROR: [16:05:55] ERROR: Could not sanitize molecule ending on line 302815\n",
      "RDKit ERROR: [16:05:55] ERROR: Can't kekulize mol.  Unkekulized atoms: 2 3 4 5 6 7 8 9 10\n",
      "RDKit ERROR: \n",
      "RDKit ERROR: [16:05:55] Can't kekulize mol.  Unkekulized atoms: 13 14 15 16 22\n",
      "RDKit ERROR: \n",
      "RDKit ERROR: [16:05:55] ERROR: Could not sanitize molecule ending on line 304047\n",
      "RDKit ERROR: [16:05:55] ERROR: Can't kekulize mol.  Unkekulized atoms: 13 14 15 16 22\n",
      "RDKit ERROR: \n",
      "RDKit ERROR: [16:05:56] Explicit valence for atom # 46 Mg, 4, is greater than permitted\n",
      "RDKit ERROR: [16:05:56] ERROR: Could not sanitize molecule ending on line 312454\n",
      "RDKit ERROR: [16:05:56] ERROR: Explicit valence for atom # 46 Mg, 4, is greater than permitted\n",
      "RDKit ERROR: [16:05:56] Explicit valence for atom # 27 N, 4, is greater than permitted\n",
      "RDKit ERROR: [16:05:56] ERROR: Could not sanitize molecule ending on line 317905\n",
      "RDKit ERROR: [16:05:56] ERROR: Explicit valence for atom # 27 N, 4, is greater than permitted\n",
      "RDKit ERROR: [16:05:56] Explicit valence for atom # 16 N, 4, is greater than permitted\n",
      "RDKit ERROR: [16:05:56] ERROR: Could not sanitize molecule ending on line 318439\n",
      "RDKit ERROR: [16:05:56] ERROR: Explicit valence for atom # 16 N, 4, is greater than permitted\n",
      "RDKit ERROR: [16:05:56] Can't kekulize mol.  Unkekulized atoms: 3 4 5 6 54\n",
      "RDKit ERROR: \n",
      "RDKit ERROR: [16:05:56] ERROR: Could not sanitize molecule ending on line 324910\n",
      "RDKit ERROR: [16:05:56] ERROR: Can't kekulize mol.  Unkekulized atoms: 3 4 5 6 54\n",
      "RDKit ERROR: \n",
      "RDKit ERROR: [16:05:56] Can't kekulize mol.  Unkekulized atoms: 3 4 5 6 7\n",
      "RDKit ERROR: \n",
      "RDKit ERROR: [16:05:56] ERROR: Could not sanitize molecule ending on line 326050\n",
      "RDKit ERROR: [16:05:56] ERROR: Can't kekulize mol.  Unkekulized atoms: 3 4 5 6 7\n",
      "RDKit ERROR: \n",
      "RDKit ERROR: [16:05:56] Can't kekulize mol.  Unkekulized atoms: 2 3 4 5 11\n",
      "RDKit ERROR: \n",
      "RDKit ERROR: [16:05:56] ERROR: Could not sanitize molecule ending on line 331986\n",
      "RDKit ERROR: [16:05:56] ERROR: Can't kekulize mol.  Unkekulized atoms: 2 3 4 5 11\n",
      "RDKit ERROR: \n",
      "RDKit ERROR: [16:05:56] Can't kekulize mol.  Unkekulized atoms: 1 2 3 4 5 6 7 8 9\n",
      "RDKit ERROR: \n",
      "RDKit ERROR: [16:05:56] ERROR: Could not sanitize molecule ending on line 333287\n",
      "RDKit ERROR: [16:05:56] ERROR: Can't kekulize mol.  Unkekulized atoms: 1 2 3 4 5 6 7 8 9\n",
      "RDKit ERROR: \n",
      "RDKit ERROR: [16:05:56] Can't kekulize mol.  Unkekulized atoms: 3 4 5 6 7\n",
      "RDKit ERROR: \n",
      "RDKit ERROR: [16:05:56] ERROR: Could not sanitize molecule ending on line 347574\n",
      "RDKit ERROR: [16:05:56] ERROR: Can't kekulize mol.  Unkekulized atoms: 3 4 5 6 7\n",
      "RDKit ERROR: \n",
      "RDKit ERROR: [16:05:56] Can't kekulize mol.  Unkekulized atoms: 5 6 7 8 9 10 11 12 13\n",
      "RDKit ERROR: \n",
      "RDKit ERROR: [16:05:56] ERROR: Could not sanitize molecule ending on line 357505\n",
      "RDKit ERROR: [16:05:56] ERROR: Can't kekulize mol.  Unkekulized atoms: 5 6 7 8 9 10 11 12 13\n",
      "RDKit ERROR: \n",
      "RDKit ERROR: [16:05:56] Can't kekulize mol.  Unkekulized atoms: 3 4 5 6 7\n",
      "RDKit ERROR: \n",
      "RDKit ERROR: [16:05:56] ERROR: Could not sanitize molecule ending on line 371006\n",
      "RDKit ERROR: [16:05:56] ERROR: Can't kekulize mol.  Unkekulized atoms: 3 4 5 6 7\n",
      "RDKit ERROR: \n",
      "RDKit ERROR: [16:05:56] Can't kekulize mol.  Unkekulized atoms: 1 2 3 4 5 6 7 8 9\n",
      "RDKit ERROR: \n",
      "RDKit ERROR: [16:05:56] ERROR: Could not sanitize molecule ending on line 378618\n",
      "RDKit ERROR: [16:05:56] ERROR: Can't kekulize mol.  Unkekulized atoms: 1 2 3 4 5 6 7 8 9\n",
      "RDKit ERROR: \n",
      "RDKit ERROR: [16:05:56] Explicit valence for atom # 56 O, 3, is greater than permitted\n",
      "RDKit ERROR: [16:05:56] ERROR: Could not sanitize molecule ending on line 398455\n",
      "RDKit ERROR: [16:05:56] ERROR: Explicit valence for atom # 56 O, 3, is greater than permitted\n",
      "RDKit ERROR: [16:05:56] Can't kekulize mol.  Unkekulized atoms: 9 10 11 12 18\n",
      "RDKit ERROR: \n",
      "RDKit ERROR: [16:05:56] ERROR: Could not sanitize molecule ending on line 407765\n",
      "RDKit ERROR: [16:05:56] ERROR: Can't kekulize mol.  Unkekulized atoms: 9 10 11 12 18\n",
      "RDKit ERROR: \n",
      "RDKit ERROR: [16:05:56] Explicit valence for atom # 46 Mg, 4, is greater than permitted\n",
      "RDKit ERROR: [16:05:56] ERROR: Could not sanitize molecule ending on line 417941\n",
      "RDKit ERROR: [16:05:56] ERROR: Explicit valence for atom # 46 Mg, 4, is greater than permitted\n",
      "RDKit ERROR: [16:05:56] Can't kekulize mol.  Unkekulized atoms: 1 2 3 12 13 14 15 16 17\n",
      "RDKit ERROR: \n",
      "RDKit ERROR: [16:05:56] ERROR: Could not sanitize molecule ending on line 422810\n",
      "RDKit ERROR: [16:05:56] ERROR: Can't kekulize mol.  Unkekulized atoms: 1 2 3 12 13 14 15 16 17\n",
      "RDKit ERROR: \n",
      "RDKit ERROR: [16:05:56] Can't kekulize mol.  Unkekulized atoms: 44 45 46 47 49\n",
      "RDKit ERROR: \n",
      "RDKit ERROR: [16:05:56] ERROR: Could not sanitize molecule ending on line 425190\n",
      "RDKit ERROR: [16:05:56] ERROR: Can't kekulize mol.  Unkekulized atoms: 44 45 46 47 49\n",
      "RDKit ERROR: \n",
      "RDKit ERROR: [16:05:56] Explicit valence for atom # 8 N, 5, is greater than permitted\n",
      "RDKit ERROR: [16:05:56] ERROR: Could not sanitize molecule ending on line 426332\n",
      "RDKit ERROR: [16:05:56] ERROR: Explicit valence for atom # 8 N, 5, is greater than permitted\n",
      "RDKit ERROR: [16:05:56] Can't kekulize mol.  Unkekulized atoms: 54 55 56 57 58 59 60 61 62\n",
      "RDKit ERROR: \n",
      "RDKit ERROR: [16:05:56] ERROR: Could not sanitize molecule ending on line 427901\n",
      "RDKit ERROR: [16:05:56] ERROR: Can't kekulize mol.  Unkekulized atoms: 54 55 56 57 58 59 60 61 62\n"
     ]
    },
    {
     "name": "stderr",
     "output_type": "stream",
     "text": [
      "RDKit ERROR: \n",
      "RDKit ERROR: [16:05:56] Can't kekulize mol.  Unkekulized atoms: 0 1 2 3 4 5 6 7 8\n",
      "RDKit ERROR: \n",
      "RDKit ERROR: [16:05:56] ERROR: Could not sanitize molecule ending on line 432118\n",
      "RDKit ERROR: [16:05:56] ERROR: Can't kekulize mol.  Unkekulized atoms: 0 1 2 3 4 5 6 7 8\n",
      "RDKit ERROR: \n",
      "RDKit ERROR: [16:05:57] Can't kekulize mol.  Unkekulized atoms: 3 4 5 6 8 9 10\n",
      "RDKit ERROR: \n",
      "RDKit ERROR: [16:05:57] ERROR: Could not sanitize molecule ending on line 442989\n",
      "RDKit ERROR: [16:05:57] ERROR: Can't kekulize mol.  Unkekulized atoms: 3 4 5 6 8 9 10\n",
      "RDKit ERROR: \n",
      "RDKit ERROR: [16:05:57] Can't kekulize mol.  Unkekulized atoms: 3 4 5 6 9\n",
      "RDKit ERROR: \n",
      "RDKit ERROR: [16:05:57] ERROR: Could not sanitize molecule ending on line 447465\n",
      "RDKit ERROR: [16:05:57] ERROR: Can't kekulize mol.  Unkekulized atoms: 3 4 5 6 9\n",
      "RDKit ERROR: \n",
      "RDKit ERROR: [16:05:57] Can't kekulize mol.  Unkekulized atoms: 16 17 18 19 20\n",
      "RDKit ERROR: \n",
      "RDKit ERROR: [16:05:57] ERROR: Could not sanitize molecule ending on line 466177\n",
      "RDKit ERROR: [16:05:57] ERROR: Can't kekulize mol.  Unkekulized atoms: 16 17 18 19 20\n",
      "RDKit ERROR: \n",
      "RDKit ERROR: [16:05:57] Can't kekulize mol.  Unkekulized atoms: 7 8 9 10 17\n",
      "RDKit ERROR: \n",
      "RDKit ERROR: [16:05:57] ERROR: Could not sanitize molecule ending on line 468852\n",
      "RDKit ERROR: [16:05:57] ERROR: Can't kekulize mol.  Unkekulized atoms: 7 8 9 10 17\n",
      "RDKit ERROR: \n",
      "RDKit ERROR: [16:05:57] Can't kekulize mol.  Unkekulized atoms: 3 4 5 6 7 8 9 10 11\n",
      "RDKit ERROR: \n",
      "RDKit ERROR: [16:05:57] ERROR: Could not sanitize molecule ending on line 469201\n",
      "RDKit ERROR: [16:05:57] ERROR: Can't kekulize mol.  Unkekulized atoms: 3 4 5 6 7 8 9 10 11\n",
      "RDKit ERROR: \n",
      "RDKit ERROR: [16:05:57] Explicit valence for atom # 53 N, 4, is greater than permitted\n",
      "RDKit ERROR: [16:05:57] ERROR: Could not sanitize molecule ending on line 472285\n",
      "RDKit ERROR: [16:05:57] ERROR: Explicit valence for atom # 53 N, 4, is greater than permitted\n",
      "RDKit ERROR: [16:05:57] Can't kekulize mol.  Unkekulized atoms: 2 3 4 5 12\n",
      "RDKit ERROR: \n",
      "RDKit ERROR: [16:05:57] ERROR: Could not sanitize molecule ending on line 480504\n",
      "RDKit ERROR: [16:05:57] ERROR: Can't kekulize mol.  Unkekulized atoms: 2 3 4 5 12\n",
      "RDKit ERROR: \n",
      "RDKit ERROR: [16:05:57] Explicit valence for atom # 2 O, 3, is greater than permitted\n",
      "RDKit ERROR: [16:05:57] ERROR: Could not sanitize molecule ending on line 499305\n",
      "RDKit ERROR: [16:05:57] ERROR: Explicit valence for atom # 2 O, 3, is greater than permitted\n",
      "RDKit ERROR: [16:05:57] Can't kekulize mol.  Unkekulized atoms: 1 2 3 4 5 6 7 8 9\n",
      "RDKit ERROR: \n",
      "RDKit ERROR: [16:05:57] ERROR: Could not sanitize molecule ending on line 503342\n",
      "RDKit ERROR: [16:05:57] ERROR: Can't kekulize mol.  Unkekulized atoms: 1 2 3 4 5 6 7 8 9\n",
      "RDKit ERROR: \n",
      "RDKit ERROR: [16:05:57] Can't kekulize mol.  Unkekulized atoms: 0 1 2 4 5 6 7 8 9 10\n",
      "RDKit ERROR: \n",
      "RDKit ERROR: [16:05:57] ERROR: Could not sanitize molecule ending on line 508068\n",
      "RDKit ERROR: [16:05:57] ERROR: Can't kekulize mol.  Unkekulized atoms: 0 1 2 4 5 6 7 8 9 10\n",
      "RDKit ERROR: \n",
      "RDKit ERROR: [16:05:57] Can't kekulize mol.  Unkekulized atoms: 1 2 3 4 5 6 7 8 9\n",
      "RDKit ERROR: \n",
      "RDKit ERROR: [16:05:57] ERROR: Could not sanitize molecule ending on line 510069\n",
      "RDKit ERROR: [16:05:57] ERROR: Can't kekulize mol.  Unkekulized atoms: 1 2 3 4 5 6 7 8 9\n",
      "RDKit ERROR: \n",
      "RDKit ERROR: [16:05:57] Can't kekulize mol.  Unkekulized atoms: 3 4 5 6 7 8 10\n",
      "RDKit ERROR: \n",
      "RDKit ERROR: [16:05:57] ERROR: Could not sanitize molecule ending on line 511111\n",
      "RDKit ERROR: [16:05:57] ERROR: Can't kekulize mol.  Unkekulized atoms: 3 4 5 6 7 8 10\n",
      "RDKit ERROR: \n",
      "RDKit ERROR: [16:05:57] Can't kekulize mol.  Unkekulized atoms: 1 2 3 5 6 7 8 9 10\n",
      "RDKit ERROR: \n",
      "RDKit ERROR: [16:05:57] ERROR: Could not sanitize molecule ending on line 512030\n",
      "RDKit ERROR: [16:05:57] ERROR: Can't kekulize mol.  Unkekulized atoms: 1 2 3 5 6 7 8 9 10\n",
      "RDKit ERROR: \n",
      "RDKit ERROR: [16:05:57] Explicit valence for atom # 2 O, 3, is greater than permitted\n",
      "RDKit ERROR: [16:05:57] ERROR: Could not sanitize molecule ending on line 519056\n",
      "RDKit ERROR: [16:05:57] ERROR: Explicit valence for atom # 2 O, 3, is greater than permitted\n",
      "RDKit ERROR: [16:05:57] Explicit valence for atom # 6 B, 4, is greater than permitted\n",
      "RDKit ERROR: [16:05:57] ERROR: Could not sanitize molecule ending on line 541262\n",
      "RDKit ERROR: [16:05:57] ERROR: Explicit valence for atom # 6 B, 4, is greater than permitted\n",
      "RDKit ERROR: [16:05:58] Can't kekulize mol.  Unkekulized atoms: 2 3 17 19 20\n",
      "RDKit ERROR: \n",
      "RDKit ERROR: [16:05:58] ERROR: Could not sanitize molecule ending on line 557517\n",
      "RDKit ERROR: [16:05:58] ERROR: Can't kekulize mol.  Unkekulized atoms: 2 3 17 19 20\n",
      "RDKit ERROR: \n",
      "RDKit ERROR: [16:05:58] Can't kekulize mol.  Unkekulized atoms: 0 1 2 4 5 6 7 8 9 10\n",
      "RDKit ERROR: \n",
      "RDKit ERROR: [16:05:58] ERROR: Could not sanitize molecule ending on line 561344\n",
      "RDKit ERROR: [16:05:58] ERROR: Can't kekulize mol.  Unkekulized atoms: 0 1 2 4 5 6 7 8 9 10\n",
      "RDKit ERROR: \n",
      "RDKit ERROR: [16:05:58] Can't kekulize mol.  Unkekulized atoms: 10 11 12 13 19\n",
      "RDKit ERROR: \n",
      "RDKit ERROR: [16:05:58] ERROR: Could not sanitize molecule ending on line 562947\n",
      "RDKit ERROR: [16:05:58] ERROR: Can't kekulize mol.  Unkekulized atoms: 10 11 12 13 19\n",
      "RDKit ERROR: \n",
      "RDKit ERROR: [16:05:58] Explicit valence for atom # 27 N, 4, is greater than permitted\n",
      "RDKit ERROR: [16:05:58] ERROR: Could not sanitize molecule ending on line 567073\n",
      "RDKit ERROR: [16:05:58] ERROR: Explicit valence for atom # 27 N, 4, is greater than permitted\n",
      "RDKit ERROR: [16:05:58] Can't kekulize mol.  Unkekulized atoms: 9 10 11 12 13 14 15 16 17\n",
      "RDKit ERROR: \n",
      "RDKit ERROR: [16:05:58] ERROR: Could not sanitize molecule ending on line 568252\n",
      "RDKit ERROR: [16:05:58] ERROR: Can't kekulize mol.  Unkekulized atoms: 9 10 11 12 13 14 15 16 17\n",
      "RDKit ERROR: \n",
      "RDKit ERROR: [16:05:58] Can't kekulize mol.  Unkekulized atoms: 23 24 25 26 27\n",
      "RDKit ERROR: \n",
      "RDKit ERROR: [16:05:58] ERROR: Could not sanitize molecule ending on line 574645\n",
      "RDKit ERROR: [16:05:58] ERROR: Can't kekulize mol.  Unkekulized atoms: 23 24 25 26 27\n",
      "RDKit ERROR: \n",
      "RDKit ERROR: [16:05:58] Can't kekulize mol.  Unkekulized atoms: 5 6 7 8 9\n",
      "RDKit ERROR: \n",
      "RDKit ERROR: [16:05:58] ERROR: Could not sanitize molecule ending on line 592639\n",
      "RDKit ERROR: [16:05:58] ERROR: Can't kekulize mol.  Unkekulized atoms: 5 6 7 8 9\n",
      "RDKit ERROR: \n",
      "RDKit ERROR: [16:05:58] Explicit valence for atom # 12 N, 4, is greater than permitted\n",
      "RDKit ERROR: [16:05:58] ERROR: Could not sanitize molecule ending on line 595909\n",
      "RDKit ERROR: [16:05:58] ERROR: Explicit valence for atom # 12 N, 4, is greater than permitted\n",
      "RDKit ERROR: [16:05:58] Explicit valence for atom # 0 Br, 2, is greater than permitted\n",
      "RDKit ERROR: [16:05:58] ERROR: Could not sanitize molecule ending on line 599041\n",
      "RDKit ERROR: [16:05:58] ERROR: Explicit valence for atom # 0 Br, 2, is greater than permitted\n",
      "RDKit ERROR: [16:05:58] Explicit valence for atom # 1 N, 4, is greater than permitted\n",
      "RDKit ERROR: [16:05:58] ERROR: Could not sanitize molecule ending on line 601819\n",
      "RDKit ERROR: [16:05:58] ERROR: Explicit valence for atom # 1 N, 4, is greater than permitted\n",
      "RDKit ERROR: [16:05:58] Explicit valence for atom # 6 Be, 4, is greater than permitted\n",
      "RDKit ERROR: [16:05:58] ERROR: Could not sanitize molecule ending on line 604427\n",
      "RDKit ERROR: [16:05:58] ERROR: Explicit valence for atom # 6 Be, 4, is greater than permitted\n",
      "RDKit ERROR: [16:05:58] Can't kekulize mol.  Unkekulized atoms: 4 5 6 7 8 9 10 11 12\n",
      "RDKit ERROR: \n",
      "RDKit ERROR: [16:05:58] ERROR: Could not sanitize molecule ending on line 604912\n",
      "RDKit ERROR: [16:05:58] ERROR: Can't kekulize mol.  Unkekulized atoms: 4 5 6 7 8 9 10 11 12\n",
      "RDKit ERROR: \n",
      "RDKit ERROR: [16:05:58] Can't kekulize mol.  Unkekulized atoms: 5 6 7 8 9 10 11 12 13\n",
      "RDKit ERROR: \n",
      "RDKit ERROR: [16:05:58] ERROR: Could not sanitize molecule ending on line 616025\n",
      "RDKit ERROR: [16:05:58] ERROR: Can't kekulize mol.  Unkekulized atoms: 5 6 7 8 9 10 11 12 13\n",
      "RDKit ERROR: \n",
      "RDKit ERROR: [16:05:58] Can't kekulize mol.  Unkekulized atoms: 1 2 3 5 6 7 8 9 10\n",
      "RDKit ERROR: \n",
      "RDKit ERROR: [16:05:58] ERROR: Could not sanitize molecule ending on line 623202\n",
      "RDKit ERROR: [16:05:58] ERROR: Can't kekulize mol.  Unkekulized atoms: 1 2 3 5 6 7 8 9 10\n",
      "RDKit ERROR: \n",
      "RDKit ERROR: [16:05:58] Can't kekulize mol.  Unkekulized atoms: 5 6 7 8 9 10 11 12 13\n",
      "RDKit ERROR: \n",
      "RDKit ERROR: [16:05:58] ERROR: Could not sanitize molecule ending on line 628065\n",
      "RDKit ERROR: [16:05:58] ERROR: Can't kekulize mol.  Unkekulized atoms: 5 6 7 8 9 10 11 12 13\n",
      "RDKit ERROR: \n",
      "RDKit ERROR: [16:05:58] Explicit valence for atom # 19 N, 4, is greater than permitted\n",
      "RDKit ERROR: [16:05:58] ERROR: Could not sanitize molecule ending on line 636938\n",
      "RDKit ERROR: [16:05:58] ERROR: Explicit valence for atom # 19 N, 4, is greater than permitted\n",
      "RDKit ERROR: [16:05:58] Explicit valence for atom # 0 O, 3, is greater than permitted\n",
      "RDKit ERROR: [16:05:58] ERROR: Could not sanitize molecule ending on line 640674\n",
      "RDKit ERROR: [16:05:58] ERROR: Explicit valence for atom # 0 O, 3, is greater than permitted\n",
      "RDKit ERROR: [16:05:58] Explicit valence for atom # 17 Mg, 4, is greater than permitted\n",
      "RDKit ERROR: [16:05:58] ERROR: Could not sanitize molecule ending on line 642835\n",
      "RDKit ERROR: [16:05:58] ERROR: Explicit valence for atom # 17 Mg, 4, is greater than permitted\n",
      "RDKit ERROR: [16:05:58] Explicit valence for atom # 4 F, 2, is greater than permitted\n",
      "RDKit ERROR: [16:05:58] ERROR: Could not sanitize molecule ending on line 645068\n"
     ]
    },
    {
     "name": "stderr",
     "output_type": "stream",
     "text": [
      "RDKit ERROR: [16:05:58] ERROR: Explicit valence for atom # 4 F, 2, is greater than permitted\n",
      "RDKit ERROR: [16:05:58] Can't kekulize mol.  Unkekulized atoms: 0 1 2 4 5 6 7 8 9 10\n",
      "RDKit ERROR: \n",
      "RDKit ERROR: [16:05:58] ERROR: Could not sanitize molecule ending on line 659994\n",
      "RDKit ERROR: [16:05:58] ERROR: Can't kekulize mol.  Unkekulized atoms: 0 1 2 4 5 6 7 8 9 10\n",
      "RDKit ERROR: \n",
      "RDKit ERROR: [16:05:59]  Unhandled CTAB feature: S group SRU on line: 754017. Molecule skipped.\n",
      "RDKit ERROR: [16:06:01] Explicit valence for atom # 0 Be, 3, is greater than permitted\n",
      "RDKit ERROR: [16:06:01] ERROR: Could not sanitize molecule ending on line 995692\n",
      "RDKit ERROR: [16:06:01] ERROR: Explicit valence for atom # 0 Be, 3, is greater than permitted\n",
      "RDKit ERROR: [16:06:02]  Unhandled CTAB feature: S group SRU on line: 1148513. Molecule skipped.\n",
      "RDKit ERROR: [16:06:02] Explicit valence for atom # 0 C greater than permitted\n",
      "RDKit ERROR: [16:06:02] ERROR: Could not sanitize molecule ending on line 1151592\n"
     ]
    }
   ],
   "source": [
    "mols = [mol for mol in suppl]   \n",
    "#ulozeni molekul do listu"
   ]
  },
  {
   "cell_type": "code",
   "execution_count": 41,
   "metadata": {},
   "outputs": [
    {
     "data": {
      "text/plain": [
       "7180"
      ]
     },
     "execution_count": 41,
     "metadata": {},
     "output_type": "execute_result"
    }
   ],
   "source": [
    "len(mols)"
   ]
  },
  {
   "cell_type": "code",
   "execution_count": 42,
   "metadata": {},
   "outputs": [
    {
     "data": {
      "text/plain": [
       "70"
      ]
     },
     "execution_count": 42,
     "metadata": {},
     "output_type": "execute_result"
    }
   ],
   "source": [
    "sum([1 for x in mols if not x])\n",
    "#kolik molekul se nenacetlo"
   ]
  },
  {
   "cell_type": "code",
   "execution_count": 43,
   "metadata": {},
   "outputs": [],
   "source": [
    "cmols = [x for x in mols if x]"
   ]
  },
  {
   "cell_type": "code",
   "execution_count": 44,
   "metadata": {},
   "outputs": [
    {
     "data": {
      "text/plain": [
       "7110"
      ]
     },
     "execution_count": 44,
     "metadata": {},
     "output_type": "execute_result"
    }
   ],
   "source": [
    "len(cmols)\n",
    "#ocisteny list od tech,kterese spatne nacetly"
   ]
  },
  {
   "cell_type": "code",
   "execution_count": 40,
   "metadata": {},
   "outputs": [
    {
     "data": {
      "text/plain": [
       "172446"
      ]
     },
     "execution_count": 40,
     "metadata": {},
     "output_type": "execute_result"
    }
   ],
   "source": [
    "heavy_atoms = 0\n",
    "for mol in cmols:\n",
    "    heavy_atoms += mol.GetNumHeavyAtoms()\n",
    "heavy_atoms"
   ]
  },
  {
   "cell_type": "code",
   "execution_count": 45,
   "metadata": {},
   "outputs": [
    {
     "data": {
      "text/plain": [
       "172446"
      ]
     },
     "execution_count": 45,
     "metadata": {},
     "output_type": "execute_result"
    }
   ],
   "source": [
    "sum([mol.GetNumAtoms() for mol in cmols])"
   ]
  },
  {
   "cell_type": "markdown",
   "metadata": {},
   "source": [
    "prumerny pocet aromatickych a nearomatickych kruhu \n",
    "-> tj. pocet kruhu / celkovy pocet molekul"
   ]
  },
  {
   "cell_type": "code",
   "execution_count": 65,
   "metadata": {},
   "outputs": [],
   "source": [
    "rinfo = m.GetRingInfo()"
   ]
  },
  {
   "cell_type": "code",
   "execution_count": 67,
   "metadata": {},
   "outputs": [
    {
     "data": {
      "text/plain": [
       "((0, 5, 4, 3, 2, 1),)"
      ]
     },
     "execution_count": 67,
     "metadata": {},
     "output_type": "execute_result"
    }
   ],
   "source": [
    "rinfo.AtomRings() #indexy atomu v kruhu"
   ]
  },
  {
   "cell_type": "code",
   "execution_count": 68,
   "metadata": {},
   "outputs": [],
   "source": [
    "a = m.GetAtomWithIdx(0)"
   ]
  },
  {
   "cell_type": "code",
   "execution_count": 69,
   "metadata": {},
   "outputs": [
    {
     "data": {
      "text/plain": [
       "True"
      ]
     },
     "execution_count": 69,
     "metadata": {},
     "output_type": "execute_result"
    }
   ],
   "source": [
    "a.GetIsAromatic()"
   ]
  },
  {
   "cell_type": "code",
   "execution_count": null,
   "metadata": {},
   "outputs": [],
   "source": [
    "for mol in cmols:\n",
    "    print(mol.GetRingInfo().AtomRings())"
   ]
  },
  {
   "cell_type": "code",
   "execution_count": 72,
   "metadata": {},
   "outputs": [
    {
     "name": "stdout",
     "output_type": "stream",
     "text": [
      "10878 6661\n",
      "1.529957805907173 0.9368495077355837\n"
     ]
    }
   ],
   "source": [
    "arom = 0\n",
    "nearom = 0\n",
    "for mol in cmols:\n",
    "    rinfo = mol.GetRingInfo().AtomRings() \n",
    "    if len(rinfo):\n",
    "        for r in range(len(rinfo)):\n",
    "            a = mol.GetAtomWithIdx(rinfo[r][0]).GetIsAromatic()\n",
    "            if a:\n",
    "                arom += 1\n",
    "            else:\n",
    "                nearom += 1\n",
    " \n",
    "print(arom, nearom)\n",
    "print(arom/len(cmols), nearom/len(cmols))            \n"
   ]
  },
  {
   "cell_type": "markdown",
   "metadata": {},
   "source": [
    "Z SDF drugBank ulozit do souboru ve SMILES\n",
    "Ulozit jako SMILES (tab) InChIKey"
   ]
  },
  {
   "cell_type": "code",
   "execution_count": 73,
   "metadata": {},
   "outputs": [
    {
     "data": {
      "text/plain": [
       "'c1ccccc1'"
      ]
     },
     "execution_count": 73,
     "metadata": {},
     "output_type": "execute_result"
    }
   ],
   "source": [
    "Chem.MolToSmiles(m)"
   ]
  },
  {
   "cell_type": "code",
   "execution_count": 74,
   "metadata": {},
   "outputs": [
    {
     "data": {
      "text/plain": [
       "'UHOVQNZJYSORNB-UHFFFAOYSA-N'"
      ]
     },
     "execution_count": 74,
     "metadata": {},
     "output_type": "execute_result"
    }
   ],
   "source": [
    "Chem.MolToInchiKey(m)"
   ]
  },
  {
   "cell_type": "code",
   "execution_count": 75,
   "metadata": {},
   "outputs": [
    {
     "name": "stderr",
     "output_type": "stream",
     "text": [
      "RDKit ERROR: [16:06:02] ERROR: Explicit valence for atom # 0 C greater than permitted\n",
      "RDKit ERROR: [16:39:01] Invalid InChI prefix in generating InChI Key\n",
      "RDKit ERROR: [16:39:01] Invalid InChI prefix in generating InChI Key\n"
     ]
    }
   ],
   "source": [
    "with open('smiles_inchi_DB.txt','w') as f:\n",
    "    for mol in cmols:\n",
    "        s = Chem.MolToSmiles(mol)\n",
    "        ik = Chem.MolToInchiKey(mol)\n",
    "        f.write(s+'\\t'+ik+'\\n')\n",
    "        "
   ]
  },
  {
   "cell_type": "code",
   "execution_count": null,
   "metadata": {},
   "outputs": [],
   "source": []
  },
  {
   "cell_type": "code",
   "execution_count": null,
   "metadata": {},
   "outputs": [],
   "source": []
  },
  {
   "cell_type": "code",
   "execution_count": null,
   "metadata": {},
   "outputs": [],
   "source": []
  },
  {
   "cell_type": "code",
   "execution_count": null,
   "metadata": {},
   "outputs": [],
   "source": []
  },
  {
   "cell_type": "code",
   "execution_count": null,
   "metadata": {},
   "outputs": [],
   "source": []
  },
  {
   "cell_type": "code",
   "execution_count": null,
   "metadata": {},
   "outputs": [],
   "source": []
  },
  {
   "cell_type": "code",
   "execution_count": null,
   "metadata": {},
   "outputs": [],
   "source": []
  },
  {
   "cell_type": "markdown",
   "metadata": {},
   "source": [
    "# Nadpis1\n",
    "## Nadpis2\n",
    "### Nadpis3"
   ]
  }
 ],
 "metadata": {
  "kernelspec": {
   "display_name": "Python 3",
   "language": "python",
   "name": "python3"
  },
  "language_info": {
   "codemirror_mode": {
    "name": "ipython",
    "version": 3
   },
   "file_extension": ".py",
   "mimetype": "text/x-python",
   "name": "python",
   "nbconvert_exporter": "python",
   "pygments_lexer": "ipython3",
   "version": "3.6.5"
  }
 },
 "nbformat": 4,
 "nbformat_minor": 2
}
