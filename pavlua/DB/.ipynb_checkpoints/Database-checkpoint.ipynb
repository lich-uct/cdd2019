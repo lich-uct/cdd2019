{
 "cells": [
  {
   "cell_type": "markdown",
   "metadata": {},
   "source": [
    "# Connecting"
   ]
  },
  {
   "cell_type": "code",
   "execution_count": 8,
   "metadata": {},
   "outputs": [],
   "source": [
    "from rdkit.Chem import AllChem as Chem\n",
    "import psycopg2 as pg"
   ]
  },
  {
   "cell_type": "code",
   "execution_count": 9,
   "metadata": {},
   "outputs": [],
   "source": [
    "c = pg.connect(\"dbname=drugbank user=script password=pnl\")"
   ]
  },
  {
   "cell_type": "code",
   "execution_count": 38,
   "metadata": {},
   "outputs": [],
   "source": [
    "c.close()"
   ]
  },
  {
   "cell_type": "code",
   "execution_count": 10,
   "metadata": {},
   "outputs": [],
   "source": [
    "cursor = c.cursor()"
   ]
  },
  {
   "cell_type": "code",
   "execution_count": 11,
   "metadata": {},
   "outputs": [
    {
     "data": {
      "text/plain": [
       "[(9,)]"
      ]
     },
     "execution_count": 11,
     "metadata": {},
     "output_type": "execute_result"
    }
   ],
   "source": [
    "cursor.execute(\"select mol_numatoms('CCO'::mol)\")\n",
    "cursor.fetchall()"
   ]
  },
  {
   "cell_type": "code",
   "execution_count": 35,
   "metadata": {},
   "outputs": [],
   "source": [
    "c.rollback()"
   ]
  },
  {
   "cell_type": "markdown",
   "metadata": {},
   "source": [
    "# Data"
   ]
  },
  {
   "cell_type": "code",
   "execution_count": 12,
   "metadata": {},
   "outputs": [],
   "source": [
    "supp = Chem.SDMolSupplier(\"../../data/drugbank.sdf\")\n",
    "drugbank = [m for m in supp if m]"
   ]
  },
  {
   "cell_type": "markdown",
   "metadata": {},
   "source": [
    "Gotta make a separate table from drug groups. Then make connection table."
   ]
  },
  {
   "cell_type": "code",
   "execution_count": 13,
   "metadata": {},
   "outputs": [],
   "source": [
    "possible_cols = set()\n",
    "for m in drugbank:\n",
    "    possible_cols.update(m.GetPropsAsDict())"
   ]
  },
  {
   "cell_type": "code",
   "execution_count": 14,
   "metadata": {
    "scrolled": true
   },
   "outputs": [
    {
     "data": {
      "text/plain": [
       "{'ALOGPS_LOGP',\n",
       " 'ALOGPS_LOGS',\n",
       " 'ALOGPS_SOLUBILITY',\n",
       " 'DATABASE_ID',\n",
       " 'DATABASE_NAME',\n",
       " 'DRUGBANK_ID',\n",
       " 'DRUG_GROUPS',\n",
       " 'EXACT_MASS',\n",
       " 'FORMULA',\n",
       " 'GENERIC_NAME',\n",
       " 'INCHI_IDENTIFIER',\n",
       " 'INCHI_KEY',\n",
       " 'INTERNATIONAL_BRANDS',\n",
       " 'JCHEM_ACCEPTOR_COUNT',\n",
       " 'JCHEM_ATOM_COUNT',\n",
       " 'JCHEM_AVERAGE_POLARIZABILITY',\n",
       " 'JCHEM_BIOAVAILABILITY',\n",
       " 'JCHEM_DONOR_COUNT',\n",
       " 'JCHEM_FORMAL_CHARGE',\n",
       " 'JCHEM_GHOSE_FILTER',\n",
       " 'JCHEM_IUPAC',\n",
       " 'JCHEM_LOGP',\n",
       " 'JCHEM_MDDR_LIKE_RULE',\n",
       " 'JCHEM_NUMBER_OF_RINGS',\n",
       " 'JCHEM_PHYSIOLOGICAL_CHARGE',\n",
       " 'JCHEM_PKA',\n",
       " 'JCHEM_PKA_STRONGEST_ACIDIC',\n",
       " 'JCHEM_PKA_STRONGEST_BASIC',\n",
       " 'JCHEM_POLAR_SURFACE_AREA',\n",
       " 'JCHEM_REFRACTIVITY',\n",
       " 'JCHEM_ROTATABLE_BOND_COUNT',\n",
       " 'JCHEM_RULE_OF_FIVE',\n",
       " 'JCHEM_TRADITIONAL_IUPAC',\n",
       " 'JCHEM_VEBER_RULE',\n",
       " 'MOLECULAR_WEIGHT',\n",
       " 'PRODUCTS',\n",
       " 'SALTS',\n",
       " 'SECONDARY_ACCESSION_NUMBERS',\n",
       " 'SMILES',\n",
       " 'SYNONYMS'}"
      ]
     },
     "execution_count": 14,
     "metadata": {},
     "output_type": "execute_result"
    }
   ],
   "source": [
    "possible_cols"
   ]
  },
  {
   "cell_type": "code",
   "execution_count": 15,
   "metadata": {},
   "outputs": [],
   "source": [
    "molecule_cols = {\n",
    " 'ALOGPS_LOGP',\n",
    " 'ALOGPS_LOGS',\n",
    " 'ALOGPS_SOLUBILITY',\n",
    " 'DATABASE_ID',\n",
    " 'DATABASE_NAME',\n",
    " 'DRUGBANK_ID',\n",
    " 'EXACT_MASS',\n",
    " 'FORMULA',\n",
    " 'GENERIC_NAME',\n",
    " 'INCHI_IDENTIFIER',\n",
    " 'INCHI_KEY',\n",
    " 'JCHEM_ACCEPTOR_COUNT',\n",
    " 'JCHEM_ATOM_COUNT',\n",
    " 'JCHEM_AVERAGE_POLARIZABILITY',\n",
    " 'JCHEM_BIOAVAILABILITY',\n",
    " 'JCHEM_DONOR_COUNT',\n",
    " 'JCHEM_FORMAL_CHARGE',\n",
    " 'JCHEM_GHOSE_FILTER',\n",
    " 'JCHEM_IUPAC',\n",
    " 'JCHEM_LOGP',\n",
    " 'JCHEM_MDDR_LIKE_RULE',\n",
    " 'JCHEM_NUMBER_OF_RINGS',\n",
    " 'JCHEM_PHYSIOLOGICAL_CHARGE',\n",
    " 'JCHEM_PKA',\n",
    " 'JCHEM_PKA_STRONGEST_ACIDIC',\n",
    " 'JCHEM_PKA_STRONGEST_BASIC',\n",
    " 'JCHEM_POLAR_SURFACE_AREA',\n",
    " 'JCHEM_REFRACTIVITY',\n",
    " 'JCHEM_ROTATABLE_BOND_COUNT',\n",
    " 'JCHEM_RULE_OF_FIVE',\n",
    " 'JCHEM_TRADITIONAL_IUPAC',\n",
    " 'JCHEM_VEBER_RULE',\n",
    " 'MOLECULAR_WEIGHT',\n",
    " 'SMILES'}"
   ]
  },
  {
   "cell_type": "markdown",
   "metadata": {},
   "source": [
    "Fill the db."
   ]
  },
  {
   "cell_type": "code",
   "execution_count": 28,
   "metadata": {},
   "outputs": [],
   "source": [
    "def mol2insertstring(mol, cols):\n",
    "    #returns a tuple for insertion\n",
    "    values = []\n",
    "    for c in cols:\n",
    "        try:\n",
    "            value = \"'{}'\".format(mol.GetProp(c).replace(\"'\",\"''\"))\n",
    "        except KeyError:\n",
    "            value = 'null'\n",
    "        values.append(value)\n",
    "    return \"({})\".format(\", \".join(values))"
   ]
  },
  {
   "cell_type": "code",
   "execution_count": 24,
   "metadata": {
    "scrolled": true
   },
   "outputs": [
    {
     "data": {
      "text/plain": [
       "\"('215.45560313091494', '901.5700000000003', '2180.2853', '(4S)-4-[(2S)-2-[(2S)-2-[(2S)-2-{2-[(2S)-2-(2-{2-[2-(2-{[(2S)-1-[(2S)-2-{[(2S)-1-[(2R)-2-amino-3-phenylpropanoyl]pyrrolidin-2-yl]formamido}-5-carbamimidamidopentanoyl]pyrrolidin-2-yl]formamido}acetamido)acetamido]acetamido}acetamido)-3-carbamoylpropanamido]acetamido}-3-carboxypropanamido]-3-phenylpropanamido]-4-carboxybutanamido]-4-{[(2S,3S)-1-[(2S)-2-{[(1S)-3-carboxy-1-{[(1S)-3-carboxy-1-{[(1S)-1-{[(1S)-1-carboxy-3-methylbutyl]carbamoyl}-2-(4-hydroxyphenyl)ethyl]carbamoyl}propyl]carbamoyl}propyl]carbamoyl}pyrrolidin-1-yl]-3-methyl-1-oxopentan-2-yl]carbamoyl}butanoic acid', '4.64e-02 g/l', '0', 'Bivalirudin', 'DB00006', '37', '543.3342000000006', '-4', 'DB00006', '28', 'InChI=1S/C98H138N24O33/c1-5-52(4)82(96(153)122-39-15-23-70(122)92(149)114-60(30-34-79(134)135)85(142)111-59(29-33-78(132)133)86(143)116-64(43-55-24-26-56(123)27-25-55)89(146)118-67(97(154)155)40-51(2)3)119-87(144)61(31-35-80(136)137)112-84(141)58(28-32-77(130)131)113-88(145)63(42-54-18-10-7-11-19-54)117-90(147)66(45-81(138)139)110-76(129)50-107-83(140)65(44-71(100)124)109-75(128)49-106-73(126)47-104-72(125)46-105-74(127)48-108-91(148)68-21-13-38-121(68)95(152)62(20-12-36-103-98(101)102)115-93(150)69-22-14-37-120(69)94(151)57(99)41-53-16-8-6-9-17-53/h6-11,16-19,24-27,51-52,57-70,82,123H,5,12-15,20-23,28-50,99H2,1-4H3,(H2,100,124)(H,104,125)(H,105,127)(H,106,126)(H,107,140)(H,108,148)(H,109,128)(H,110,129)(H,111,142)(H,112,141)(H,113,145)(H,114,149)(H,115,150)(H,116,143)(H,117,147)(H,118,146)(H,119,144)(H,130,131)(H,132,133)(H,134,135)(H,136,137)(H,138,139)(H,154,155)(H4,101,102,103)/t52-,57+,58-,59-,60-,61-,62-,63-,64-,65-,66-,67-,68-,69-,70-,82-/m0/s1', '66', 'CC[C@H](C)[C@H](NC(=O)[C@H](CCC(O)=O)NC(=O)[C@H](CCC(O)=O)NC(=O)[C@H](CC1=CC=CC=C1)NC(=O)[C@H](CC(O)=O)NC(=O)CNC(=O)[C@H](CC(N)=O)NC(=O)CNC(=O)CNC(=O)CNC(=O)CNC(=O)[C@@H]1CCCN1C(=O)[C@H](CCCNC(N)=N)NC(=O)[C@@H]1CCCN1C(=O)[C@H](N)CC1=CC=CC=C1)C(=O)N1CCC[C@H]1C(=O)N[C@@H](CCC(O)=O)C(=O)N[C@@H](CCC(O)=O)C(=O)N[C@@H](CC1=CC=C(O)C=C1)C(=O)N[C@@H](CC(C)C)C(O)=O', 'bivalirudin', '-14.345512778557275', '11.878406919439332', '-4.67', '0', 'OIRCOABEOLEUMC-GEJPAHFPSA-N', 'C98H138N24O33', null, '2.7944312684415116', '6', '2178.985813062', '0', '0', 'drugbank', '3.177101336420163', '-0.76', '0', '1')\""
      ]
     },
     "execution_count": 24,
     "metadata": {},
     "output_type": "execute_result"
    }
   ],
   "source": [
    "mol2insertstring(drugbank[0], molecule_cols)"
   ]
  },
  {
   "cell_type": "code",
   "execution_count": 30,
   "metadata": {},
   "outputs": [],
   "source": [
    "query = \"insert into drugbank.molecule ({}) values {}\".format(\", \".join(molecule_cols),\n",
    "                                                             \", \".join((mol2insertstring(mol, molecule_cols) for mol in drugbank)))"
   ]
  },
  {
   "cell_type": "code",
   "execution_count": 31,
   "metadata": {},
   "outputs": [],
   "source": [
    "cursor.execute(query)"
   ]
  },
  {
   "cell_type": "code",
   "execution_count": 32,
   "metadata": {},
   "outputs": [],
   "source": [
    "c.commit()"
   ]
  },
  {
   "cell_type": "code",
   "execution_count": 37,
   "metadata": {},
   "outputs": [
    {
     "data": {
      "text/plain": [
       "[(7113,)]"
      ]
     },
     "execution_count": 37,
     "metadata": {},
     "output_type": "execute_result"
    }
   ],
   "source": [
    "cursor.execute(\"select count(*) from drugbank.molecule\")\n",
    "cursor.fetchall()"
   ]
  }
 ],
 "metadata": {
  "kernelspec": {
   "display_name": "Python 3",
   "language": "python",
   "name": "python3"
  },
  "language_info": {
   "codemirror_mode": {
    "name": "ipython",
    "version": 3
   },
   "file_extension": ".py",
   "mimetype": "text/x-python",
   "name": "python",
   "nbconvert_exporter": "python",
   "pygments_lexer": "ipython3",
   "version": "3.7.0"
  }
 },
 "nbformat": 4,
 "nbformat_minor": 2
}
