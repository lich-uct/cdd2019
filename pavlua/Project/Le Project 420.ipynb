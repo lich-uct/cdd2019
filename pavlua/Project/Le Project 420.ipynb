{
 "cells": [
  {
   "cell_type": "code",
   "execution_count": 1,
   "metadata": {},
   "outputs": [],
   "source": [
    "import seaborn\n",
    "from rdkit.Chem.Draw import IPythonConsole\n",
    "from rdkit.Chem import AllChem as Chem\n",
    "\n",
    "from scipy.spatial import distance\n",
    "from sklearn import manifold\n",
    "\n",
    "import pandas as pd\n",
    "import molvs\n",
    "import csv\n",
    "from pprint import pprint"
   ]
  },
  {
   "cell_type": "markdown",
   "metadata": {},
   "source": [
    "# Reading the data"
   ]
  },
  {
   "cell_type": "code",
   "execution_count": 2,
   "metadata": {},
   "outputs": [
    {
     "data": {
      "text/plain": [
       "['CHEMBL394295',\n",
       " 'Cc1ccc(cc1)c2ncc(nc2c3ccc(C)cc3)C(=O)N[C@@H]4CCCC[C@H]4CO',\n",
       " 'Ki',\n",
       " '50',\n",
       " '7.3',\n",
       " '415.54',\n",
       " '4.71']"
      ]
     },
     "execution_count": 2,
     "metadata": {},
     "output_type": "execute_result"
    }
   ],
   "source": [
    "CB1_data = []\n",
    "with open(\"Cannabinoid_CB1_receptor.csv\") as f:\n",
    "    reader = csv.reader(f, delimiter = \";\", quotechar = '\"')\n",
    "    for line in reader:\n",
    "        #print(line)\n",
    "        CB1_data.append(line)\n",
    "header = CB1_data[0]\n",
    "CB1_data = CB1_data[1:]\n",
    "CB1_data[0]"
   ]
  },
  {
   "cell_type": "code",
   "execution_count": 13,
   "metadata": {},
   "outputs": [
    {
     "data": {
      "text/plain": [
       "(['Cc1ccc(cc1)c2ncc(nc2c3ccc(C)cc3)C(=O)N[C@@H]4CCCC[C@H]4CO',\n",
       "  'C\\\\N=C(/NS(=O)(=O)c1ccc(cc1)C(F)(F)F)\\\\N2C[C@@H](C(=N2)c3ccc(Cl)cc3)c4ccccc4',\n",
       "  'CCCCCC1=NN(CC1c2ccccc2)C(=O)NC3CCCc4ccccc34',\n",
       "  'CCCCCCC(C)(C)c1ccc(c(O)c1)c2cccc(OC)c2',\n",
       "  'OC1CCCCC1NC(=O)c2cn(c3ccc(Cl)cc3)c(n2)c4ccc(Cl)cc4Cl'],\n",
       " 2416)"
      ]
     },
     "execution_count": 13,
     "metadata": {},
     "output_type": "execute_result"
    }
   ],
   "source": [
    "CB1_smiles = [r[1] for r in CB1_data]\n",
    "CB1_smiles[:5], len(CB1_smiles)"
   ]
  },
  {
   "cell_type": "code",
   "execution_count": 12,
   "metadata": {},
   "outputs": [
    {
     "data": {
      "text/plain": [
       "([<rdkit.Chem.rdchem.Mol at 0x7f89f9f38760>,\n",
       "  <rdkit.Chem.rdchem.Mol at 0x7f89f9f4f1c0>,\n",
       "  <rdkit.Chem.rdchem.Mol at 0x7f89f9f4f170>,\n",
       "  <rdkit.Chem.rdchem.Mol at 0x7f89f9f4f210>,\n",
       "  <rdkit.Chem.rdchem.Mol at 0x7f89f9f4f0d0>],\n",
       " 2332)"
      ]
     },
     "execution_count": 12,
     "metadata": {},
     "output_type": "execute_result"
    }
   ],
   "source": [
    "CB1_mols = [Chem.MolFromSmiles(s) for s in CB1_smiles if s]\n",
    "CB1_mols[:5], len(CB1_mols)"
   ]
  },
  {
   "cell_type": "code",
   "execution_count": 5,
   "metadata": {},
   "outputs": [
    {
     "data": {
      "image/png": "[encoded data removed]",
      "text/plain": [
       "<rdkit.Chem.rdchem.Mol at 0x7f89fa3e1cb0>"
      ]
     },
     "execution_count": 5,
     "metadata": {},
     "output_type": "execute_result"
    }
   ],
   "source": [
    "CB1_mols[0]"
   ]
  },
  {
   "cell_type": "code",
   "execution_count": 6,
   "metadata": {},
   "outputs": [
    {
     "data": {
      "text/plain": [
       "['CN(C)CC(=O)NCc1cccc(OCc2ccccc2)c1',\n",
       " 'CSCCN1CCC(C(=O)c2ccc3c(c2)NC(=O)C(C)O3)CC1',\n",
       " 'CC(=O)N1CCCCC1C(=O)NC1CCCN(c2ncccn2)C1',\n",
       " 'CNC(=O)C1(C)CCN(C(=O)c2csc(-c3cnn(-c4ccccc4)c3)n2)C1',\n",
       " 'Fc1ccc2nc(-c3cccc(Cl)c3)sc2c1']"
      ]
     },
     "execution_count": 6,
     "metadata": {},
     "output_type": "execute_result"
    }
   ],
   "source": [
    "ZINC_smiles = []\n",
    "with open(\"zincs1000.smi\") as f:\n",
    "    for line in f:\n",
    "        ZINC_smiles.append(line.strip(\"\\n\"))\n",
    "\n",
    "ZINC_smiles[:5]"
   ]
  },
  {
   "cell_type": "code",
   "execution_count": 11,
   "metadata": {},
   "outputs": [
    {
     "data": {
      "text/plain": [
       "(<rdkit.Chem.rdchem.Mol at 0x7f89f9f59b20>, 1000)"
      ]
     },
     "execution_count": 11,
     "metadata": {},
     "output_type": "execute_result"
    }
   ],
   "source": [
    "ZINC_mols = [Chem.MolFromSmiles(s) for s in ZINC_smiles if s]\n",
    "ZINC_mols[0], len(ZINC_mols)"
   ]
  },
  {
   "cell_type": "markdown",
   "metadata": {},
   "source": [
    "# Standardization"
   ]
  },
  {
   "cell_type": "code",
   "execution_count": 18,
   "metadata": {},
   "outputs": [],
   "source": [
    "isOrganic = Chem.MolFromSmarts('[#6]')\n",
    "hasInorganic = Chem.MolFromSmarts('[!#6;!#7;!#8;!#16;!Cl;!F;!Br;!I]')\n",
    "\n",
    "_s = molvs.Standardizer()\n",
    "def standardisation(mol):\n",
    "    mol = _s.standardize(mol)\n",
    "    mol = _s.fragment_parent(mol)\n",
    "    if mol.HasSubstructMatch(isOrganic) and not mol.HasSubstructMatch(hasInorganic):\n",
    "        mol = _s.charge_parent(mol)\n",
    "        mol = _s.stereo_parent(mol)\n",
    "        return mol\n",
    "    else:\n",
    "        return None"
   ]
  },
  {
   "cell_type": "code",
   "execution_count": 22,
   "metadata": {},
   "outputs": [
    {
     "data": {
      "text/plain": [
       "2331"
      ]
     },
     "execution_count": 22,
     "metadata": {},
     "output_type": "execute_result"
    }
   ],
   "source": [
    "CB1_supp = (standardisation(mol) for mol in CB1_mols if mol)\n",
    "CB1_clean = [mol for mol in CB1_supp if mol]\n",
    "len(CB1_clean)"
   ]
  },
  {
   "cell_type": "code",
   "execution_count": 23,
   "metadata": {},
   "outputs": [
    {
     "data": {
      "text/plain": [
       "1000"
      ]
     },
     "execution_count": 23,
     "metadata": {},
     "output_type": "execute_result"
    }
   ],
   "source": [
    "ZINC_supp = (standardisation(mol) for mol in ZINC_mols if mol)\n",
    "ZINC_clean = [mol for mol in ZINC_supp if mol]\n",
    "len(ZINC_clean)"
   ]
  },
  {
   "cell_type": "markdown",
   "metadata": {},
   "source": [
    "# Descriptors"
   ]
  },
  {
   "cell_type": "markdown",
   "metadata": {},
   "source": [
    "I'll be using TPSA and clogP for the visulization."
   ]
  },
  {
   "cell_type": "code",
   "execution_count": 65,
   "metadata": {},
   "outputs": [],
   "source": [
    "from rdkit.Chem import rdMolDescriptors\n",
    "from rdkit.Chem import Descriptors\n",
    "from matplotlib import pyplot as plt"
   ]
  },
  {
   "cell_type": "code",
   "execution_count": 104,
   "metadata": {},
   "outputs": [],
   "source": [
    "CB1_descriptors = [[Descriptors.MolLogP(m), rdMolDescriptors.CalcTPSA(m), True] for m in CB1_clean]\n",
    "CB1_descriptors = pd.DataFrame(CB1_descriptors, columns = [\"cLogP\", \"TPSA\", \"isCB1\"])"
   ]
  },
  {
   "cell_type": "code",
   "execution_count": 42,
   "metadata": {},
   "outputs": [],
   "source": [
    "ZINC_descriptors = [[Descriptors.MolLogP(m), rdMolDescriptors.CalcTPSA(m), False] for m in ZINC_clean]\n",
    "ZINC_descriptors = pd.DataFrame(ZINC_descriptors, columns = [\"cLogP\", \"TPSA\", \"isCB1\"])"
   ]
  },
  {
   "cell_type": "code",
   "execution_count": 62,
   "metadata": {},
   "outputs": [],
   "source": [
    "all_descriptors = pd.concat([ZINC_descriptors, CB1_descriptors])"
   ]
  },
  {
   "cell_type": "code",
   "execution_count": 127,
   "metadata": {},
   "outputs": [
    {
     "data": {
      "text/plain": [
       "Text(0, 0.5, 'TPSA')"
      ]
     },
     "execution_count": 127,
     "metadata": {},
     "output_type": "execute_result"
    },
    {
     "data": {
      "image/png": "[encoded data removed]",
      "text/plain": [
       "<Figure size 432x288 with 1 Axes>"
      ]
     },
     "metadata": {
      "needs_background": "light"
     },
     "output_type": "display_data"
    }
   ],
   "source": [
    "plt.scatter(ZINC_descriptors[\"cLogP\"], ZINC_descriptors[\"TPSA\"], edgecolors=\"lightsteelblue\", linewidths=0.5, alpha=0.7, s=20, label=\"ZINC\")\n",
    "plt.scatter(CB1_descriptors[\"cLogP\"], CB1_descriptors[\"TPSA\"], edgecolors=\"navajowhite\", linewidths=0.5, alpha=0.25, s=15, label=\"CB1\")\n",
    "plt.legend()\n",
    "plt.xlabel(\"cLogP\")\n",
    "plt.ylabel(\"TPSA\")\n"
   ]
  }
 ],
 "metadata": {
  "kernelspec": {
   "display_name": "Python 3",
   "language": "python",
   "name": "python3"
  },
  "language_info": {
   "codemirror_mode": {
    "name": "ipython",
    "version": 3
   },
   "file_extension": ".py",
   "mimetype": "text/x-python",
   "name": "python",
   "nbconvert_exporter": "python",
   "pygments_lexer": "ipython3",
   "version": "3.6.8"
  }
 },
 "nbformat": 4,
 "nbformat_minor": 2
}
