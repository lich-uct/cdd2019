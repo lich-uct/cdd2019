{
 "cells": [
  {
   "cell_type": "markdown",
   "metadata": {},
   "source": [
    "# Fingerprints"
   ]
  },
  {
   "cell_type": "code",
   "execution_count": 44,
   "metadata": {},
   "outputs": [],
   "source": [
    "from rdkit.Chem import Draw\n",
    "from rdkit.Chem import AllChem as Chem\n",
    "from rdkit.Chem import MACCSkeys\n",
    "from rdkit.Chem.Draw import IPythonConsole #rozsireni pro kresleni v Jupyteru"
   ]
  },
  {
   "cell_type": "code",
   "execution_count": 6,
   "metadata": {},
   "outputs": [],
   "source": [
    "supp = Chem.SDMolSupplier(\"../data/drugbank.sdf\")\n",
    "drugbank = [m for m in supp if m]"
   ]
  },
  {
   "cell_type": "code",
   "execution_count": 12,
   "metadata": {},
   "outputs": [
    {
     "data": {
      "text/plain": [
       "[<rdkit.DataStructs.cDataStructs.ExplicitBitVect at 0x7fceb0a91670>,\n",
       " <rdkit.DataStructs.cDataStructs.ExplicitBitVect at 0x7fceb0a968a0>,\n",
       " <rdkit.DataStructs.cDataStructs.ExplicitBitVect at 0x7fceb0a967b0>,\n",
       " <rdkit.DataStructs.cDataStructs.ExplicitBitVect at 0x7fceb0a96a80>,\n",
       " <rdkit.DataStructs.cDataStructs.ExplicitBitVect at 0x7fceb0a96ad0>]"
      ]
     },
     "execution_count": 12,
     "metadata": {},
     "output_type": "execute_result"
    }
   ],
   "source": [
    "mfp = [Chem.GetMorganFingerprintAsBitVect(m, 2, nBits=1024) for m in drugbank]\n",
    "mfp[0:5]"
   ]
  },
  {
   "cell_type": "code",
   "execution_count": 18,
   "metadata": {
    "scrolled": true
   },
   "outputs": [
    {
     "data": {
      "text/plain": [
       "{1,\n",
       " 3,\n",
       " 13,\n",
       " 33,\n",
       " 64,\n",
       " 80,\n",
       " 147,\n",
       " 175,\n",
       " 283,\n",
       " 316,\n",
       " 356,\n",
       " 371,\n",
       " 414,\n",
       " 428,\n",
       " 457,\n",
       " 534,\n",
       " 568,\n",
       " 625,\n",
       " 628,\n",
       " 650,\n",
       " 656,\n",
       " 677,\n",
       " 695,\n",
       " 726,\n",
       " 747,\n",
       " 759,\n",
       " 764,\n",
       " 786,\n",
       " 807,\n",
       " 833,\n",
       " 849,\n",
       " 881,\n",
       " 893,\n",
       " 913,\n",
       " 924,\n",
       " 952,\n",
       " 953,\n",
       " 968,\n",
       " 1019}"
      ]
     },
     "execution_count": 18,
     "metadata": {},
     "output_type": "execute_result"
    }
   ],
   "source": [
    "set(mfp[666].GetOnBits())"
   ]
  },
  {
   "cell_type": "code",
   "execution_count": 19,
   "metadata": {},
   "outputs": [
    {
     "data": {
      "image/png": "[encoded data removed]",
      "text/plain": [
       "<PIL.Image.Image image mode=RGB size=300x300 at 0x7FCEB13B4CC0>"
      ]
     },
     "execution_count": 19,
     "metadata": {},
     "output_type": "execute_result"
    }
   ],
   "source": [
    "Draw.MolToImage(drugbank[666])"
   ]
  },
  {
   "cell_type": "code",
   "execution_count": 25,
   "metadata": {},
   "outputs": [],
   "source": [
    "mfp_2_512 = [Chem.GetMorganFingerprintAsBitVect(m, 2, nBits=512) for m in drugbank]\n",
    "mfp_2_1024 = [Chem.GetMorganFingerprintAsBitVect(m, 2, nBits=1024) for m in drugbank]\n",
    "mfp_2_2048 = [Chem.GetMorganFingerprintAsBitVect(m, 2, nBits=2048) for m in drugbank]\n",
    "\n",
    "mfp_3_512 = [Chem.GetMorganFingerprintAsBitVect(m, 3, nBits=512) for m in drugbank]\n",
    "mfp_3_1024 = [Chem.GetMorganFingerprintAsBitVect(m, 3, nBits=1024) for m in drugbank]\n",
    "mfp_3_2048 = [Chem.GetMorganFingerprintAsBitVect(m, 3, nBits=2048) for m in drugbank]"
   ]
  },
  {
   "cell_type": "code",
   "execution_count": 26,
   "metadata": {},
   "outputs": [],
   "source": [
    "def fp_density(fps):\n",
    "    sum_on_bit_dens = sum((len(fp.GetOnBits()) / fp.GetNumBits() for fp in fps))\n",
    "    return sum_on_bit_dens / len(fps) #average density"
   ]
  },
  {
   "cell_type": "code",
   "execution_count": 33,
   "metadata": {},
   "outputs": [
    {
     "data": {
      "text/plain": [
       "[0.07596557445499297,\n",
       " 0.038865813994374124,\n",
       " 0.01966605957718003,\n",
       " 0.10068345639943742,\n",
       " 0.05196974441807314,\n",
       " 0.026418213234001408]"
      ]
     },
     "execution_count": 33,
     "metadata": {},
     "output_type": "execute_result"
    }
   ],
   "source": [
    "densities = [fp_density(fps) for fps in (mfp_2_512, mfp_2_1024, mfp_2_2048,\n",
    "                             mfp_3_512, mfp_3_1024, mfp_3_2048)]\n",
    "densities"
   ]
  },
  {
   "cell_type": "markdown",
   "metadata": {},
   "source": [
    "mfp_2_512... 7,5 % bitu je zapnuto. Pri zvetseni pole 2x se 2x zmensi ta hustota."
   ]
  },
  {
   "cell_type": "code",
   "execution_count": 31,
   "metadata": {},
   "outputs": [
    {
     "data": {
      "text/plain": [
       "[38.8943741209564,\n",
       " 39.7985935302391,\n",
       " 40.2760900140647,\n",
       " 51.54992967651196,\n",
       " 53.21701828410689,\n",
       " 54.10450070323488]"
      ]
     },
     "execution_count": 31,
     "metadata": {},
     "output_type": "execute_result"
    }
   ],
   "source": [
    "avg_on_bits = [x*y for x,y in zip(densities,(512,1024,2048,512,1024,2048))]\n",
    "avg_on_bits"
   ]
  },
  {
   "cell_type": "code",
   "execution_count": 35,
   "metadata": {},
   "outputs": [],
   "source": [
    "drugbank_maccs = [MACCSkeys.GenMACCSKeys(m) for m in drugbank]"
   ]
  },
  {
   "cell_type": "code",
   "execution_count": 37,
   "metadata": {},
   "outputs": [
    {
     "data": {
      "text/plain": [
       "(0.26487447046834517, 43.9691620977453)"
      ]
     },
     "execution_count": 37,
     "metadata": {},
     "output_type": "execute_result"
    }
   ],
   "source": [
    "fp_density(drugbank_maccs), fp_density(drugbank_maccs)*166 \n",
    "#hustota a prumerny pocet zapnutych bitu pro MACCSKeys"
   ]
  },
  {
   "cell_type": "code",
   "execution_count": 38,
   "metadata": {},
   "outputs": [],
   "source": [
    "mfp_2_166 = [Chem.GetMorganFingerprintAsBitVect(m, 2, nBits=166) for m in drugbank]"
   ]
  },
  {
   "cell_type": "code",
   "execution_count": 39,
   "metadata": {},
   "outputs": [
    {
     "data": {
      "text/plain": [
       "(0.21416128649620272, 35.55077355836965)"
      ]
     },
     "execution_count": 39,
     "metadata": {},
     "output_type": "execute_result"
    }
   ],
   "source": [
    "fp_density(mfp_2_166), fp_density(mfp_2_166)*166 \n",
    "#to same pro Morganuv fingerprint s delkou 166"
   ]
  },
  {
   "cell_type": "code",
   "execution_count": 41,
   "metadata": {
    "scrolled": true
   },
   "outputs": [
    {
     "data": {
      "text/plain": [
       "{1: ((4, 0), (5, 0)),\n",
       " 3: ((15, 1), (16, 1)),\n",
       " 13: ((12, 1),),\n",
       " 22: ((14, 1),),\n",
       " 33: ((7, 0), (8, 0), (9, 0), (10, 0), (11, 0)),\n",
       " 56: ((14, 2),),\n",
       " 64: ((23, 1), (25, 1), (24, 1), (26, 1)),\n",
       " 80: ((6, 0), (12, 0)),\n",
       " 113: ((3, 2),),\n",
       " 116: ((7, 1),),\n",
       " 138: ((2, 0),),\n",
       " 144: ((1, 0),),\n",
       " 147: ((0, 1),),\n",
       " 165: ((17, 2), (18, 2)),\n",
       " 175: ((23, 2), (25, 2), (24, 2), (26, 2)),\n",
       " 183: ((0, 0),),\n",
       " 214: ((19, 1), (20, 1), (21, 1), (22, 1)),\n",
       " 235: ((13, 1),),\n",
       " 247: ((1, 2),),\n",
       " 252: ((0, 2),),\n",
       " 274: ((1, 1),),\n",
       " 283: ((8, 1), (9, 1), (10, 1), (11, 1)),\n",
       " 295: ((14, 0),),\n",
       " 316: ((13, 2),),\n",
       " 321: ((6, 2),),\n",
       " 337: ((19, 0), (20, 0), (21, 0), (22, 0), (23, 0), (24, 0), (25, 0), (26, 0)),\n",
       " 356: ((15, 0), (16, 0), (17, 0), (18, 0)),\n",
       " 369: ((17, 1), (18, 1)),\n",
       " 371: ((19, 2), (20, 2)),\n",
       " 381: ((2, 1),),\n",
       " 401: ((6, 1),),\n",
       " 412: ((3, 1),),\n",
       " 414: ((3, 0),),\n",
       " 428: ((12, 2),),\n",
       " 440: ((4, 2), (5, 2)),\n",
       " 441: ((15, 2), (16, 2)),\n",
       " 456: ((4, 1), (5, 1)),\n",
       " 457: ((21, 2), (22, 2)),\n",
       " 507: ((13, 0),)}"
      ]
     },
     "execution_count": 41,
     "metadata": {},
     "output_type": "execute_result"
    }
   ],
   "source": [
    "bitinfo = {}\n",
    "Chem.GetMorganFingerprintAsBitVect(drugbank[666], 2, nBits = 512, bitInfo = bitinfo)\n",
    "bitinfo\n"
   ]
  },
  {
   "cell_type": "code",
   "execution_count": 46,
   "metadata": {
    "scrolled": false
   },
   "outputs": [
    {
     "data": {
      "image/png": "[encoded data removed]",
      "text/plain": [
       "<PIL.Image.Image image mode=RGB size=300x300 at 0x7FCEA99899B0>"
      ]
     },
     "execution_count": 46,
     "metadata": {},
     "output_type": "execute_result"
    }
   ],
   "source": [
    "Draw.MolToImage(drugbank[666])"
   ]
  },
  {
   "cell_type": "code",
   "execution_count": 77,
   "metadata": {},
   "outputs": [
    {
     "data": {
      "image/png": "[encoded data removed]",
      "text/plain": [
       "<PIL.PngImagePlugin.PngImageFile image mode=RGB size=150x150 at 0x7FCEA9E7F0F0>"
      ]
     },
     "execution_count": 77,
     "metadata": {},
     "output_type": "execute_result"
    }
   ],
   "source": [
    "Draw.DrawMorganBit(drugbank[666], 456, bitinfo)"
   ]
  },
  {
   "cell_type": "code",
   "execution_count": 49,
   "metadata": {},
   "outputs": [],
   "source": [
    "def bit2smiles(mol, bit):\n",
    "    bitinfo = {}\n",
    "    Chem.GetMorganFingerprintAsBitVect(mol, 2, nBits = 512, bitInfo = bitinfo)\n",
    "    fragments = set()\n",
    "    for hit, radius in bitinfo.get(bit, []):\n",
    "        if radius > 0:\n",
    "            hit_atoms = Chem.FindAtomEnvironmentOfRadiusN(mol, radius, hit)\n",
    "            submol = Chem.PathToSubmol(mol, hit_atoms)\n",
    "            fragment_smiles = Chem.MolToSmiles(submol)\n",
    "        else:\n",
    "            fragment_smiles = mol.GetAtomWithIdx(hit).GetSymbol()\n",
    "        fragments.add(fragment_smiles)\n",
    "    return fragments"
   ]
  },
  {
   "cell_type": "code",
   "execution_count": 76,
   "metadata": {},
   "outputs": [
    {
     "data": {
      "text/plain": [
       "{'CC(C)[NH3+]'}"
      ]
     },
     "execution_count": 76,
     "metadata": {},
     "output_type": "execute_result"
    }
   ],
   "source": [
    "bit2smiles(drugbank[666], 456)"
   ]
  },
  {
   "cell_type": "markdown",
   "metadata": {},
   "source": [
    "# Podobnost"
   ]
  },
  {
   "cell_type": "code",
   "execution_count": 81,
   "metadata": {},
   "outputs": [],
   "source": [
    "def tanimoto(fp1, fp2):\n",
    "    #pomer sumy pruniku a sumy sjednoceni bitu\n",
    "    fp1_on = set(fp1.GetOnBits())\n",
    "    fp2_on = set(fp2.GetOnBits())\n",
    "    all_bits = fp1_on.union(fp2_on)\n",
    "    shared_bits = fp1_on.intersection(fp2_on)\n",
    "    if not all_bits:\n",
    "        raise ValueError(\"EMPTY\")\n",
    "    return len(shared_bits)/len(all_bits)"
   ]
  },
  {
   "cell_type": "code",
   "execution_count": 85,
   "metadata": {},
   "outputs": [
    {
     "data": {
      "text/plain": [
       "0.14516129032258066"
      ]
     },
     "execution_count": 85,
     "metadata": {},
     "output_type": "execute_result"
    }
   ],
   "source": [
    "tanimoto(mfp[0], mfp[666])"
   ]
  },
  {
   "cell_type": "code",
   "execution_count": 86,
   "metadata": {},
   "outputs": [
    {
     "data": {
      "text/plain": [
       "0.07142857142857142"
      ]
     },
     "execution_count": 86,
     "metadata": {},
     "output_type": "execute_result"
    }
   ],
   "source": [
    "tanimoto(Chem.GetMorganFingerprintAsBitVect(Chem.MolFromSmiles(\"CCO\"), 2, nBits=1024), mfp[666])"
   ]
  },
  {
   "cell_type": "markdown",
   "metadata": {},
   "source": [
    "TODO: Najit latky podobne aspirinu podle Tanimota."
   ]
  }
 ],
 "metadata": {
  "kernelspec": {
   "display_name": "Python 3",
   "language": "python",
   "name": "python3"
  },
  "language_info": {
   "codemirror_mode": {
    "name": "ipython",
    "version": 3
   },
   "file_extension": ".py",
   "mimetype": "text/x-python",
   "name": "python",
   "nbconvert_exporter": "python",
   "pygments_lexer": "ipython3",
   "version": "3.7.0"
  }
 },
 "nbformat": 4,
 "nbformat_minor": 2
}
