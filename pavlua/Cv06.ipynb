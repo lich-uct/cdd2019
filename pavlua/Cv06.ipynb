{
 "cells": [
  {
   "cell_type": "markdown",
   "metadata": {},
   "source": [
    "# Scaffolds / skelet"
   ]
  },
  {
   "cell_type": "code",
   "execution_count": 1,
   "metadata": {},
   "outputs": [],
   "source": [
    "from rdkit.Chem import Draw\n",
    "from rdkit.Chem import AllChem as Chem\n",
    "from rdkit.Chem import MACCSkeys\n",
    "from rdkit.Chem.Draw import IPythonConsole\n",
    "from rdkit import DataStructs\n",
    "from rdkit.Chem.Scaffolds import MurckoScaffold"
   ]
  },
  {
   "cell_type": "markdown",
   "metadata": {},
   "source": [
    "Jak vzít molekulu a zredukovat ji na základní prvky - odbrání postranních řetězců, nechat linkery, cykly, zrušení heteroatomů,..."
   ]
  },
  {
   "cell_type": "code",
   "execution_count": 2,
   "metadata": {},
   "outputs": [],
   "source": [
    "carbon = Chem.MolFromSmarts('[#6]')\n",
    "bad_atoms = Chem.MolFromSmarts('[#27,#44,#26]')\n",
    "\n",
    "def is_Bad(mol):\n",
    "    if not mol.HasSubstructMatch(carbon):\n",
    "        return True\n",
    "    return mol.HasSubstructMatch(bad_atoms)"
   ]
  },
  {
   "cell_type": "code",
   "execution_count": 3,
   "metadata": {
    "scrolled": true
   },
   "outputs": [
    {
     "name": "stderr",
     "output_type": "stream",
     "text": [
      "RDKit WARNING: [14:37:47]  S group DAT ignored on line 2516\n",
      "RDKit WARNING: [14:37:47]  S group DAT ignored on line 2516\n",
      "RDKit WARNING: [14:37:47]  S group DAT ignored on line 2516\n",
      "RDKit WARNING: [14:37:47]  S group DAT ignored on line 2516\n",
      "RDKit WARNING: [14:37:47]  S group DAT ignored on line 15552\n",
      "RDKit WARNING: [14:37:47]  S group DAT ignored on line 15552\n",
      "RDKit WARNING: [14:37:47]  S group DAT ignored on line 15552\n",
      "RDKit WARNING: [14:37:47]  S group DAT ignored on line 15552\n",
      "RDKit ERROR: [14:37:47] Explicit valence for atom # 7 N, 4, is greater than permitted\n",
      "RDKit ERROR: [14:37:47] ERROR: Could not sanitize molecule ending on line 20009\n",
      "RDKit WARNING: [14:37:47] Warning: conflicting stereochemistry at atom 5 ignored.\n",
      "RDKit WARNING: [14:37:47] Warning: conflicting stereochemistry at atom 5 ignored.\n",
      "RDKit WARNING: [14:37:47]  S group GEN ignored on line 102860\n",
      "RDKit ERROR: [14:37:47] ERROR: Explicit valence for atom # 7 N, 4, is greater than permitted\n",
      "RDKit ERROR: [14:37:47]  Unhandled CTAB feature: S group COP on line: 133906. Molecule skipped.\n",
      "RDKit ERROR: [14:37:48] Can't kekulize mol.  Unkekulized atoms: 1 2 3 5 6 7 8 9 10\n",
      "RDKit ERROR: \n",
      "RDKit ERROR: [14:37:48] ERROR: Could not sanitize molecule ending on line 250947\n",
      "RDKit ERROR: [14:37:48] ERROR: Can't kekulize mol.  Unkekulized atoms: 1 2 3 5 6 7 8 9 10\n",
      "RDKit ERROR: \n",
      "RDKit ERROR: [14:37:48] Explicit valence for atom # 17 O, 3, is greater than permitted\n",
      "RDKit ERROR: [14:37:48] ERROR: Could not sanitize molecule ending on line 258130\n",
      "RDKit ERROR: [14:37:48] ERROR: Explicit valence for atom # 17 O, 3, is greater than permitted\n",
      "RDKit ERROR: [14:37:48] Can't kekulize mol.  Unkekulized atoms: 57 58 59 60 61 62 63 64 65\n",
      "RDKit ERROR: \n",
      "RDKit ERROR: [14:37:48] ERROR: Could not sanitize molecule ending on line 261581\n",
      "RDKit ERROR: [14:37:48] ERROR: Can't kekulize mol.  Unkekulized atoms: 57 58 59 60 61 62 63 64 65\n",
      "RDKit ERROR: \n",
      "RDKit ERROR: [14:37:48] Explicit valence for atom # 47 Mg, 4, is greater than permitted\n",
      "RDKit ERROR: [14:37:48] ERROR: Could not sanitize molecule ending on line 272221\n",
      "RDKit ERROR: [14:37:48] ERROR: Explicit valence for atom # 47 Mg, 4, is greater than permitted\n",
      "RDKit ERROR: [14:37:48] Can't kekulize mol.  Unkekulized atoms: 0 1 2 6 7 8 9 10 11 12 13 14 15 16 17\n",
      "RDKit ERROR: \n",
      "RDKit ERROR: [14:37:48] ERROR: Could not sanitize molecule ending on line 280661\n",
      "RDKit ERROR: [14:37:48] ERROR: Can't kekulize mol.  Unkekulized atoms: 0 1 2 6 7 8 9 10 11 12 13 14 15 16 17\n",
      "RDKit ERROR: \n",
      "RDKit ERROR: [14:37:48] Explicit valence for atom # 13 Cl, 5, is greater than permitted\n",
      "RDKit ERROR: [14:37:48] ERROR: Could not sanitize molecule ending on line 282635\n",
      "RDKit ERROR: [14:37:48] ERROR: Explicit valence for atom # 13 Cl, 5, is greater than permitted\n",
      "RDKit ERROR: [14:37:48] Can't kekulize mol.  Unkekulized atoms: 3 4 5 6 7 8 10 11 12\n",
      "RDKit ERROR: \n",
      "RDKit ERROR: [14:37:48] ERROR: Could not sanitize molecule ending on line 292762\n",
      "RDKit ERROR: [14:37:48] ERROR: Can't kekulize mol.  Unkekulized atoms: 3 4 5 6 7 8 10 11 12\n",
      "RDKit ERROR: \n",
      "RDKit ERROR: [14:37:48] Can't kekulize mol.  Unkekulized atoms: 0 1 2 4 5 6 7 8 9 10\n",
      "RDKit ERROR: \n",
      "RDKit ERROR: [14:37:48] ERROR: Could not sanitize molecule ending on line 293836\n",
      "RDKit ERROR: [14:37:48] ERROR: Can't kekulize mol.  Unkekulized atoms: 0 1 2 4 5 6 7 8 9 10\n",
      "RDKit ERROR: \n",
      "RDKit ERROR: [14:37:48] Can't kekulize mol.  Unkekulized atoms: 2 3 4 5 6 7 8 9 10\n",
      "RDKit ERROR: \n",
      "RDKit ERROR: [14:37:48] ERROR: Could not sanitize molecule ending on line 302815\n",
      "RDKit ERROR: [14:37:48] ERROR: Can't kekulize mol.  Unkekulized atoms: 2 3 4 5 6 7 8 9 10\n",
      "RDKit ERROR: \n",
      "RDKit ERROR: [14:37:48] Can't kekulize mol.  Unkekulized atoms: 13 14 15 16 22\n",
      "RDKit ERROR: \n",
      "RDKit ERROR: [14:37:48] ERROR: Could not sanitize molecule ending on line 304047\n",
      "RDKit ERROR: [14:37:48] ERROR: Can't kekulize mol.  Unkekulized atoms: 13 14 15 16 22\n",
      "RDKit ERROR: \n",
      "RDKit ERROR: [14:37:48] Explicit valence for atom # 46 Mg, 4, is greater than permitted\n",
      "RDKit ERROR: [14:37:48] ERROR: Could not sanitize molecule ending on line 312454\n",
      "RDKit ERROR: [14:37:48] ERROR: Explicit valence for atom # 46 Mg, 4, is greater than permitted\n",
      "RDKit ERROR: [14:37:48] Explicit valence for atom # 27 N, 4, is greater than permitted\n",
      "RDKit ERROR: [14:37:48] ERROR: Could not sanitize molecule ending on line 317905\n",
      "RDKit ERROR: [14:37:48] ERROR: Explicit valence for atom # 27 N, 4, is greater than permitted\n",
      "RDKit ERROR: [14:37:48] Explicit valence for atom # 16 N, 4, is greater than permitted\n",
      "RDKit ERROR: [14:37:48] ERROR: Could not sanitize molecule ending on line 318439\n",
      "RDKit ERROR: [14:37:48] ERROR: Explicit valence for atom # 16 N, 4, is greater than permitted\n",
      "RDKit ERROR: [14:37:48] Can't kekulize mol.  Unkekulized atoms: 3 4 5 6 54\n",
      "RDKit ERROR: \n",
      "RDKit ERROR: [14:37:48] ERROR: Could not sanitize molecule ending on line 324910\n",
      "RDKit ERROR: [14:37:48] ERROR: Can't kekulize mol.  Unkekulized atoms: 3 4 5 6 54\n",
      "RDKit ERROR: \n",
      "RDKit ERROR: [14:37:48] Can't kekulize mol.  Unkekulized atoms: 3 4 5 6 7\n",
      "RDKit ERROR: \n",
      "RDKit ERROR: [14:37:48] ERROR: Could not sanitize molecule ending on line 326050\n",
      "RDKit ERROR: [14:37:48] ERROR: Can't kekulize mol.  Unkekulized atoms: 3 4 5 6 7\n",
      "RDKit ERROR: \n",
      "RDKit ERROR: [14:37:48] Can't kekulize mol.  Unkekulized atoms: 2 3 4 5 11\n",
      "RDKit ERROR: \n",
      "RDKit ERROR: [14:37:48] ERROR: Could not sanitize molecule ending on line 331986\n",
      "RDKit ERROR: [14:37:48] ERROR: Can't kekulize mol.  Unkekulized atoms: 2 3 4 5 11\n",
      "RDKit ERROR: \n",
      "RDKit ERROR: [14:37:48] Can't kekulize mol.  Unkekulized atoms: 1 2 3 4 5 6 7 8 9\n",
      "RDKit ERROR: \n",
      "RDKit ERROR: [14:37:48] ERROR: Could not sanitize molecule ending on line 333287\n",
      "RDKit ERROR: [14:37:48] ERROR: Can't kekulize mol.  Unkekulized atoms: 1 2 3 4 5 6 7 8 9\n",
      "RDKit ERROR: \n",
      "RDKit ERROR: [14:37:48] Can't kekulize mol.  Unkekulized atoms: 3 4 5 6 7\n",
      "RDKit ERROR: \n",
      "RDKit ERROR: [14:37:48] ERROR: Could not sanitize molecule ending on line 347574\n",
      "RDKit ERROR: [14:37:48] ERROR: Can't kekulize mol.  Unkekulized atoms: 3 4 5 6 7\n",
      "RDKit ERROR: \n",
      "RDKit ERROR: [14:37:48] Can't kekulize mol.  Unkekulized atoms: 5 6 7 8 9 10 11 12 13\n",
      "RDKit ERROR: \n",
      "RDKit ERROR: [14:37:48] ERROR: Could not sanitize molecule ending on line 357505\n",
      "RDKit ERROR: [14:37:48] ERROR: Can't kekulize mol.  Unkekulized atoms: 5 6 7 8 9 10 11 12 13\n",
      "RDKit ERROR: \n",
      "RDKit ERROR: [14:37:48] Can't kekulize mol.  Unkekulized atoms: 3 4 5 6 7\n",
      "RDKit ERROR: \n",
      "RDKit ERROR: [14:37:48] ERROR: Could not sanitize molecule ending on line 371006\n",
      "RDKit ERROR: [14:37:48] ERROR: Can't kekulize mol.  Unkekulized atoms: 3 4 5 6 7\n",
      "RDKit ERROR: \n",
      "RDKit ERROR: [14:37:48] Can't kekulize mol.  Unkekulized atoms: 1 2 3 4 5 6 7 8 9\n",
      "RDKit ERROR: \n",
      "RDKit ERROR: [14:37:48] ERROR: Could not sanitize molecule ending on line 378618\n",
      "RDKit ERROR: [14:37:48] ERROR: Can't kekulize mol.  Unkekulized atoms: 1 2 3 4 5 6 7 8 9\n",
      "RDKit ERROR: \n",
      "RDKit ERROR: [14:37:48] Explicit valence for atom # 56 O, 3, is greater than permitted\n",
      "RDKit ERROR: [14:37:48] ERROR: Could not sanitize molecule ending on line 398455\n",
      "RDKit ERROR: [14:37:48] ERROR: Explicit valence for atom # 56 O, 3, is greater than permitted\n",
      "RDKit ERROR: [14:37:48] Can't kekulize mol.  Unkekulized atoms: 9 10 11 12 18\n",
      "RDKit ERROR: \n",
      "RDKit ERROR: [14:37:48] ERROR: Could not sanitize molecule ending on line 407765\n",
      "RDKit ERROR: [14:37:48] ERROR: Can't kekulize mol.  Unkekulized atoms: 9 10 11 12 18\n",
      "RDKit ERROR: \n",
      "RDKit ERROR: [14:37:48] Explicit valence for atom # 46 Mg, 4, is greater than permitted\n",
      "RDKit ERROR: [14:37:48] ERROR: Could not sanitize molecule ending on line 417941\n",
      "RDKit ERROR: [14:37:48] ERROR: Explicit valence for atom # 46 Mg, 4, is greater than permitted\n",
      "RDKit ERROR: [14:37:48] Can't kekulize mol.  Unkekulized atoms: 1 2 3 12 13 14 15 16 17\n",
      "RDKit ERROR: \n",
      "RDKit ERROR: [14:37:48] ERROR: Could not sanitize molecule ending on line 422810\n",
      "RDKit ERROR: [14:37:48] ERROR: Can't kekulize mol.  Unkekulized atoms: 1 2 3 12 13 14 15 16 17\n",
      "RDKit ERROR: \n",
      "RDKit ERROR: [14:37:48] Can't kekulize mol.  Unkekulized atoms: 44 45 46 47 49\n",
      "RDKit ERROR: \n",
      "RDKit ERROR: [14:37:48] ERROR: Could not sanitize molecule ending on line 425190\n",
      "RDKit ERROR: [14:37:48] ERROR: Can't kekulize mol.  Unkekulized atoms: 44 45 46 47 49\n",
      "RDKit ERROR: \n",
      "RDKit ERROR: [14:37:48] Explicit valence for atom # 8 N, 5, is greater than permitted\n",
      "RDKit ERROR: [14:37:48] ERROR: Could not sanitize molecule ending on line 426332\n",
      "RDKit ERROR: [14:37:48] ERROR: Explicit valence for atom # 8 N, 5, is greater than permitted\n",
      "RDKit ERROR: [14:37:48] Can't kekulize mol.  Unkekulized atoms: 54 55 56 57 58 59 60 61 62\n",
      "RDKit ERROR: \n",
      "RDKit ERROR: [14:37:48] ERROR: Could not sanitize molecule ending on line 427901\n",
      "RDKit ERROR: [14:37:48] ERROR: Can't kekulize mol.  Unkekulized atoms: 54 55 56 57 58 59 60 61 62\n",
      "RDKit ERROR: \n",
      "RDKit ERROR: [14:37:48] Can't kekulize mol.  Unkekulized atoms: 0 1 2 3 4 5 6 7 8\n",
      "RDKit ERROR: \n",
      "RDKit ERROR: [14:37:48] ERROR: Could not sanitize molecule ending on line 432118\n"
     ]
    },
    {
     "name": "stderr",
     "output_type": "stream",
     "text": [
      "RDKit ERROR: [14:37:48] ERROR: Can't kekulize mol.  Unkekulized atoms: 0 1 2 3 4 5 6 7 8\n",
      "RDKit ERROR: \n",
      "RDKit ERROR: [14:37:48] Can't kekulize mol.  Unkekulized atoms: 3 4 5 6 8 9 10\n",
      "RDKit ERROR: \n",
      "RDKit ERROR: [14:37:48] ERROR: Could not sanitize molecule ending on line 442989\n",
      "RDKit ERROR: [14:37:48] ERROR: Can't kekulize mol.  Unkekulized atoms: 3 4 5 6 8 9 10\n",
      "RDKit ERROR: \n",
      "RDKit ERROR: [14:37:48] Can't kekulize mol.  Unkekulized atoms: 3 4 5 6 9\n",
      "RDKit ERROR: \n",
      "RDKit ERROR: [14:37:48] ERROR: Could not sanitize molecule ending on line 447465\n",
      "RDKit ERROR: [14:37:48] ERROR: Can't kekulize mol.  Unkekulized atoms: 3 4 5 6 9\n",
      "RDKit ERROR: \n",
      "RDKit ERROR: [14:37:48] Can't kekulize mol.  Unkekulized atoms: 16 17 18 19 20\n",
      "RDKit ERROR: \n",
      "RDKit ERROR: [14:37:48] ERROR: Could not sanitize molecule ending on line 466177\n",
      "RDKit ERROR: [14:37:48] ERROR: Can't kekulize mol.  Unkekulized atoms: 16 17 18 19 20\n",
      "RDKit ERROR: \n",
      "RDKit ERROR: [14:37:48] Can't kekulize mol.  Unkekulized atoms: 7 8 9 10 17\n",
      "RDKit ERROR: \n",
      "RDKit ERROR: [14:37:48] ERROR: Could not sanitize molecule ending on line 468852\n",
      "RDKit ERROR: [14:37:48] ERROR: Can't kekulize mol.  Unkekulized atoms: 7 8 9 10 17\n",
      "RDKit ERROR: \n",
      "RDKit ERROR: [14:37:48] Can't kekulize mol.  Unkekulized atoms: 3 4 5 6 7 8 9 10 11\n",
      "RDKit ERROR: \n",
      "RDKit ERROR: [14:37:48] ERROR: Could not sanitize molecule ending on line 469201\n",
      "RDKit ERROR: [14:37:48] ERROR: Can't kekulize mol.  Unkekulized atoms: 3 4 5 6 7 8 9 10 11\n",
      "RDKit ERROR: \n",
      "RDKit ERROR: [14:37:48] Explicit valence for atom # 53 N, 4, is greater than permitted\n",
      "RDKit ERROR: [14:37:48] ERROR: Could not sanitize molecule ending on line 472285\n",
      "RDKit ERROR: [14:37:48] ERROR: Explicit valence for atom # 53 N, 4, is greater than permitted\n",
      "RDKit ERROR: [14:37:48] Can't kekulize mol.  Unkekulized atoms: 2 3 4 5 12\n",
      "RDKit ERROR: \n",
      "RDKit ERROR: [14:37:48] ERROR: Could not sanitize molecule ending on line 480504\n",
      "RDKit ERROR: [14:37:48] ERROR: Can't kekulize mol.  Unkekulized atoms: 2 3 4 5 12\n",
      "RDKit ERROR: \n",
      "RDKit ERROR: [14:37:48] Explicit valence for atom # 2 O, 3, is greater than permitted\n",
      "RDKit ERROR: [14:37:48] ERROR: Could not sanitize molecule ending on line 499305\n",
      "RDKit ERROR: [14:37:48] ERROR: Explicit valence for atom # 2 O, 3, is greater than permitted\n",
      "RDKit ERROR: [14:37:48] Can't kekulize mol.  Unkekulized atoms: 1 2 3 4 5 6 7 8 9\n",
      "RDKit ERROR: \n",
      "RDKit ERROR: [14:37:48] ERROR: Could not sanitize molecule ending on line 503342\n",
      "RDKit ERROR: [14:37:48] ERROR: Can't kekulize mol.  Unkekulized atoms: 1 2 3 4 5 6 7 8 9\n",
      "RDKit ERROR: \n",
      "RDKit ERROR: [14:37:48] Can't kekulize mol.  Unkekulized atoms: 0 1 2 4 5 6 7 8 9 10\n",
      "RDKit ERROR: \n",
      "RDKit ERROR: [14:37:48] ERROR: Could not sanitize molecule ending on line 508068\n",
      "RDKit ERROR: [14:37:48] ERROR: Can't kekulize mol.  Unkekulized atoms: 0 1 2 4 5 6 7 8 9 10\n",
      "RDKit ERROR: \n",
      "RDKit ERROR: [14:37:48] Can't kekulize mol.  Unkekulized atoms: 1 2 3 4 5 6 7 8 9\n",
      "RDKit ERROR: \n",
      "RDKit ERROR: [14:37:48] ERROR: Could not sanitize molecule ending on line 510069\n",
      "RDKit ERROR: [14:37:48] ERROR: Can't kekulize mol.  Unkekulized atoms: 1 2 3 4 5 6 7 8 9\n",
      "RDKit ERROR: \n",
      "RDKit ERROR: [14:37:48] Can't kekulize mol.  Unkekulized atoms: 3 4 5 6 7 8 10\n",
      "RDKit ERROR: \n",
      "RDKit ERROR: [14:37:48] ERROR: Could not sanitize molecule ending on line 511111\n",
      "RDKit ERROR: [14:37:48] ERROR: Can't kekulize mol.  Unkekulized atoms: 3 4 5 6 7 8 10\n",
      "RDKit ERROR: \n",
      "RDKit ERROR: [14:37:48] Can't kekulize mol.  Unkekulized atoms: 1 2 3 5 6 7 8 9 10\n",
      "RDKit ERROR: \n",
      "RDKit ERROR: [14:37:48] ERROR: Could not sanitize molecule ending on line 512030\n",
      "RDKit ERROR: [14:37:48] ERROR: Can't kekulize mol.  Unkekulized atoms: 1 2 3 5 6 7 8 9 10\n",
      "RDKit ERROR: \n",
      "RDKit ERROR: [14:37:48] Explicit valence for atom # 2 O, 3, is greater than permitted\n",
      "RDKit ERROR: [14:37:48] ERROR: Could not sanitize molecule ending on line 519056\n",
      "RDKit ERROR: [14:37:48] ERROR: Explicit valence for atom # 2 O, 3, is greater than permitted\n",
      "RDKit ERROR: [14:37:48] Explicit valence for atom # 6 B, 4, is greater than permitted\n",
      "RDKit ERROR: [14:37:48] ERROR: Could not sanitize molecule ending on line 541262\n",
      "RDKit ERROR: [14:37:48] ERROR: Explicit valence for atom # 6 B, 4, is greater than permitted\n",
      "RDKit ERROR: [14:37:48] Can't kekulize mol.  Unkekulized atoms: 2 3 17 19 20\n",
      "RDKit ERROR: \n",
      "RDKit ERROR: [14:37:48] ERROR: Could not sanitize molecule ending on line 557517\n",
      "RDKit ERROR: [14:37:48] ERROR: Can't kekulize mol.  Unkekulized atoms: 2 3 17 19 20\n",
      "RDKit ERROR: \n",
      "RDKit ERROR: [14:37:48] Can't kekulize mol.  Unkekulized atoms: 0 1 2 4 5 6 7 8 9 10\n",
      "RDKit ERROR: \n",
      "RDKit ERROR: [14:37:48] ERROR: Could not sanitize molecule ending on line 561344\n",
      "RDKit ERROR: [14:37:48] ERROR: Can't kekulize mol.  Unkekulized atoms: 0 1 2 4 5 6 7 8 9 10\n",
      "RDKit ERROR: \n",
      "RDKit ERROR: [14:37:48] Can't kekulize mol.  Unkekulized atoms: 10 11 12 13 19\n",
      "RDKit ERROR: \n",
      "RDKit ERROR: [14:37:48] ERROR: Could not sanitize molecule ending on line 562947\n",
      "RDKit ERROR: [14:37:48] ERROR: Can't kekulize mol.  Unkekulized atoms: 10 11 12 13 19\n",
      "RDKit ERROR: \n",
      "RDKit ERROR: [14:37:48] Explicit valence for atom # 27 N, 4, is greater than permitted\n",
      "RDKit ERROR: [14:37:48] ERROR: Could not sanitize molecule ending on line 567073\n",
      "RDKit ERROR: [14:37:48] ERROR: Explicit valence for atom # 27 N, 4, is greater than permitted\n",
      "RDKit ERROR: [14:37:48] Can't kekulize mol.  Unkekulized atoms: 9 10 11 12 13 14 15 16 17\n",
      "RDKit ERROR: \n",
      "RDKit ERROR: [14:37:48] ERROR: Could not sanitize molecule ending on line 568252\n",
      "RDKit ERROR: [14:37:48] ERROR: Can't kekulize mol.  Unkekulized atoms: 9 10 11 12 13 14 15 16 17\n",
      "RDKit ERROR: \n",
      "RDKit ERROR: [14:37:49] Can't kekulize mol.  Unkekulized atoms: 23 24 25 26 27\n",
      "RDKit ERROR: \n",
      "RDKit ERROR: [14:37:49] ERROR: Could not sanitize molecule ending on line 574645\n",
      "RDKit ERROR: [14:37:49] ERROR: Can't kekulize mol.  Unkekulized atoms: 23 24 25 26 27\n",
      "RDKit ERROR: \n",
      "RDKit ERROR: [14:37:49] Can't kekulize mol.  Unkekulized atoms: 5 6 7 8 9\n",
      "RDKit ERROR: \n",
      "RDKit ERROR: [14:37:49] ERROR: Could not sanitize molecule ending on line 592639\n",
      "RDKit ERROR: [14:37:49] ERROR: Can't kekulize mol.  Unkekulized atoms: 5 6 7 8 9\n",
      "RDKit ERROR: \n",
      "RDKit ERROR: [14:37:49] Explicit valence for atom # 12 N, 4, is greater than permitted\n",
      "RDKit ERROR: [14:37:49] ERROR: Could not sanitize molecule ending on line 595909\n",
      "RDKit ERROR: [14:37:49] ERROR: Explicit valence for atom # 12 N, 4, is greater than permitted\n",
      "RDKit ERROR: [14:37:49] Explicit valence for atom # 0 Br, 2, is greater than permitted\n",
      "RDKit ERROR: [14:37:49] ERROR: Could not sanitize molecule ending on line 599041\n",
      "RDKit ERROR: [14:37:49] ERROR: Explicit valence for atom # 0 Br, 2, is greater than permitted\n",
      "RDKit ERROR: [14:37:49] Explicit valence for atom # 1 N, 4, is greater than permitted\n",
      "RDKit ERROR: [14:37:49] ERROR: Could not sanitize molecule ending on line 601819\n",
      "RDKit ERROR: [14:37:49] ERROR: Explicit valence for atom # 1 N, 4, is greater than permitted\n",
      "RDKit ERROR: [14:37:49] Explicit valence for atom # 6 Be, 4, is greater than permitted\n",
      "RDKit ERROR: [14:37:49] ERROR: Could not sanitize molecule ending on line 604427\n",
      "RDKit ERROR: [14:37:49] ERROR: Explicit valence for atom # 6 Be, 4, is greater than permitted\n",
      "RDKit ERROR: [14:37:49] Can't kekulize mol.  Unkekulized atoms: 4 5 6 7 8 9 10 11 12\n",
      "RDKit ERROR: \n",
      "RDKit ERROR: [14:37:49] ERROR: Could not sanitize molecule ending on line 604912\n",
      "RDKit ERROR: [14:37:49] ERROR: Can't kekulize mol.  Unkekulized atoms: 4 5 6 7 8 9 10 11 12\n",
      "RDKit ERROR: \n",
      "RDKit ERROR: [14:37:49] Can't kekulize mol.  Unkekulized atoms: 5 6 7 8 9 10 11 12 13\n",
      "RDKit ERROR: \n",
      "RDKit ERROR: [14:37:49] ERROR: Could not sanitize molecule ending on line 616025\n",
      "RDKit ERROR: [14:37:49] ERROR: Can't kekulize mol.  Unkekulized atoms: 5 6 7 8 9 10 11 12 13\n",
      "RDKit ERROR: \n",
      "RDKit ERROR: [14:37:49] Can't kekulize mol.  Unkekulized atoms: 1 2 3 5 6 7 8 9 10\n",
      "RDKit ERROR: \n",
      "RDKit ERROR: [14:37:49] ERROR: Could not sanitize molecule ending on line 623202\n",
      "RDKit ERROR: [14:37:49] ERROR: Can't kekulize mol.  Unkekulized atoms: 1 2 3 5 6 7 8 9 10\n",
      "RDKit ERROR: \n",
      "RDKit ERROR: [14:37:49] Can't kekulize mol.  Unkekulized atoms: 5 6 7 8 9 10 11 12 13\n",
      "RDKit ERROR: \n",
      "RDKit ERROR: [14:37:49] ERROR: Could not sanitize molecule ending on line 628065\n",
      "RDKit ERROR: [14:37:49] ERROR: Can't kekulize mol.  Unkekulized atoms: 5 6 7 8 9 10 11 12 13\n",
      "RDKit ERROR: \n",
      "RDKit ERROR: [14:37:49] Explicit valence for atom # 19 N, 4, is greater than permitted\n",
      "RDKit ERROR: [14:37:49] ERROR: Could not sanitize molecule ending on line 636938\n",
      "RDKit ERROR: [14:37:49] ERROR: Explicit valence for atom # 19 N, 4, is greater than permitted\n",
      "RDKit ERROR: [14:37:49] Explicit valence for atom # 0 O, 3, is greater than permitted\n",
      "RDKit ERROR: [14:37:49] ERROR: Could not sanitize molecule ending on line 640674\n",
      "RDKit ERROR: [14:37:49] ERROR: Explicit valence for atom # 0 O, 3, is greater than permitted\n",
      "RDKit ERROR: [14:37:49] Explicit valence for atom # 17 Mg, 4, is greater than permitted\n",
      "RDKit ERROR: [14:37:49] ERROR: Could not sanitize molecule ending on line 642835\n",
      "RDKit ERROR: [14:37:49] ERROR: Explicit valence for atom # 17 Mg, 4, is greater than permitted\n",
      "RDKit ERROR: [14:37:49] Explicit valence for atom # 4 F, 2, is greater than permitted\n",
      "RDKit ERROR: [14:37:49] ERROR: Could not sanitize molecule ending on line 645068\n",
      "RDKit ERROR: [14:37:49] ERROR: Explicit valence for atom # 4 F, 2, is greater than permitted\n",
      "RDKit ERROR: [14:37:49] Can't kekulize mol.  Unkekulized atoms: 0 1 2 4 5 6 7 8 9 10\n",
      "RDKit ERROR: \n",
      "RDKit ERROR: [14:37:49] ERROR: Could not sanitize molecule ending on line 659994\n"
     ]
    },
    {
     "name": "stderr",
     "output_type": "stream",
     "text": [
      "RDKit ERROR: [14:37:49] ERROR: Can't kekulize mol.  Unkekulized atoms: 0 1 2 4 5 6 7 8 9 10\n",
      "RDKit ERROR: \n",
      "RDKit ERROR: [14:37:49]  Unhandled CTAB feature: S group SRU on line: 754017. Molecule skipped.\n",
      "RDKit ERROR: [14:37:50] Explicit valence for atom # 0 Be, 3, is greater than permitted\n",
      "RDKit ERROR: [14:37:50] ERROR: Could not sanitize molecule ending on line 995692\n",
      "RDKit ERROR: [14:37:50] ERROR: Explicit valence for atom # 0 Be, 3, is greater than permitted\n",
      "RDKit ERROR: [14:37:50]  Unhandled CTAB feature: S group SRU on line: 1148513. Molecule skipped.\n",
      "RDKit ERROR: [14:37:50] Explicit valence for atom # 0 C greater than permitted\n",
      "RDKit ERROR: [14:37:50] ERROR: Could not sanitize molecule ending on line 1151592\n"
     ]
    },
    {
     "data": {
      "text/plain": [
       "6996"
      ]
     },
     "execution_count": 3,
     "metadata": {},
     "output_type": "execute_result"
    }
   ],
   "source": [
    "supp = Chem.SDMolSupplier(\"../data/drugbank.sdf\")\n",
    "drugbank = [m for m in supp if m and not is_Bad(m)]\n",
    "len(drugbank)"
   ]
  },
  {
   "cell_type": "code",
   "execution_count": null,
   "metadata": {},
   "outputs": [],
   "source": [
    "m = drugbank[500]\n",
    "m"
   ]
  },
  {
   "cell_type": "code",
   "execution_count": null,
   "metadata": {},
   "outputs": [],
   "source": [
    "s1 = MurckoScaffold.GetScaffoldForMol(m)\n",
    "s1"
   ]
  },
  {
   "cell_type": "code",
   "execution_count": null,
   "metadata": {},
   "outputs": [],
   "source": [
    "s2 = MurckoScaffold.MakeScaffoldGeneric(s1)\n",
    "s2 #tohle je spis framework"
   ]
  },
  {
   "cell_type": "code",
   "execution_count": null,
   "metadata": {},
   "outputs": [],
   "source": [
    "scaffolds2counts = {}\n",
    "for i, mol in enumerate(drugbank):\n",
    "    Chem.rdmolops.RemoveStereochemistry(mol)\n",
    "    scaffold = MurckoScaffold.GetScaffoldForMol(mol)\n",
    "    #print(i)\n",
    "    scaffold_gen = MurckoScaffold.MakeScaffoldGeneric(scaffold)\n",
    "    scaffold_gen_gen = MurckoScaffold.GetScaffoldForMol(scaffold_gen)\n",
    "    smiles = Chem.MolToSmiles(scaffold_gen_gen)\n",
    "    try:\n",
    "        scaffolds2counts[smiles] += 1\n",
    "    except KeyError:\n",
    "        scaffolds2counts[smiles] = 1"
   ]
  },
  {
   "cell_type": "code",
   "execution_count": null,
   "metadata": {},
   "outputs": [],
   "source": [
    "len(scaffolds2counts)"
   ]
  },
  {
   "cell_type": "code",
   "execution_count": null,
   "metadata": {},
   "outputs": [],
   "source": [
    "scaffSmiles = sorted(scaffolds2counts.items(), key=lambda x: x[1], reverse=True)\n",
    "scaffSmiles[:10]\n",
    "#nejcasteji jsou tam ciste acyklicke slouceniny"
   ]
  },
  {
   "cell_type": "code",
   "execution_count": null,
   "metadata": {
    "scrolled": true
   },
   "outputs": [],
   "source": [
    "Draw.MolsToGridImage([Chem.MolFromSmiles(s) for s, c in scaffSmiles[0:1]+scaffSmiles[2:31]], \n",
    "                     legends=[str(c) for s, c in scaffSmiles[0:1]+scaffSmiles[2:31]])"
   ]
  },
  {
   "cell_type": "markdown",
   "metadata": {},
   "source": [
    "Kod dole funguje pro hrube scaffoldy, kde jeste jsou zachovane atomove typy"
   ]
  },
  {
   "cell_type": "code",
   "execution_count": null,
   "metadata": {},
   "outputs": [],
   "source": [
    "target = scaffSmiles[3][0]\n",
    "target"
   ]
  },
  {
   "cell_type": "code",
   "execution_count": null,
   "metadata": {},
   "outputs": [],
   "source": [
    "scaffolds = [Chem.MolToSmiles(MurckoScaffold.GetScaffoldForMol(mol)) for mol in drugbank]"
   ]
  },
  {
   "cell_type": "code",
   "execution_count": null,
   "metadata": {},
   "outputs": [],
   "source": [
    "target_structs = [mol for mol, sc in zip(drugbank, scaffolds) if sc == target]"
   ]
  },
  {
   "cell_type": "code",
   "execution_count": null,
   "metadata": {},
   "outputs": [],
   "source": [
    "[mol.GetProp('GENERIC_NAME') for mol in target_structs]"
   ]
  },
  {
   "cell_type": "markdown",
   "metadata": {},
   "source": [
    "### Diversity picking"
   ]
  },
  {
   "cell_type": "markdown",
   "metadata": {},
   "source": [
    "Jedna struktura pro jeden smysluplny framework."
   ]
  },
  {
   "cell_type": "code",
   "execution_count": 4,
   "metadata": {},
   "outputs": [],
   "source": [
    "scaffolds2mols = {}\n",
    "#udela dict, kde u smiles bude primo objekt molekuly\n",
    "for mol in drugbank:\n",
    "    Chem.rdmolops.RemoveStereochemistry(mol)\n",
    "    scaffold = MurckoScaffold.GetScaffoldForMol(mol)\n",
    "    scaffold_gen = MurckoScaffold.MakeScaffoldGeneric(scaffold)\n",
    "    scaffold_gen_gen = MurckoScaffold.GetScaffoldForMol(scaffold_gen)\n",
    "    smiles = Chem.MolToSmiles(scaffold_gen_gen)\n",
    "    try:\n",
    "        scaffolds2mols[smiles].append(mol)\n",
    "    except KeyError:\n",
    "        scaffolds2mols[smiles] = [mol]"
   ]
  },
  {
   "cell_type": "code",
   "execution_count": 5,
   "metadata": {},
   "outputs": [
    {
     "data": {
      "text/plain": [
       "1542"
      ]
     },
     "execution_count": 5,
     "metadata": {},
     "output_type": "execute_result"
    }
   ],
   "source": [
    "import random\n",
    "picked = [random.choice(mols) for sc, mols in scaffolds2mols.items()]\n",
    "len(picked)"
   ]
  },
  {
   "cell_type": "code",
   "execution_count": null,
   "metadata": {},
   "outputs": [],
   "source": [
    "Draw.MolsToGridImage(picked[:10])"
   ]
  }
 ],
 "metadata": {
  "kernelspec": {
   "display_name": "Python 3",
   "language": "python",
   "name": "python3"
  },
  "language_info": {
   "codemirror_mode": {
    "name": "ipython",
    "version": 3
   },
   "file_extension": ".py",
   "mimetype": "text/x-python",
   "name": "python",
   "nbconvert_exporter": "python",
   "pygments_lexer": "ipython3",
   "version": "3.7.0"
  }
 },
 "nbformat": 4,
 "nbformat_minor": 2
}
