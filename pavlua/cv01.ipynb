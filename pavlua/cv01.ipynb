{
 "cells": [
  {
   "cell_type": "markdown",
   "metadata": {},
   "source": [
    "# Intro"
   ]
  },
  {
   "cell_type": "code",
   "execution_count": 1,
   "metadata": {},
   "outputs": [],
   "source": [
    "from rdkit import Chem\n",
    "from rdkit.Chem.Draw import IPythonConsole #rozsireni pro kresleni v Jupyteru"
   ]
  },
  {
   "cell_type": "code",
   "execution_count": 26,
   "metadata": {},
   "outputs": [
    {
     "data": {
      "image/png": "[encoded data removed]",
      "text/plain": [
       "<rdkit.Chem.rdchem.Mol at 0x7f5c68a11f30>"
      ]
     },
     "execution_count": 26,
     "metadata": {},
     "output_type": "execute_result"
    }
   ],
   "source": [
    "m = Chem.MolFromSmiles(\"NCCC(O)C\")\n",
    "m\n"
   ]
  },
  {
   "cell_type": "code",
   "execution_count": 17,
   "metadata": {},
   "outputs": [
    {
     "data": {
      "image/png": "[encoded data removed]",
      "text/plain": [
       "<rdkit.Chem.rdchem.Mol at 0x7f5c69aad8f0>"
      ]
     },
     "execution_count": 17,
     "metadata": {},
     "output_type": "execute_result"
    }
   ],
   "source": [
    "n = Chem.MolFromSmiles(\"c1ccccc1\")\n",
    "n"
   ]
  },
  {
   "cell_type": "code",
   "execution_count": 25,
   "metadata": {},
   "outputs": [
    {
     "data": {
      "text/plain": [
       "17"
      ]
     },
     "execution_count": 25,
     "metadata": {},
     "output_type": "execute_result"
    }
   ],
   "source": [
    "(Chem.AddHs(m)).GetNumAtoms()\n"
   ]
  },
  {
   "cell_type": "code",
   "execution_count": 22,
   "metadata": {},
   "outputs": [
    {
     "data": {
      "text/plain": [
       "6"
      ]
     },
     "execution_count": 22,
     "metadata": {},
     "output_type": "execute_result"
    }
   ],
   "source": [
    "m.GetNumAtoms()"
   ]
  },
  {
   "cell_type": "code",
   "execution_count": 27,
   "metadata": {},
   "outputs": [
    {
     "data": {
      "text/plain": [
       "'CC(O)CCN'"
      ]
     },
     "execution_count": 27,
     "metadata": {},
     "output_type": "execute_result"
    }
   ],
   "source": [
    "Chem.MolToSmiles(m)"
   ]
  },
  {
   "cell_type": "markdown",
   "metadata": {},
   "source": [
    "# Vic molekul"
   ]
  },
  {
   "cell_type": "code",
   "execution_count": 50,
   "metadata": {},
   "outputs": [],
   "source": [
    "supp = Chem.SDMolSupplier(\"../data/drugbank.sdf\")"
   ]
  },
  {
   "cell_type": "code",
   "execution_count": 51,
   "metadata": {},
   "outputs": [
    {
     "name": "stderr",
     "output_type": "stream",
     "text": [
      "RDKit WARNING: [15:06:01]  S group DAT ignored on line 2516\n",
      "RDKit WARNING: [15:06:01]  S group DAT ignored on line 2516\n",
      "RDKit WARNING: [15:06:01]  S group DAT ignored on line 2516\n",
      "RDKit WARNING: [15:06:01]  S group DAT ignored on line 2516\n",
      "RDKit WARNING: [15:06:01]  S group DAT ignored on line 15552\n",
      "RDKit WARNING: [15:06:01]  S group DAT ignored on line 15552\n",
      "RDKit WARNING: [15:06:01]  S group DAT ignored on line 15552\n",
      "RDKit WARNING: [15:06:01]  S group DAT ignored on line 15552\n",
      "RDKit ERROR: [15:06:01] Explicit valence for atom # 7 N, 4, is greater than permitted\n",
      "RDKit ERROR: [15:06:01] ERROR: Could not sanitize molecule ending on line 20009\n",
      "RDKit WARNING: [15:06:01] Warning: conflicting stereochemistry at atom 5 ignored.\n",
      "RDKit WARNING: [15:06:01] Warning: conflicting stereochemistry at atom 5 ignored.\n",
      "RDKit WARNING: [15:06:01]  S group GEN ignored on line 102860\n",
      "RDKit ERROR: [15:06:01] ERROR: Explicit valence for atom # 7 N, 4, is greater than permitted\n",
      "RDKit ERROR: [15:06:01]  Unhandled CTAB feature: S group COP on line: 133906. Molecule skipped.\n",
      "RDKit ERROR: [15:06:01] Can't kekulize mol.  Unkekulized atoms: 1 2 3 5 6 7 8 9 10\n",
      "RDKit ERROR: \n",
      "RDKit ERROR: [15:06:01] ERROR: Could not sanitize molecule ending on line 250947\n",
      "RDKit ERROR: [15:06:01] ERROR: Can't kekulize mol.  Unkekulized atoms: 1 2 3 5 6 7 8 9 10\n",
      "RDKit ERROR: \n",
      "RDKit ERROR: [15:06:01] Explicit valence for atom # 17 O, 3, is greater than permitted\n",
      "RDKit ERROR: [15:06:01] ERROR: Could not sanitize molecule ending on line 258130\n",
      "RDKit ERROR: [15:06:01] ERROR: Explicit valence for atom # 17 O, 3, is greater than permitted\n",
      "RDKit ERROR: [15:06:01] Can't kekulize mol.  Unkekulized atoms: 57 58 59 60 61 62 63 64 65\n",
      "RDKit ERROR: \n",
      "RDKit ERROR: [15:06:01] ERROR: Could not sanitize molecule ending on line 261581\n",
      "RDKit ERROR: [15:06:01] ERROR: Can't kekulize mol.  Unkekulized atoms: 57 58 59 60 61 62 63 64 65\n",
      "RDKit ERROR: \n",
      "RDKit ERROR: [15:06:02] Explicit valence for atom # 47 Mg, 4, is greater than permitted\n",
      "RDKit ERROR: [15:06:02] ERROR: Could not sanitize molecule ending on line 272221\n",
      "RDKit ERROR: [15:06:02] ERROR: Explicit valence for atom # 47 Mg, 4, is greater than permitted\n",
      "RDKit ERROR: [15:06:02] Can't kekulize mol.  Unkekulized atoms: 0 1 2 6 7 8 9 10 11 12 13 14 15 16 17\n",
      "RDKit ERROR: \n",
      "RDKit ERROR: [15:06:02] ERROR: Could not sanitize molecule ending on line 280661\n",
      "RDKit ERROR: [15:06:02] ERROR: Can't kekulize mol.  Unkekulized atoms: 0 1 2 6 7 8 9 10 11 12 13 14 15 16 17\n",
      "RDKit ERROR: \n",
      "RDKit ERROR: [15:06:02] Explicit valence for atom # 13 Cl, 5, is greater than permitted\n",
      "RDKit ERROR: [15:06:02] ERROR: Could not sanitize molecule ending on line 282635\n",
      "RDKit ERROR: [15:06:02] ERROR: Explicit valence for atom # 13 Cl, 5, is greater than permitted\n",
      "RDKit ERROR: [15:06:02] Can't kekulize mol.  Unkekulized atoms: 3 4 5 6 7 8 10 11 12\n",
      "RDKit ERROR: \n",
      "RDKit ERROR: [15:06:02] ERROR: Could not sanitize molecule ending on line 292762\n",
      "RDKit ERROR: [15:06:02] ERROR: Can't kekulize mol.  Unkekulized atoms: 3 4 5 6 7 8 10 11 12\n",
      "RDKit ERROR: \n",
      "RDKit ERROR: [15:06:02] Can't kekulize mol.  Unkekulized atoms: 0 1 2 4 5 6 7 8 9 10\n",
      "RDKit ERROR: \n",
      "RDKit ERROR: [15:06:02] ERROR: Could not sanitize molecule ending on line 293836\n",
      "RDKit ERROR: [15:06:02] ERROR: Can't kekulize mol.  Unkekulized atoms: 0 1 2 4 5 6 7 8 9 10\n",
      "RDKit ERROR: \n",
      "RDKit ERROR: [15:06:02] Can't kekulize mol.  Unkekulized atoms: 2 3 4 5 6 7 8 9 10\n",
      "RDKit ERROR: \n",
      "RDKit ERROR: [15:06:02] ERROR: Could not sanitize molecule ending on line 302815\n",
      "RDKit ERROR: [15:06:02] ERROR: Can't kekulize mol.  Unkekulized atoms: 2 3 4 5 6 7 8 9 10\n",
      "RDKit ERROR: \n",
      "RDKit ERROR: [15:06:02] Can't kekulize mol.  Unkekulized atoms: 13 14 15 16 22\n",
      "RDKit ERROR: \n",
      "RDKit ERROR: [15:06:02] ERROR: Could not sanitize molecule ending on line 304047\n",
      "RDKit ERROR: [15:06:02] ERROR: Can't kekulize mol.  Unkekulized atoms: 13 14 15 16 22\n",
      "RDKit ERROR: \n",
      "RDKit ERROR: [15:06:02] Explicit valence for atom # 46 Mg, 4, is greater than permitted\n",
      "RDKit ERROR: [15:06:02] ERROR: Could not sanitize molecule ending on line 312454\n",
      "RDKit ERROR: [15:06:02] ERROR: Explicit valence for atom # 46 Mg, 4, is greater than permitted\n",
      "RDKit ERROR: [15:06:02] Explicit valence for atom # 27 N, 4, is greater than permitted\n",
      "RDKit ERROR: [15:06:02] ERROR: Could not sanitize molecule ending on line 317905\n",
      "RDKit ERROR: [15:06:02] ERROR: Explicit valence for atom # 27 N, 4, is greater than permitted\n",
      "RDKit ERROR: [15:06:02] Explicit valence for atom # 16 N, 4, is greater than permitted\n",
      "RDKit ERROR: [15:06:02] ERROR: Could not sanitize molecule ending on line 318439\n",
      "RDKit ERROR: [15:06:02] ERROR: Explicit valence for atom # 16 N, 4, is greater than permitted\n",
      "RDKit ERROR: [15:06:02] Can't kekulize mol.  Unkekulized atoms: 3 4 5 6 54\n",
      "RDKit ERROR: \n",
      "RDKit ERROR: [15:06:02] ERROR: Could not sanitize molecule ending on line 324910\n",
      "RDKit ERROR: [15:06:02] ERROR: Can't kekulize mol.  Unkekulized atoms: 3 4 5 6 54\n",
      "RDKit ERROR: \n",
      "RDKit ERROR: [15:06:02] Can't kekulize mol.  Unkekulized atoms: 3 4 5 6 7\n",
      "RDKit ERROR: \n",
      "RDKit ERROR: [15:06:02] ERROR: Could not sanitize molecule ending on line 326050\n",
      "RDKit ERROR: [15:06:02] ERROR: Can't kekulize mol.  Unkekulized atoms: 3 4 5 6 7\n",
      "RDKit ERROR: \n",
      "RDKit ERROR: [15:06:02] Can't kekulize mol.  Unkekulized atoms: 2 3 4 5 11\n",
      "RDKit ERROR: \n",
      "RDKit ERROR: [15:06:02] ERROR: Could not sanitize molecule ending on line 331986\n",
      "RDKit ERROR: [15:06:02] ERROR: Can't kekulize mol.  Unkekulized atoms: 2 3 4 5 11\n",
      "RDKit ERROR: \n",
      "RDKit ERROR: [15:06:02] Can't kekulize mol.  Unkekulized atoms: 1 2 3 4 5 6 7 8 9\n",
      "RDKit ERROR: \n",
      "RDKit ERROR: [15:06:02] ERROR: Could not sanitize molecule ending on line 333287\n",
      "RDKit ERROR: [15:06:02] ERROR: Can't kekulize mol.  Unkekulized atoms: 1 2 3 4 5 6 7 8 9\n",
      "RDKit ERROR: \n",
      "RDKit ERROR: [15:06:02] Can't kekulize mol.  Unkekulized atoms: 3 4 5 6 7\n",
      "RDKit ERROR: \n",
      "RDKit ERROR: [15:06:02] ERROR: Could not sanitize molecule ending on line 347574\n",
      "RDKit ERROR: [15:06:02] ERROR: Can't kekulize mol.  Unkekulized atoms: 3 4 5 6 7\n",
      "RDKit ERROR: \n",
      "RDKit ERROR: [15:06:02] Can't kekulize mol.  Unkekulized atoms: 5 6 7 8 9 10 11 12 13\n",
      "RDKit ERROR: \n",
      "RDKit ERROR: [15:06:02] ERROR: Could not sanitize molecule ending on line 357505\n",
      "RDKit ERROR: [15:06:02] ERROR: Can't kekulize mol.  Unkekulized atoms: 5 6 7 8 9 10 11 12 13\n",
      "RDKit ERROR: \n",
      "RDKit ERROR: [15:06:02] Can't kekulize mol.  Unkekulized atoms: 3 4 5 6 7\n",
      "RDKit ERROR: \n",
      "RDKit ERROR: [15:06:02] ERROR: Could not sanitize molecule ending on line 371006\n",
      "RDKit ERROR: [15:06:02] ERROR: Can't kekulize mol.  Unkekulized atoms: 3 4 5 6 7\n",
      "RDKit ERROR: \n",
      "RDKit ERROR: [15:06:02] Can't kekulize mol.  Unkekulized atoms: 1 2 3 4 5 6 7 8 9\n",
      "RDKit ERROR: \n",
      "RDKit ERROR: [15:06:02] ERROR: Could not sanitize molecule ending on line 378618\n",
      "RDKit ERROR: [15:06:02] ERROR: Can't kekulize mol.  Unkekulized atoms: 1 2 3 4 5 6 7 8 9\n",
      "RDKit ERROR: \n",
      "RDKit ERROR: [15:06:02] Explicit valence for atom # 56 O, 3, is greater than permitted\n",
      "RDKit ERROR: [15:06:02] ERROR: Could not sanitize molecule ending on line 398455\n",
      "RDKit ERROR: [15:06:02] ERROR: Explicit valence for atom # 56 O, 3, is greater than permitted\n",
      "RDKit ERROR: [15:06:02] Can't kekulize mol.  Unkekulized atoms: 9 10 11 12 18\n",
      "RDKit ERROR: \n",
      "RDKit ERROR: [15:06:02] ERROR: Could not sanitize molecule ending on line 407765\n",
      "RDKit ERROR: [15:06:02] ERROR: Can't kekulize mol.  Unkekulized atoms: 9 10 11 12 18\n",
      "RDKit ERROR: \n",
      "RDKit ERROR: [15:06:02] Explicit valence for atom # 46 Mg, 4, is greater than permitted\n",
      "RDKit ERROR: [15:06:02] ERROR: Could not sanitize molecule ending on line 417941\n",
      "RDKit ERROR: [15:06:02] ERROR: Explicit valence for atom # 46 Mg, 4, is greater than permitted\n",
      "RDKit ERROR: [15:06:02] Can't kekulize mol.  Unkekulized atoms: 1 2 3 12 13 14 15 16 17\n",
      "RDKit ERROR: \n",
      "RDKit ERROR: [15:06:02] ERROR: Could not sanitize molecule ending on line 422810\n",
      "RDKit ERROR: [15:06:02] ERROR: Can't kekulize mol.  Unkekulized atoms: 1 2 3 12 13 14 15 16 17\n",
      "RDKit ERROR: \n",
      "RDKit ERROR: [15:06:02] Can't kekulize mol.  Unkekulized atoms: 44 45 46 47 49\n",
      "RDKit ERROR: \n",
      "RDKit ERROR: [15:06:02] ERROR: Could not sanitize molecule ending on line 425190\n",
      "RDKit ERROR: [15:06:02] ERROR: Can't kekulize mol.  Unkekulized atoms: 44 45 46 47 49\n",
      "RDKit ERROR: \n",
      "RDKit ERROR: [15:06:02] Explicit valence for atom # 8 N, 5, is greater than permitted\n",
      "RDKit ERROR: [15:06:02] ERROR: Could not sanitize molecule ending on line 426332\n",
      "RDKit ERROR: [15:06:02] ERROR: Explicit valence for atom # 8 N, 5, is greater than permitted\n",
      "RDKit ERROR: [15:06:02] Can't kekulize mol.  Unkekulized atoms: 54 55 56 57 58 59 60 61 62\n",
      "RDKit ERROR: \n",
      "RDKit ERROR: [15:06:02] ERROR: Could not sanitize molecule ending on line 427901\n",
      "RDKit ERROR: [15:06:02] ERROR: Can't kekulize mol.  Unkekulized atoms: 54 55 56 57 58 59 60 61 62\n",
      "RDKit ERROR: \n",
      "RDKit ERROR: [15:06:02] Can't kekulize mol.  Unkekulized atoms: 0 1 2 3 4 5 6 7 8\n",
      "RDKit ERROR: \n",
      "RDKit ERROR: [15:06:02] ERROR: Could not sanitize molecule ending on line 432118\n",
      "RDKit ERROR: [15:06:02] ERROR: Can't kekulize mol.  Unkekulized atoms: 0 1 2 3 4 5 6 7 8\n",
      "RDKit ERROR: \n",
      "RDKit ERROR: [15:06:02] Can't kekulize mol.  Unkekulized atoms: 3 4 5 6 8 9 10\n",
      "RDKit ERROR: \n",
      "RDKit ERROR: [15:06:02] ERROR: Could not sanitize molecule ending on line 442989\n",
      "RDKit ERROR: [15:06:02] ERROR: Can't kekulize mol.  Unkekulized atoms: 3 4 5 6 8 9 10\n",
      "RDKit ERROR: \n",
      "RDKit ERROR: [15:06:02] Can't kekulize mol.  Unkekulized atoms: 3 4 5 6 9\n",
      "RDKit ERROR: \n",
      "RDKit ERROR: [15:06:02] ERROR: Could not sanitize molecule ending on line 447465\n"
     ]
    },
    {
     "name": "stderr",
     "output_type": "stream",
     "text": [
      "RDKit ERROR: [15:06:02] ERROR: Can't kekulize mol.  Unkekulized atoms: 3 4 5 6 9\n",
      "RDKit ERROR: \n",
      "RDKit ERROR: [15:06:02] Can't kekulize mol.  Unkekulized atoms: 16 17 18 19 20\n",
      "RDKit ERROR: \n",
      "RDKit ERROR: [15:06:02] ERROR: Could not sanitize molecule ending on line 466177\n",
      "RDKit ERROR: [15:06:02] ERROR: Can't kekulize mol.  Unkekulized atoms: 16 17 18 19 20\n",
      "RDKit ERROR: \n",
      "RDKit ERROR: [15:06:02] Can't kekulize mol.  Unkekulized atoms: 7 8 9 10 17\n",
      "RDKit ERROR: \n",
      "RDKit ERROR: [15:06:02] ERROR: Could not sanitize molecule ending on line 468852\n",
      "RDKit ERROR: [15:06:02] ERROR: Can't kekulize mol.  Unkekulized atoms: 7 8 9 10 17\n",
      "RDKit ERROR: \n",
      "RDKit ERROR: [15:06:02] Can't kekulize mol.  Unkekulized atoms: 3 4 5 6 7 8 9 10 11\n",
      "RDKit ERROR: \n",
      "RDKit ERROR: [15:06:02] ERROR: Could not sanitize molecule ending on line 469201\n",
      "RDKit ERROR: [15:06:02] ERROR: Can't kekulize mol.  Unkekulized atoms: 3 4 5 6 7 8 9 10 11\n",
      "RDKit ERROR: \n",
      "RDKit ERROR: [15:06:02] Explicit valence for atom # 53 N, 4, is greater than permitted\n",
      "RDKit ERROR: [15:06:02] ERROR: Could not sanitize molecule ending on line 472285\n",
      "RDKit ERROR: [15:06:02] ERROR: Explicit valence for atom # 53 N, 4, is greater than permitted\n",
      "RDKit ERROR: [15:06:02] Can't kekulize mol.  Unkekulized atoms: 2 3 4 5 12\n",
      "RDKit ERROR: \n",
      "RDKit ERROR: [15:06:02] ERROR: Could not sanitize molecule ending on line 480504\n",
      "RDKit ERROR: [15:06:02] ERROR: Can't kekulize mol.  Unkekulized atoms: 2 3 4 5 12\n",
      "RDKit ERROR: \n",
      "RDKit ERROR: [15:06:02] Explicit valence for atom # 2 O, 3, is greater than permitted\n",
      "RDKit ERROR: [15:06:02] ERROR: Could not sanitize molecule ending on line 499305\n",
      "RDKit ERROR: [15:06:02] ERROR: Explicit valence for atom # 2 O, 3, is greater than permitted\n",
      "RDKit ERROR: [15:06:02] Can't kekulize mol.  Unkekulized atoms: 1 2 3 4 5 6 7 8 9\n",
      "RDKit ERROR: \n",
      "RDKit ERROR: [15:06:02] ERROR: Could not sanitize molecule ending on line 503342\n",
      "RDKit ERROR: [15:06:02] ERROR: Can't kekulize mol.  Unkekulized atoms: 1 2 3 4 5 6 7 8 9\n",
      "RDKit ERROR: \n",
      "RDKit ERROR: [15:06:02] Can't kekulize mol.  Unkekulized atoms: 0 1 2 4 5 6 7 8 9 10\n",
      "RDKit ERROR: \n",
      "RDKit ERROR: [15:06:02] ERROR: Could not sanitize molecule ending on line 508068\n",
      "RDKit ERROR: [15:06:02] ERROR: Can't kekulize mol.  Unkekulized atoms: 0 1 2 4 5 6 7 8 9 10\n",
      "RDKit ERROR: \n",
      "RDKit ERROR: [15:06:02] Can't kekulize mol.  Unkekulized atoms: 1 2 3 4 5 6 7 8 9\n",
      "RDKit ERROR: \n",
      "RDKit ERROR: [15:06:02] ERROR: Could not sanitize molecule ending on line 510069\n",
      "RDKit ERROR: [15:06:02] ERROR: Can't kekulize mol.  Unkekulized atoms: 1 2 3 4 5 6 7 8 9\n",
      "RDKit ERROR: \n",
      "RDKit ERROR: [15:06:02] Can't kekulize mol.  Unkekulized atoms: 3 4 5 6 7 8 10\n",
      "RDKit ERROR: \n",
      "RDKit ERROR: [15:06:02] ERROR: Could not sanitize molecule ending on line 511111\n",
      "RDKit ERROR: [15:06:02] ERROR: Can't kekulize mol.  Unkekulized atoms: 3 4 5 6 7 8 10\n",
      "RDKit ERROR: \n",
      "RDKit ERROR: [15:06:02] Can't kekulize mol.  Unkekulized atoms: 1 2 3 5 6 7 8 9 10\n",
      "RDKit ERROR: \n",
      "RDKit ERROR: [15:06:02] ERROR: Could not sanitize molecule ending on line 512030\n",
      "RDKit ERROR: [15:06:02] ERROR: Can't kekulize mol.  Unkekulized atoms: 1 2 3 5 6 7 8 9 10\n",
      "RDKit ERROR: \n",
      "RDKit ERROR: [15:06:02] Explicit valence for atom # 2 O, 3, is greater than permitted\n",
      "RDKit ERROR: [15:06:02] ERROR: Could not sanitize molecule ending on line 519056\n",
      "RDKit ERROR: [15:06:02] ERROR: Explicit valence for atom # 2 O, 3, is greater than permitted\n",
      "RDKit ERROR: [15:06:02] Explicit valence for atom # 6 B, 4, is greater than permitted\n",
      "RDKit ERROR: [15:06:02] ERROR: Could not sanitize molecule ending on line 541262\n",
      "RDKit ERROR: [15:06:02] ERROR: Explicit valence for atom # 6 B, 4, is greater than permitted\n",
      "RDKit ERROR: [15:06:02] Can't kekulize mol.  Unkekulized atoms: 2 3 17 19 20\n",
      "RDKit ERROR: \n",
      "RDKit ERROR: [15:06:02] ERROR: Could not sanitize molecule ending on line 557517\n",
      "RDKit ERROR: [15:06:02] ERROR: Can't kekulize mol.  Unkekulized atoms: 2 3 17 19 20\n",
      "RDKit ERROR: \n",
      "RDKit ERROR: [15:06:02] Can't kekulize mol.  Unkekulized atoms: 0 1 2 4 5 6 7 8 9 10\n",
      "RDKit ERROR: \n",
      "RDKit ERROR: [15:06:02] ERROR: Could not sanitize molecule ending on line 561344\n",
      "RDKit ERROR: [15:06:02] ERROR: Can't kekulize mol.  Unkekulized atoms: 0 1 2 4 5 6 7 8 9 10\n",
      "RDKit ERROR: \n",
      "RDKit ERROR: [15:06:02] Can't kekulize mol.  Unkekulized atoms: 10 11 12 13 19\n",
      "RDKit ERROR: \n",
      "RDKit ERROR: [15:06:02] ERROR: Could not sanitize molecule ending on line 562947\n",
      "RDKit ERROR: [15:06:02] ERROR: Can't kekulize mol.  Unkekulized atoms: 10 11 12 13 19\n",
      "RDKit ERROR: \n",
      "RDKit ERROR: [15:06:02] Explicit valence for atom # 27 N, 4, is greater than permitted\n",
      "RDKit ERROR: [15:06:02] ERROR: Could not sanitize molecule ending on line 567073\n",
      "RDKit ERROR: [15:06:02] ERROR: Explicit valence for atom # 27 N, 4, is greater than permitted\n",
      "RDKit ERROR: [15:06:02] Can't kekulize mol.  Unkekulized atoms: 9 10 11 12 13 14 15 16 17\n",
      "RDKit ERROR: \n",
      "RDKit ERROR: [15:06:02] ERROR: Could not sanitize molecule ending on line 568252\n",
      "RDKit ERROR: [15:06:02] ERROR: Can't kekulize mol.  Unkekulized atoms: 9 10 11 12 13 14 15 16 17\n",
      "RDKit ERROR: \n",
      "RDKit ERROR: [15:06:02] Can't kekulize mol.  Unkekulized atoms: 23 24 25 26 27\n",
      "RDKit ERROR: \n",
      "RDKit ERROR: [15:06:02] ERROR: Could not sanitize molecule ending on line 574645\n",
      "RDKit ERROR: [15:06:02] ERROR: Can't kekulize mol.  Unkekulized atoms: 23 24 25 26 27\n",
      "RDKit ERROR: \n",
      "RDKit ERROR: [15:06:02] Can't kekulize mol.  Unkekulized atoms: 5 6 7 8 9\n",
      "RDKit ERROR: \n",
      "RDKit ERROR: [15:06:02] ERROR: Could not sanitize molecule ending on line 592639\n",
      "RDKit ERROR: [15:06:02] ERROR: Can't kekulize mol.  Unkekulized atoms: 5 6 7 8 9\n",
      "RDKit ERROR: \n",
      "RDKit ERROR: [15:06:02] Explicit valence for atom # 12 N, 4, is greater than permitted\n",
      "RDKit ERROR: [15:06:02] ERROR: Could not sanitize molecule ending on line 595909\n",
      "RDKit ERROR: [15:06:02] ERROR: Explicit valence for atom # 12 N, 4, is greater than permitted\n",
      "RDKit ERROR: [15:06:02] Explicit valence for atom # 0 Br, 2, is greater than permitted\n",
      "RDKit ERROR: [15:06:02] ERROR: Could not sanitize molecule ending on line 599041\n",
      "RDKit ERROR: [15:06:02] ERROR: Explicit valence for atom # 0 Br, 2, is greater than permitted\n",
      "RDKit ERROR: [15:06:02] Explicit valence for atom # 1 N, 4, is greater than permitted\n",
      "RDKit ERROR: [15:06:02] ERROR: Could not sanitize molecule ending on line 601819\n",
      "RDKit ERROR: [15:06:02] ERROR: Explicit valence for atom # 1 N, 4, is greater than permitted\n",
      "RDKit ERROR: [15:06:02] Explicit valence for atom # 6 Be, 4, is greater than permitted\n",
      "RDKit ERROR: [15:06:02] ERROR: Could not sanitize molecule ending on line 604427\n",
      "RDKit ERROR: [15:06:02] ERROR: Explicit valence for atom # 6 Be, 4, is greater than permitted\n",
      "RDKit ERROR: [15:06:02] Can't kekulize mol.  Unkekulized atoms: 4 5 6 7 8 9 10 11 12\n",
      "RDKit ERROR: \n",
      "RDKit ERROR: [15:06:02] ERROR: Could not sanitize molecule ending on line 604912\n",
      "RDKit ERROR: [15:06:02] ERROR: Can't kekulize mol.  Unkekulized atoms: 4 5 6 7 8 9 10 11 12\n",
      "RDKit ERROR: \n",
      "RDKit ERROR: [15:06:02] Can't kekulize mol.  Unkekulized atoms: 5 6 7 8 9 10 11 12 13\n",
      "RDKit ERROR: \n",
      "RDKit ERROR: [15:06:02] ERROR: Could not sanitize molecule ending on line 616025\n",
      "RDKit ERROR: [15:06:02] ERROR: Can't kekulize mol.  Unkekulized atoms: 5 6 7 8 9 10 11 12 13\n",
      "RDKit ERROR: \n",
      "RDKit ERROR: [15:06:02] Can't kekulize mol.  Unkekulized atoms: 1 2 3 5 6 7 8 9 10\n",
      "RDKit ERROR: \n",
      "RDKit ERROR: [15:06:02] ERROR: Could not sanitize molecule ending on line 623202\n",
      "RDKit ERROR: [15:06:02] ERROR: Can't kekulize mol.  Unkekulized atoms: 1 2 3 5 6 7 8 9 10\n",
      "RDKit ERROR: \n",
      "RDKit ERROR: [15:06:02] Can't kekulize mol.  Unkekulized atoms: 5 6 7 8 9 10 11 12 13\n",
      "RDKit ERROR: \n",
      "RDKit ERROR: [15:06:02] ERROR: Could not sanitize molecule ending on line 628065\n",
      "RDKit ERROR: [15:06:02] ERROR: Can't kekulize mol.  Unkekulized atoms: 5 6 7 8 9 10 11 12 13\n",
      "RDKit ERROR: \n",
      "RDKit ERROR: [15:06:02] Explicit valence for atom # 19 N, 4, is greater than permitted\n",
      "RDKit ERROR: [15:06:02] ERROR: Could not sanitize molecule ending on line 636938\n",
      "RDKit ERROR: [15:06:02] ERROR: Explicit valence for atom # 19 N, 4, is greater than permitted\n",
      "RDKit ERROR: [15:06:02] Explicit valence for atom # 0 O, 3, is greater than permitted\n",
      "RDKit ERROR: [15:06:02] ERROR: Could not sanitize molecule ending on line 640674\n",
      "RDKit ERROR: [15:06:02] ERROR: Explicit valence for atom # 0 O, 3, is greater than permitted\n",
      "RDKit ERROR: [15:06:02] Explicit valence for atom # 17 Mg, 4, is greater than permitted\n",
      "RDKit ERROR: [15:06:02] ERROR: Could not sanitize molecule ending on line 642835\n",
      "RDKit ERROR: [15:06:02] ERROR: Explicit valence for atom # 17 Mg, 4, is greater than permitted\n",
      "RDKit ERROR: [15:06:02] Explicit valence for atom # 4 F, 2, is greater than permitted\n",
      "RDKit ERROR: [15:06:02] ERROR: Could not sanitize molecule ending on line 645068\n"
     ]
    },
    {
     "name": "stderr",
     "output_type": "stream",
     "text": [
      "RDKit ERROR: [15:06:02] ERROR: Explicit valence for atom # 4 F, 2, is greater than permitted\n",
      "RDKit ERROR: [15:06:02] Can't kekulize mol.  Unkekulized atoms: 0 1 2 4 5 6 7 8 9 10\n",
      "RDKit ERROR: \n",
      "RDKit ERROR: [15:06:02] ERROR: Could not sanitize molecule ending on line 659994\n",
      "RDKit ERROR: [15:06:02] ERROR: Can't kekulize mol.  Unkekulized atoms: 0 1 2 4 5 6 7 8 9 10\n",
      "RDKit ERROR: \n",
      "RDKit ERROR: [15:06:03]  Unhandled CTAB feature: S group SRU on line: 754017. Molecule skipped.\n",
      "RDKit ERROR: [15:06:03] Explicit valence for atom # 0 Be, 3, is greater than permitted\n",
      "RDKit ERROR: [15:06:03] ERROR: Could not sanitize molecule ending on line 995692\n",
      "RDKit ERROR: [15:06:03] ERROR: Explicit valence for atom # 0 Be, 3, is greater than permitted\n",
      "RDKit ERROR: [15:06:03]  Unhandled CTAB feature: S group SRU on line: 1148513. Molecule skipped.\n",
      "RDKit ERROR: [15:06:03] Explicit valence for atom # 0 C greater than permitted\n",
      "RDKit ERROR: [15:06:03] ERROR: Could not sanitize molecule ending on line 1151592\n"
     ]
    }
   ],
   "source": [
    "mols = [mol for mol in supp]\n"
   ]
  },
  {
   "cell_type": "code",
   "execution_count": 53,
   "metadata": {},
   "outputs": [
    {
     "data": {
      "text/plain": [
       "70"
      ]
     },
     "execution_count": 53,
     "metadata": {},
     "output_type": "execute_result"
    }
   ],
   "source": [
    "len([x for x in mols if not x])"
   ]
  },
  {
   "cell_type": "code",
   "execution_count": 57,
   "metadata": {},
   "outputs": [
    {
     "data": {
      "text/plain": [
       "7110"
      ]
     },
     "execution_count": 57,
     "metadata": {},
     "output_type": "execute_result"
    }
   ],
   "source": [
    "cleanMols = ([x for x in mols if x])\n",
    "len(cleanMols)"
   ]
  },
  {
   "cell_type": "code",
   "execution_count": 62,
   "metadata": {},
   "outputs": [
    {
     "data": {
      "text/plain": [
       "172446"
      ]
     },
     "execution_count": 62,
     "metadata": {},
     "output_type": "execute_result"
    }
   ],
   "source": [
    "i=0\n",
    "for mol in cleanMols:\n",
    "    i+=mol.GetNumAtoms()\n",
    "i"
   ]
  },
  {
   "cell_type": "code",
   "execution_count": 68,
   "metadata": {},
   "outputs": [
    {
     "data": {
      "text/plain": [
       "['AddRing',\n",
       " 'AtomRings',\n",
       " 'BondRings',\n",
       " 'IsAtomInRingOfSize',\n",
       " 'IsBondInRingOfSize',\n",
       " 'MinAtomRingSize',\n",
       " 'MinBondRingSize',\n",
       " 'NumAtomRings',\n",
       " 'NumBondRings',\n",
       " 'NumRings',\n",
       " '__class__',\n",
       " '__delattr__',\n",
       " '__dict__',\n",
       " '__dir__',\n",
       " '__doc__',\n",
       " '__eq__',\n",
       " '__format__',\n",
       " '__ge__',\n",
       " '__getattribute__',\n",
       " '__gt__',\n",
       " '__hash__',\n",
       " '__init__',\n",
       " '__init_subclass__',\n",
       " '__le__',\n",
       " '__lt__',\n",
       " '__module__',\n",
       " '__ne__',\n",
       " '__new__',\n",
       " '__reduce__',\n",
       " '__reduce_ex__',\n",
       " '__repr__',\n",
       " '__setattr__',\n",
       " '__sizeof__',\n",
       " '__str__',\n",
       " '__subclasshook__',\n",
       " '__weakref__']"
      ]
     },
     "execution_count": 68,
     "metadata": {},
     "output_type": "execute_result"
    }
   ],
   "source": [
    "rinfo = n.GetRingInfo()\n",
    "dir(rinfo)"
   ]
  },
  {
   "cell_type": "code",
   "execution_count": 69,
   "metadata": {},
   "outputs": [
    {
     "data": {
      "text/plain": [
       "1"
      ]
     },
     "execution_count": 69,
     "metadata": {},
     "output_type": "execute_result"
    }
   ],
   "source": [
    "rinfo.NumRings()"
   ]
  },
  {
   "cell_type": "code",
   "execution_count": 71,
   "metadata": {},
   "outputs": [
    {
     "data": {
      "text/plain": [
       "((0, 5, 4, 3, 2, 1),)"
      ]
     },
     "execution_count": 71,
     "metadata": {},
     "output_type": "execute_result"
    }
   ],
   "source": [
    "rinfo.AtomRings()"
   ]
  },
  {
   "cell_type": "code",
   "execution_count": 73,
   "metadata": {},
   "outputs": [
    {
     "data": {
      "text/plain": [
       "True"
      ]
     },
     "execution_count": 73,
     "metadata": {},
     "output_type": "execute_result"
    }
   ],
   "source": [
    "n.GetAtomWithIdx(0).GetIsAromatic()"
   ]
  },
  {
   "cell_type": "code",
   "execution_count": 83,
   "metadata": {},
   "outputs": [
    {
     "name": "stdout",
     "output_type": "stream",
     "text": [
      "7110\n",
      "17539\n",
      "1.529957805907173 0.9368495077355837\n"
     ]
    }
   ],
   "source": [
    "nAr = 0\n",
    "nAl = 0\n",
    "total = 0\n",
    "\n",
    "num = len(cleanMols)\n",
    "print(num)\n",
    "\n",
    "for mol in cleanMols:\n",
    "    ri = mol.GetRingInfo()\n",
    "    #print(ri.NumRings())\n",
    "    total += ri.NumRings()\n",
    "    atoms = ri.AtomRings()\n",
    "    #print(atoms)\n",
    "    \n",
    "    for ring in atoms:\n",
    "        #print(ring[0])\n",
    "        if mol.GetAtomWithIdx(ring[0]).GetIsAromatic():\n",
    "            nAr+=1\n",
    "        else:\n",
    "            nAl+=1\n",
    "print(total)\n",
    "print(nAr/num, nAl/num) #prumerny pocet aromatickych resp. alifatickych kruhu na molekulu"
   ]
  },
  {
   "cell_type": "code",
   "execution_count": 86,
   "metadata": {},
   "outputs": [
    {
     "name": "stderr",
     "output_type": "stream",
     "text": [
      "RDKit ERROR: [15:40:58] Invalid InChI prefix in generating InChI Key\n",
      "RDKit ERROR: [15:40:58] Invalid InChI prefix in generating InChI Key\n"
     ]
    }
   ],
   "source": [
    "with open(\"drugbank_smiles.txt\", \"w\") as f:\n",
    "\n",
    "    for mol in cleanMols:\n",
    "        sm = Chem.MolToSmiles(mol)\n",
    "        inkey = Chem.MolToInchiKey(mol)\n",
    "        print(sm +\"\\t\"+ inkey, file=f)\n",
    "    "
   ]
  }
 ],
 "metadata": {
  "kernelspec": {
   "display_name": "Python 3",
   "language": "python",
   "name": "python3"
  },
  "language_info": {
   "codemirror_mode": {
    "name": "ipython",
    "version": 3
   },
   "file_extension": ".py",
   "mimetype": "text/x-python",
   "name": "python",
   "nbconvert_exporter": "python",
   "pygments_lexer": "ipython3",
   "version": "3.7.0"
  }
 },
 "nbformat": 4,
 "nbformat_minor": 2
}
