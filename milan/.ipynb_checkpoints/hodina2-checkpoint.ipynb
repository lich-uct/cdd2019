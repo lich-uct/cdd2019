{
 "cells": [
  {
   "cell_type": "code",
   "execution_count": 9,
   "metadata": {},
   "outputs": [],
   "source": [
    "from rdkit import Chem\n",
    "from rdkit.Chem import Descriptors"
   ]
  },
  {
   "cell_type": "code",
   "execution_count": 2,
   "metadata": {},
   "outputs": [],
   "source": [
    "suppl = Chem.SDMolSupplier(\"../data/drugbank.sdf\")"
   ]
  },
  {
   "cell_type": "code",
   "execution_count": 4,
   "metadata": {},
   "outputs": [],
   "source": [
    "mols = [m for m in suppl if m]"
   ]
  },
  {
   "cell_type": "code",
   "execution_count": 5,
   "metadata": {},
   "outputs": [
    {
     "data": {
      "text/plain": [
       "7110"
      ]
     },
     "execution_count": 5,
     "metadata": {},
     "output_type": "execute_result"
    }
   ],
   "source": [
    "len(mols)"
   ]
  },
  {
   "cell_type": "code",
   "execution_count": 22,
   "metadata": {},
   "outputs": [],
   "source": [
    "def lipinski_mw(m):\n",
    "    return Descriptors.ExactMolWt(m) <= 500\n",
    "\n",
    "def lipinski_logp(m):\n",
    "    return Descriptors.MolLogP(m) < 5\n",
    "\n",
    "def lipinski_hbd(m):\n",
    "    return Descriptors.NumHDonors(m) <= 5\n",
    "\n",
    "def lipinski_hba(m):\n",
    "    return Descriptors.NumHAcceptors(m) <= 10\n",
    "\n",
    "def lipinski(m):\n",
    "    # napiste fci, ktera vrati true/false zda molekula splnuje/nesplnuje Lip. filtr\n",
    "    return sum((lipinski_mw(m), lipinski_logp(m), lipinski_hbd(m), lipinski_hba(m))) > 2"
   ]
  },
  {
   "cell_type": "code",
   "execution_count": 23,
   "metadata": {},
   "outputs": [
    {
     "name": "stdout",
     "output_type": "stream",
     "text": [
      "False 2178.9858128759984\n",
      "True -8.116429999999927\n",
      "False 28\n",
      "False 29\n",
      "False\n"
     ]
    }
   ],
   "source": [
    "print(lipinski_mw(mols[0]),  Descriptors.ExactMolWt(mols[0]))\n",
    "print(lipinski_logp(mols[0]),  Descriptors.MolLogP(mols[0]))\n",
    "print(lipinski_hbd(mols[0]),  Descriptors.NumHDonors(mols[0]))\n",
    "print(lipinski_hba(mols[0]),  Descriptors.NumHAcceptors(mols[0]))\n",
    "print(lipinski(mols[0]))"
   ]
  },
  {
   "cell_type": "code",
   "execution_count": 24,
   "metadata": {},
   "outputs": [
    {
     "data": {
      "text/plain": [
       "728"
      ]
     },
     "execution_count": 24,
     "metadata": {},
     "output_type": "execute_result"
    }
   ],
   "source": [
    "failed = [m for m in mols if not lipinski(m)]\n",
    "len(failed)"
   ]
  },
  {
   "cell_type": "code",
   "execution_count": 25,
   "metadata": {},
   "outputs": [
    {
     "data": {
      "text/plain": [
       "6382"
      ]
     },
     "execution_count": 25,
     "metadata": {},
     "output_type": "execute_result"
    }
   ],
   "source": [
    "passed = [m for m in mols if lipinski(m)]\n",
    "len(passed)"
   ]
  },
  {
   "cell_type": "code",
   "execution_count": 26,
   "metadata": {},
   "outputs": [
    {
     "data": {
      "text/plain": [
       "7110"
      ]
     },
     "execution_count": 26,
     "metadata": {},
     "output_type": "execute_result"
    }
   ],
   "source": [
    "len(passed) + len(failed)"
   ]
  }
 ],
 "metadata": {
  "kernelspec": {
   "display_name": "Python 3",
   "language": "python",
   "name": "python3"
  },
  "language_info": {
   "codemirror_mode": {
    "name": "ipython",
    "version": 3
   },
   "file_extension": ".py",
   "mimetype": "text/x-python",
   "name": "python",
   "nbconvert_exporter": "python",
   "pygments_lexer": "ipython3",
   "version": "3.6.5"
  }
 },
 "nbformat": 4,
 "nbformat_minor": 2
}
