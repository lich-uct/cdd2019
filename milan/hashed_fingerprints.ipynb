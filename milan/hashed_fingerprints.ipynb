{
 "cells": [
  {
   "cell_type": "code",
   "execution_count": 43,
   "metadata": {},
   "outputs": [],
   "source": [
    "from rdkit.Chem import AllChem as Chem\n",
    "from rdkit.Chem import Draw\n",
    "from rdkit.Chem import MACCSkeys\n",
    "from rdkit.Chem.Draw import IPythonConsole"
   ]
  },
  {
   "cell_type": "code",
   "execution_count": 3,
   "metadata": {},
   "outputs": [],
   "source": [
    "suppl = Chem.SDMolSupplier(\"../data/drugbank.sdf\")\n",
    "drugbank = [m for m in suppl if m]"
   ]
  },
  {
   "cell_type": "code",
   "execution_count": 7,
   "metadata": {},
   "outputs": [],
   "source": [
    "morgan_fps = [Chem.GetMorganFingerprintAsBitVect(m, 2, nBits=1024) for m in drugbank]"
   ]
  },
  {
   "cell_type": "code",
   "execution_count": 9,
   "metadata": {},
   "outputs": [
    {
     "data": {
      "text/plain": [
       "(7110,\n",
       " [<rdkit.DataStructs.cDataStructs.ExplicitBitVect at 0x7fd584a11490>,\n",
       "  <rdkit.DataStructs.cDataStructs.ExplicitBitVect at 0x7fd584870f30>,\n",
       "  <rdkit.DataStructs.cDataStructs.ExplicitBitVect at 0x7fd584870ee0>,\n",
       "  <rdkit.DataStructs.cDataStructs.ExplicitBitVect at 0x7fd584882030>,\n",
       "  <rdkit.DataStructs.cDataStructs.ExplicitBitVect at 0x7fd584882080>,\n",
       "  <rdkit.DataStructs.cDataStructs.ExplicitBitVect at 0x7fd5848820d0>,\n",
       "  <rdkit.DataStructs.cDataStructs.ExplicitBitVect at 0x7fd584882120>,\n",
       "  <rdkit.DataStructs.cDataStructs.ExplicitBitVect at 0x7fd584882170>,\n",
       "  <rdkit.DataStructs.cDataStructs.ExplicitBitVect at 0x7fd5848821c0>,\n",
       "  <rdkit.DataStructs.cDataStructs.ExplicitBitVect at 0x7fd584882210>])"
      ]
     },
     "execution_count": 9,
     "metadata": {},
     "output_type": "execute_result"
    }
   ],
   "source": [
    "len(morgan_fps), morgan_fps[0:10]"
   ]
  },
  {
   "cell_type": "code",
   "execution_count": 12,
   "metadata": {},
   "outputs": [
    {
     "data": {
      "text/plain": [
       "({1,\n",
       "  3,\n",
       "  13,\n",
       "  33,\n",
       "  64,\n",
       "  80,\n",
       "  147,\n",
       "  175,\n",
       "  283,\n",
       "  316,\n",
       "  356,\n",
       "  371,\n",
       "  414,\n",
       "  428,\n",
       "  457,\n",
       "  534,\n",
       "  568,\n",
       "  625,\n",
       "  628,\n",
       "  650,\n",
       "  656,\n",
       "  677,\n",
       "  695,\n",
       "  726,\n",
       "  747,\n",
       "  759,\n",
       "  764,\n",
       "  786,\n",
       "  807,\n",
       "  833,\n",
       "  849,\n",
       "  881,\n",
       "  893,\n",
       "  913,\n",
       "  924,\n",
       "  952,\n",
       "  953,\n",
       "  968,\n",
       "  1019},\n",
       " 39)"
      ]
     },
     "execution_count": 12,
     "metadata": {},
     "output_type": "execute_result"
    }
   ],
   "source": [
    "set(morgan_fps[666].GetOnBits()), len(morgan_fps[666].GetOnBits())"
   ]
  },
  {
   "cell_type": "code",
   "execution_count": 14,
   "metadata": {},
   "outputs": [
    {
     "data": {
      "image/png": "[encoded data removed]",
      "text/plain": [
       "<PIL.Image.Image image mode=RGB size=300x300 at 0x7FD584776A58>"
      ]
     },
     "execution_count": 14,
     "metadata": {},
     "output_type": "execute_result"
    }
   ],
   "source": [
    "Draw.MolToImage(drugbank[666])"
   ]
  },
  {
   "cell_type": "code",
   "execution_count": 16,
   "metadata": {},
   "outputs": [],
   "source": [
    "devil_fp = Chem.GetMorganFingerprintAsBitVect(drugbank[666], 2, nBits=512)"
   ]
  },
  {
   "cell_type": "code",
   "execution_count": 17,
   "metadata": {},
   "outputs": [
    {
     "data": {
      "text/plain": [
       "({1,\n",
       "  3,\n",
       "  13,\n",
       "  22,\n",
       "  33,\n",
       "  56,\n",
       "  64,\n",
       "  80,\n",
       "  113,\n",
       "  116,\n",
       "  138,\n",
       "  144,\n",
       "  147,\n",
       "  165,\n",
       "  175,\n",
       "  183,\n",
       "  214,\n",
       "  235,\n",
       "  247,\n",
       "  252,\n",
       "  274,\n",
       "  283,\n",
       "  295,\n",
       "  316,\n",
       "  321,\n",
       "  337,\n",
       "  356,\n",
       "  369,\n",
       "  371,\n",
       "  381,\n",
       "  401,\n",
       "  412,\n",
       "  414,\n",
       "  428,\n",
       "  440,\n",
       "  441,\n",
       "  456,\n",
       "  457,\n",
       "  507},\n",
       " 39)"
      ]
     },
     "execution_count": 17,
     "metadata": {},
     "output_type": "execute_result"
    }
   ],
   "source": [
    "set(devil_fp.GetOnBits()), len(devil_fp.GetOnBits())"
   ]
  },
  {
   "cell_type": "code",
   "execution_count": 18,
   "metadata": {},
   "outputs": [
    {
     "data": {
      "text/plain": [
       "({0, 1, 2, 3, 4, 5, 6, 7, 8, 9}, 10)"
      ]
     },
     "execution_count": 18,
     "metadata": {},
     "output_type": "execute_result"
    }
   ],
   "source": [
    "devil_fp_10 = Chem.GetMorganFingerprintAsBitVect(drugbank[666], 2, nBits=10)\n",
    "set(devil_fp_10.GetOnBits()), len(devil_fp_10.GetOnBits())"
   ]
  },
  {
   "cell_type": "code",
   "execution_count": 19,
   "metadata": {},
   "outputs": [
    {
     "data": {
      "text/plain": [
       "({237,\n",
       "  939,\n",
       "  963,\n",
       "  1024,\n",
       "  1075,\n",
       "  1202,\n",
       "  1269,\n",
       "  1420,\n",
       "  1768,\n",
       "  2478,\n",
       "  2963,\n",
       "  3112,\n",
       "  3262,\n",
       "  3432,\n",
       "  3808,\n",
       "  3836,\n",
       "  4507,\n",
       "  4779,\n",
       "  5786,\n",
       "  5870,\n",
       "  6059,\n",
       "  6333,\n",
       "  6529,\n",
       "  7021,\n",
       "  7320,\n",
       "  7441,\n",
       "  7885,\n",
       "  7996,\n",
       "  8123,\n",
       "  8150,\n",
       "  8169,\n",
       "  8294,\n",
       "  8411,\n",
       "  8832,\n",
       "  9232,\n",
       "  9236,\n",
       "  9440,\n",
       "  9627,\n",
       "  9803},\n",
       " 39)"
      ]
     },
     "execution_count": 19,
     "metadata": {},
     "output_type": "execute_result"
    }
   ],
   "source": [
    "devil_fp_10k = Chem.GetMorganFingerprintAsBitVect(drugbank[666], 2, nBits=9999)\n",
    "set(devil_fp_10k.GetOnBits()), len(devil_fp_10k.GetOnBits())"
   ]
  },
  {
   "cell_type": "code",
   "execution_count": 20,
   "metadata": {},
   "outputs": [],
   "source": [
    "morgan_fps_2_1024 = [Chem.GetMorganFingerprintAsBitVect(m, 2, nBits=1024) for m in drugbank]\n",
    "morgan_fps_2_512 = [Chem.GetMorganFingerprintAsBitVect(m, 2, nBits=512) for m in drugbank]\n",
    "morgan_fps_2_2048 = [Chem.GetMorganFingerprintAsBitVect(m, 2, nBits=2048) for m in drugbank]\n",
    "morgan_fps_3_1024 = [Chem.GetMorganFingerprintAsBitVect(m, 3, nBits=1024) for m in drugbank]\n",
    "morgan_fps_3_512 = [Chem.GetMorganFingerprintAsBitVect(m, 3, nBits=512) for m in drugbank]\n",
    "morgan_fps_3_2048 = [Chem.GetMorganFingerprintAsBitVect(m, 3, nBits=2048) for m in drugbank]"
   ]
  },
  {
   "cell_type": "code",
   "execution_count": 22,
   "metadata": {},
   "outputs": [],
   "source": [
    "def fingerprint_density(fps):\n",
    "    sum_on_bit_density = sum((len(fp.GetOnBits()) / fp.GetNumBits() for fp in fps))\n",
    "    average_on_bit_density = sum_on_bit_density / len(fps)\n",
    "    return average_on_bit_density"
   ]
  },
  {
   "cell_type": "code",
   "execution_count": 24,
   "metadata": {},
   "outputs": [],
   "source": [
    "densities = [fingerprint_density(fps) for fps in (morgan_fps_2_512, morgan_fps_2_1024, morgan_fps_2_2048,\n",
    "                                                  morgan_fps_3_512, morgan_fps_3_1024, morgan_fps_3_2048)]"
   ]
  },
  {
   "cell_type": "code",
   "execution_count": 25,
   "metadata": {},
   "outputs": [
    {
     "data": {
      "text/plain": [
       "[0.07596557445499297,\n",
       " 0.038865813994374124,\n",
       " 0.01966605957718003,\n",
       " 0.10068345639943742,\n",
       " 0.05196974441807314,\n",
       " 0.026418213234001408]"
      ]
     },
     "execution_count": 25,
     "metadata": {},
     "output_type": "execute_result"
    }
   ],
   "source": [
    "densities"
   ]
  },
  {
   "cell_type": "code",
   "execution_count": 28,
   "metadata": {},
   "outputs": [
    {
     "data": {
      "text/plain": [
       "[38.8943741209564,\n",
       " 39.7985935302391,\n",
       " 40.2760900140647,\n",
       " 51.54992967651196,\n",
       " 53.21701828410689,\n",
       " 54.10450070323488]"
      ]
     },
     "execution_count": 28,
     "metadata": {},
     "output_type": "execute_result"
    }
   ],
   "source": [
    "avg_on_bits = [ x * y for x, y in zip(densities, (512, 1024, 2048, 512, 1024, 2048))]\n",
    "avg_on_bits"
   ]
  },
  {
   "cell_type": "code",
   "execution_count": 30,
   "metadata": {},
   "outputs": [],
   "source": [
    "drugbank_maccs = [MACCSkeys.GenMACCSKeys(m) for m in drugbank]"
   ]
  },
  {
   "cell_type": "code",
   "execution_count": 33,
   "metadata": {},
   "outputs": [
    {
     "data": {
      "text/plain": [
       "(0.26487447046834517, 43.9691620977453)"
      ]
     },
     "execution_count": 33,
     "metadata": {},
     "output_type": "execute_result"
    }
   ],
   "source": [
    "fingerprint_density(drugbank_maccs), fingerprint_density(drugbank_maccs)*166"
   ]
  },
  {
   "cell_type": "code",
   "execution_count": 34,
   "metadata": {},
   "outputs": [],
   "source": [
    "morgan_fps_2_166 = [Chem.GetMorganFingerprintAsBitVect(m, 2, nBits=166) for m in drugbank]"
   ]
  },
  {
   "cell_type": "code",
   "execution_count": 35,
   "metadata": {},
   "outputs": [
    {
     "data": {
      "text/plain": [
       "(0.21416128649620272, 35.55077355836965)"
      ]
     },
     "execution_count": 35,
     "metadata": {},
     "output_type": "execute_result"
    }
   ],
   "source": [
    "fingerprint_density(morgan_fps_2_166), fingerprint_density(morgan_fps_2_166)*166"
   ]
  },
  {
   "cell_type": "code",
   "execution_count": 42,
   "metadata": {
    "scrolled": true
   },
   "outputs": [
    {
     "data": {
      "text/plain": [
       "{1: ((4, 0), (5, 0)),\n",
       " 3: ((15, 1), (16, 1)),\n",
       " 13: ((12, 1),),\n",
       " 22: ((14, 1),),\n",
       " 33: ((7, 0), (8, 0), (9, 0), (10, 0), (11, 0)),\n",
       " 56: ((14, 2),),\n",
       " 64: ((23, 1), (25, 1), (24, 1), (26, 1)),\n",
       " 80: ((6, 0), (12, 0)),\n",
       " 113: ((3, 2),),\n",
       " 116: ((7, 1),),\n",
       " 138: ((2, 0),),\n",
       " 144: ((1, 0),),\n",
       " 147: ((0, 1),),\n",
       " 165: ((17, 2), (18, 2)),\n",
       " 175: ((23, 2), (25, 2), (24, 2), (26, 2)),\n",
       " 183: ((0, 0),),\n",
       " 214: ((19, 1), (20, 1), (21, 1), (22, 1)),\n",
       " 235: ((13, 1),),\n",
       " 247: ((1, 2),),\n",
       " 252: ((0, 2),),\n",
       " 274: ((1, 1),),\n",
       " 283: ((8, 1), (9, 1), (10, 1), (11, 1)),\n",
       " 295: ((14, 0),),\n",
       " 316: ((13, 2),),\n",
       " 321: ((6, 2),),\n",
       " 337: ((19, 0), (20, 0), (21, 0), (22, 0), (23, 0), (24, 0), (25, 0), (26, 0)),\n",
       " 356: ((15, 0), (16, 0), (17, 0), (18, 0)),\n",
       " 369: ((17, 1), (18, 1)),\n",
       " 371: ((19, 2), (20, 2)),\n",
       " 381: ((2, 1),),\n",
       " 401: ((6, 1),),\n",
       " 412: ((3, 1),),\n",
       " 414: ((3, 0),),\n",
       " 428: ((12, 2),),\n",
       " 440: ((4, 2), (5, 2)),\n",
       " 441: ((15, 2), (16, 2)),\n",
       " 456: ((4, 1), (5, 1)),\n",
       " 457: ((21, 2), (22, 2)),\n",
       " 507: ((13, 0),)}"
      ]
     },
     "execution_count": 42,
     "metadata": {},
     "output_type": "execute_result"
    }
   ],
   "source": [
    "bitinfo = {}\n",
    "fp = Chem.GetMorganFingerprintAsBitVect(drugbank[666], 2, nBits=512, bitInfo=bitinfo)\n",
    "bitinfo"
   ]
  },
  {
   "cell_type": "code",
   "execution_count": 38,
   "metadata": {
    "scrolled": true
   },
   "outputs": [
    {
     "data": {
      "image/png": "[encoded data removed]",
      "text/plain": [
       "<PIL.Image.Image image mode=RGB size=300x300 at 0x7FD5835C8C50>"
      ]
     },
     "execution_count": 38,
     "metadata": {},
     "output_type": "execute_result"
    }
   ],
   "source": [
    "Draw.MolToImage(drugbank[666])"
   ]
  },
  {
   "cell_type": "code",
   "execution_count": 39,
   "metadata": {},
   "outputs": [],
   "source": [
    "def bit2smiles(mol, bit):\n",
    "    bitinfo = {}\n",
    "    Chem.GetMorganFingerprintAsBitVect(mol, 2, nBits=512, bitInfo=bitinfo)\n",
    "    fragments = set()\n",
    "    for hit, radius in bitinfo.get(bit, []):\n",
    "        if radius > 0:\n",
    "            hit_atoms = Chem.FindAtomEnvironmentOfRadiusN(mol, radius, hit)\n",
    "            submol = Chem.PathToSubmol(mol, hit_atoms)\n",
    "            fragment_smiles = Chem.MolToSmiles(submol)\n",
    "        else:\n",
    "            fragment_smiles = mol.GetAtomWithIdx(hit).GetSymbol()\n",
    "        fragments.add(fragment_smiles)\n",
    "    return fragments"
   ]
  },
  {
   "cell_type": "code",
   "execution_count": 41,
   "metadata": {},
   "outputs": [
    {
     "data": {
      "text/plain": [
       "{'ccc'}"
      ]
     },
     "execution_count": 41,
     "metadata": {},
     "output_type": "execute_result"
    }
   ],
   "source": [
    "bit2smiles(drugbank[666], 64)"
   ]
  },
  {
   "cell_type": "code",
   "execution_count": 50,
   "metadata": {},
   "outputs": [
    {
     "data": {
      "image/png": "[encoded data removed]",
      "text/plain": [
       "<PIL.PngImagePlugin.PngImageFile image mode=RGB size=150x150 at 0x7FD583640048>"
      ]
     },
     "execution_count": 50,
     "metadata": {},
     "output_type": "execute_result"
    }
   ],
   "source": [
    "from rdkit.Chem.Draw import IPythonConsole\n",
    "Draw.DrawMorganBit(drugbank[666], 507, bitinfo)"
   ]
  },
  {
   "cell_type": "code",
   "execution_count": null,
   "metadata": {},
   "outputs": [],
   "source": []
  }
 ],
 "metadata": {
  "kernelspec": {
   "display_name": "Python 3",
   "language": "python",
   "name": "python3"
  },
  "language_info": {
   "codemirror_mode": {
    "name": "ipython",
    "version": 3
   },
   "file_extension": ".py",
   "mimetype": "text/x-python",
   "name": "python",
   "nbconvert_exporter": "python",
   "pygments_lexer": "ipython3",
   "version": "3.6.5"
  }
 },
 "nbformat": 4,
 "nbformat_minor": 2
}
