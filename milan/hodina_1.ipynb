{
 "cells": [
  {
   "cell_type": "code",
   "execution_count": 5,
   "metadata": {},
   "outputs": [],
   "source": [
    "from rdkit import Chem\n",
    "from rdkit.Chem.Draw import IPythonConsole"
   ]
  },
  {
   "cell_type": "code",
   "execution_count": 7,
   "metadata": {},
   "outputs": [
    {
     "data": {
      "image/png": "[encoded data removed]",
      "text/plain": [
       "<rdkit.Chem.rdchem.Mol at 0x7f63fdbd7e40>"
      ]
     },
     "execution_count": 7,
     "metadata": {},
     "output_type": "execute_result"
    }
   ],
   "source": [
    "Chem.MolFromSmiles(\"CCC(CCC)CC(=O)CCCCC\")"
   ]
  },
  {
   "cell_type": "code",
   "execution_count": 15,
   "metadata": {},
   "outputs": [
    {
     "name": "stdout",
     "output_type": "stream",
     "text": [
      "<rdkit.Chem.rdchem.Mol object at 0x7f63fd85acb0>\n"
     ]
    }
   ],
   "source": [
    "m = Chem.MolFromSmiles(\"c1ccccc1\")\n",
    "print(m)"
   ]
  },
  {
   "cell_type": "code",
   "execution_count": 12,
   "metadata": {},
   "outputs": [
    {
     "data": {
      "text/plain": [
       "6"
      ]
     },
     "execution_count": 12,
     "metadata": {},
     "output_type": "execute_result"
    }
   ],
   "source": [
    "m.GetNumAtoms()"
   ]
  },
  {
   "cell_type": "code",
   "execution_count": 17,
   "metadata": {},
   "outputs": [
    {
     "data": {
      "text/plain": [
       "'c1ccccc1'"
      ]
     },
     "execution_count": 17,
     "metadata": {},
     "output_type": "execute_result"
    }
   ],
   "source": [
    "Chem.MolToSmiles(m)"
   ]
  },
  {
   "cell_type": "code",
   "execution_count": 28,
   "metadata": {},
   "outputs": [],
   "source": [
    "suppl = Chem.SDMolSupplier(\"../data/drugbank.sdf\")"
   ]
  },
  {
   "cell_type": "code",
   "execution_count": 29,
   "metadata": {},
   "outputs": [
    {
     "name": "stderr",
     "output_type": "stream",
     "text": [
      "RDKit WARNING: [15:04:35]  S group DAT ignored on line 2516\n",
      "RDKit WARNING: [15:04:35]  S group DAT ignored on line 2516\n",
      "RDKit WARNING: [15:04:35]  S group DAT ignored on line 2516\n",
      "RDKit WARNING: [15:04:35]  S group DAT ignored on line 2516\n",
      "RDKit WARNING: [15:04:35]  S group DAT ignored on line 15552\n",
      "RDKit WARNING: [15:04:35]  S group DAT ignored on line 15552\n",
      "RDKit WARNING: [15:04:35]  S group DAT ignored on line 15552\n",
      "RDKit WARNING: [15:04:35]  S group DAT ignored on line 15552\n",
      "RDKit ERROR: [15:04:35] Explicit valence for atom # 7 N, 4, is greater than permitted\n",
      "RDKit ERROR: [15:04:35] ERROR: Could not sanitize molecule ending on line 20009\n",
      "RDKit WARNING: [15:04:35] Warning: conflicting stereochemistry at atom 5 ignored.\n",
      "RDKit WARNING: [15:04:35] Warning: conflicting stereochemistry at atom 5 ignored.\n",
      "RDKit WARNING: [15:04:35]  S group GEN ignored on line 102860\n",
      "RDKit ERROR: [15:04:35] ERROR: Explicit valence for atom # 7 N, 4, is greater than permitted\n",
      "RDKit ERROR: [15:04:35]  Unhandled CTAB feature: S group COP on line: 133906. Molecule skipped.\n",
      "RDKit ERROR: [15:04:36] Can't kekulize mol.  Unkekulized atoms: 1 2 3 5 6 7 8 9 10\n",
      "RDKit ERROR: \n",
      "RDKit ERROR: [15:04:36] ERROR: Could not sanitize molecule ending on line 250947\n",
      "RDKit ERROR: [15:04:36] ERROR: Can't kekulize mol.  Unkekulized atoms: 1 2 3 5 6 7 8 9 10\n",
      "RDKit ERROR: \n",
      "RDKit ERROR: [15:04:36] Explicit valence for atom # 17 O, 3, is greater than permitted\n",
      "RDKit ERROR: [15:04:36] ERROR: Could not sanitize molecule ending on line 258130\n",
      "RDKit ERROR: [15:04:36] ERROR: Explicit valence for atom # 17 O, 3, is greater than permitted\n",
      "RDKit ERROR: [15:04:36] Can't kekulize mol.  Unkekulized atoms: 57 58 59 60 61 62 63 64 65\n",
      "RDKit ERROR: \n",
      "RDKit ERROR: [15:04:36] ERROR: Could not sanitize molecule ending on line 261581\n",
      "RDKit ERROR: [15:04:36] ERROR: Can't kekulize mol.  Unkekulized atoms: 57 58 59 60 61 62 63 64 65\n",
      "RDKit ERROR: \n",
      "RDKit ERROR: [15:04:36] Explicit valence for atom # 47 Mg, 4, is greater than permitted\n",
      "RDKit ERROR: [15:04:36] ERROR: Could not sanitize molecule ending on line 272221\n",
      "RDKit ERROR: [15:04:36] ERROR: Explicit valence for atom # 47 Mg, 4, is greater than permitted\n",
      "RDKit ERROR: [15:04:36] Can't kekulize mol.  Unkekulized atoms: 0 1 2 6 7 8 9 10 11 12 13 14 15 16 17\n",
      "RDKit ERROR: \n",
      "RDKit ERROR: [15:04:36] ERROR: Could not sanitize molecule ending on line 280661\n",
      "RDKit ERROR: [15:04:36] ERROR: Can't kekulize mol.  Unkekulized atoms: 0 1 2 6 7 8 9 10 11 12 13 14 15 16 17\n",
      "RDKit ERROR: \n",
      "RDKit ERROR: [15:04:36] Explicit valence for atom # 13 Cl, 5, is greater than permitted\n",
      "RDKit ERROR: [15:04:36] ERROR: Could not sanitize molecule ending on line 282635\n",
      "RDKit ERROR: [15:04:36] ERROR: Explicit valence for atom # 13 Cl, 5, is greater than permitted\n",
      "RDKit ERROR: [15:04:36] Can't kekulize mol.  Unkekulized atoms: 3 4 5 6 7 8 10 11 12\n",
      "RDKit ERROR: \n",
      "RDKit ERROR: [15:04:36] ERROR: Could not sanitize molecule ending on line 292762\n",
      "RDKit ERROR: [15:04:36] ERROR: Can't kekulize mol.  Unkekulized atoms: 3 4 5 6 7 8 10 11 12\n",
      "RDKit ERROR: \n",
      "RDKit ERROR: [15:04:36] Can't kekulize mol.  Unkekulized atoms: 0 1 2 4 5 6 7 8 9 10\n",
      "RDKit ERROR: \n",
      "RDKit ERROR: [15:04:36] ERROR: Could not sanitize molecule ending on line 293836\n",
      "RDKit ERROR: [15:04:36] ERROR: Can't kekulize mol.  Unkekulized atoms: 0 1 2 4 5 6 7 8 9 10\n",
      "RDKit ERROR: \n",
      "RDKit ERROR: [15:04:36] Can't kekulize mol.  Unkekulized atoms: 2 3 4 5 6 7 8 9 10\n",
      "RDKit ERROR: \n",
      "RDKit ERROR: [15:04:36] ERROR: Could not sanitize molecule ending on line 302815\n",
      "RDKit ERROR: [15:04:36] ERROR: Can't kekulize mol.  Unkekulized atoms: 2 3 4 5 6 7 8 9 10\n",
      "RDKit ERROR: \n",
      "RDKit ERROR: [15:04:36] Can't kekulize mol.  Unkekulized atoms: 13 14 15 16 22\n",
      "RDKit ERROR: \n",
      "RDKit ERROR: [15:04:36] ERROR: Could not sanitize molecule ending on line 304047\n",
      "RDKit ERROR: [15:04:36] ERROR: Can't kekulize mol.  Unkekulized atoms: 13 14 15 16 22\n",
      "RDKit ERROR: \n",
      "RDKit ERROR: [15:04:36] Explicit valence for atom # 46 Mg, 4, is greater than permitted\n",
      "RDKit ERROR: [15:04:36] ERROR: Could not sanitize molecule ending on line 312454\n",
      "RDKit ERROR: [15:04:36] ERROR: Explicit valence for atom # 46 Mg, 4, is greater than permitted\n",
      "RDKit ERROR: [15:04:36] Explicit valence for atom # 27 N, 4, is greater than permitted\n",
      "RDKit ERROR: [15:04:36] ERROR: Could not sanitize molecule ending on line 317905\n",
      "RDKit ERROR: [15:04:36] ERROR: Explicit valence for atom # 27 N, 4, is greater than permitted\n",
      "RDKit ERROR: [15:04:36] Explicit valence for atom # 16 N, 4, is greater than permitted\n",
      "RDKit ERROR: [15:04:36] ERROR: Could not sanitize molecule ending on line 318439\n",
      "RDKit ERROR: [15:04:36] ERROR: Explicit valence for atom # 16 N, 4, is greater than permitted\n",
      "RDKit ERROR: [15:04:36] Can't kekulize mol.  Unkekulized atoms: 3 4 5 6 54\n",
      "RDKit ERROR: \n",
      "RDKit ERROR: [15:04:36] ERROR: Could not sanitize molecule ending on line 324910\n",
      "RDKit ERROR: [15:04:36] ERROR: Can't kekulize mol.  Unkekulized atoms: 3 4 5 6 54\n",
      "RDKit ERROR: \n",
      "RDKit ERROR: [15:04:36] Can't kekulize mol.  Unkekulized atoms: 3 4 5 6 7\n",
      "RDKit ERROR: \n",
      "RDKit ERROR: [15:04:36] ERROR: Could not sanitize molecule ending on line 326050\n",
      "RDKit ERROR: [15:04:36] ERROR: Can't kekulize mol.  Unkekulized atoms: 3 4 5 6 7\n",
      "RDKit ERROR: \n",
      "RDKit ERROR: [15:04:36] Can't kekulize mol.  Unkekulized atoms: 2 3 4 5 11\n",
      "RDKit ERROR: \n",
      "RDKit ERROR: [15:04:36] ERROR: Could not sanitize molecule ending on line 331986\n",
      "RDKit ERROR: [15:04:36] ERROR: Can't kekulize mol.  Unkekulized atoms: 2 3 4 5 11\n",
      "RDKit ERROR: \n",
      "RDKit ERROR: [15:04:36] Can't kekulize mol.  Unkekulized atoms: 1 2 3 4 5 6 7 8 9\n",
      "RDKit ERROR: \n",
      "RDKit ERROR: [15:04:36] ERROR: Could not sanitize molecule ending on line 333287\n",
      "RDKit ERROR: [15:04:36] ERROR: Can't kekulize mol.  Unkekulized atoms: 1 2 3 4 5 6 7 8 9\n",
      "RDKit ERROR: \n",
      "RDKit ERROR: [15:04:36] Can't kekulize mol.  Unkekulized atoms: 3 4 5 6 7\n",
      "RDKit ERROR: \n",
      "RDKit ERROR: [15:04:36] ERROR: Could not sanitize molecule ending on line 347574\n",
      "RDKit ERROR: [15:04:36] ERROR: Can't kekulize mol.  Unkekulized atoms: 3 4 5 6 7\n",
      "RDKit ERROR: \n",
      "RDKit ERROR: [15:04:36] Can't kekulize mol.  Unkekulized atoms: 5 6 7 8 9 10 11 12 13\n",
      "RDKit ERROR: \n",
      "RDKit ERROR: [15:04:36] ERROR: Could not sanitize molecule ending on line 357505\n",
      "RDKit ERROR: [15:04:36] ERROR: Can't kekulize mol.  Unkekulized atoms: 5 6 7 8 9 10 11 12 13\n",
      "RDKit ERROR: \n",
      "RDKit ERROR: [15:04:36] Can't kekulize mol.  Unkekulized atoms: 3 4 5 6 7\n",
      "RDKit ERROR: \n",
      "RDKit ERROR: [15:04:36] ERROR: Could not sanitize molecule ending on line 371006\n",
      "RDKit ERROR: [15:04:36] ERROR: Can't kekulize mol.  Unkekulized atoms: 3 4 5 6 7\n",
      "RDKit ERROR: \n",
      "RDKit ERROR: [15:04:36] Can't kekulize mol.  Unkekulized atoms: 1 2 3 4 5 6 7 8 9\n",
      "RDKit ERROR: \n",
      "RDKit ERROR: [15:04:36] ERROR: Could not sanitize molecule ending on line 378618\n",
      "RDKit ERROR: [15:04:36] ERROR: Can't kekulize mol.  Unkekulized atoms: 1 2 3 4 5 6 7 8 9\n",
      "RDKit ERROR: \n",
      "RDKit ERROR: [15:04:36] Explicit valence for atom # 56 O, 3, is greater than permitted\n",
      "RDKit ERROR: [15:04:36] ERROR: Could not sanitize molecule ending on line 398455\n",
      "RDKit ERROR: [15:04:36] ERROR: Explicit valence for atom # 56 O, 3, is greater than permitted\n",
      "RDKit ERROR: [15:04:36] Can't kekulize mol.  Unkekulized atoms: 9 10 11 12 18\n",
      "RDKit ERROR: \n",
      "RDKit ERROR: [15:04:36] ERROR: Could not sanitize molecule ending on line 407765\n",
      "RDKit ERROR: [15:04:36] ERROR: Can't kekulize mol.  Unkekulized atoms: 9 10 11 12 18\n",
      "RDKit ERROR: \n",
      "RDKit ERROR: [15:04:36] Explicit valence for atom # 46 Mg, 4, is greater than permitted\n",
      "RDKit ERROR: [15:04:36] ERROR: Could not sanitize molecule ending on line 417941\n",
      "RDKit ERROR: [15:04:36] ERROR: Explicit valence for atom # 46 Mg, 4, is greater than permitted\n",
      "RDKit ERROR: [15:04:36] Can't kekulize mol.  Unkekulized atoms: 1 2 3 12 13 14 15 16 17\n",
      "RDKit ERROR: \n",
      "RDKit ERROR: [15:04:36] ERROR: Could not sanitize molecule ending on line 422810\n",
      "RDKit ERROR: [15:04:36] ERROR: Can't kekulize mol.  Unkekulized atoms: 1 2 3 12 13 14 15 16 17\n",
      "RDKit ERROR: \n",
      "RDKit ERROR: [15:04:36] Can't kekulize mol.  Unkekulized atoms: 44 45 46 47 49\n",
      "RDKit ERROR: \n",
      "RDKit ERROR: [15:04:36] ERROR: Could not sanitize molecule ending on line 425190\n",
      "RDKit ERROR: [15:04:36] ERROR: Can't kekulize mol.  Unkekulized atoms: 44 45 46 47 49\n",
      "RDKit ERROR: \n",
      "RDKit ERROR: [15:04:36] Explicit valence for atom # 8 N, 5, is greater than permitted\n",
      "RDKit ERROR: [15:04:36] ERROR: Could not sanitize molecule ending on line 426332\n",
      "RDKit ERROR: [15:04:36] ERROR: Explicit valence for atom # 8 N, 5, is greater than permitted\n",
      "RDKit ERROR: [15:04:36] Can't kekulize mol.  Unkekulized atoms: 54 55 56 57 58 59 60 61 62\n",
      "RDKit ERROR: \n",
      "RDKit ERROR: [15:04:36] ERROR: Could not sanitize molecule ending on line 427901\n",
      "RDKit ERROR: [15:04:36] ERROR: Can't kekulize mol.  Unkekulized atoms: 54 55 56 57 58 59 60 61 62\n",
      "RDKit ERROR: \n",
      "RDKit ERROR: [15:04:36] Can't kekulize mol.  Unkekulized atoms: 0 1 2 3 4 5 6 7 8\n",
      "RDKit ERROR: \n",
      "RDKit ERROR: [15:04:36] ERROR: Could not sanitize molecule ending on line 432118\n",
      "RDKit ERROR: [15:04:36] ERROR: Can't kekulize mol.  Unkekulized atoms: 0 1 2 3 4 5 6 7 8\n",
      "RDKit ERROR: \n",
      "RDKit ERROR: [15:04:36] Can't kekulize mol.  Unkekulized atoms: 3 4 5 6 8 9 10\n",
      "RDKit ERROR: \n",
      "RDKit ERROR: [15:04:36] ERROR: Could not sanitize molecule ending on line 442989\n",
      "RDKit ERROR: [15:04:36] ERROR: Can't kekulize mol.  Unkekulized atoms: 3 4 5 6 8 9 10\n",
      "RDKit ERROR: \n",
      "RDKit ERROR: [15:04:36] Can't kekulize mol.  Unkekulized atoms: 3 4 5 6 9\n",
      "RDKit ERROR: \n",
      "RDKit ERROR: [15:04:36] ERROR: Could not sanitize molecule ending on line 447465\n"
     ]
    },
    {
     "name": "stderr",
     "output_type": "stream",
     "text": [
      "RDKit ERROR: [15:04:36] ERROR: Can't kekulize mol.  Unkekulized atoms: 3 4 5 6 9\n",
      "RDKit ERROR: \n",
      "RDKit ERROR: [15:04:36] Can't kekulize mol.  Unkekulized atoms: 16 17 18 19 20\n",
      "RDKit ERROR: \n",
      "RDKit ERROR: [15:04:36] ERROR: Could not sanitize molecule ending on line 466177\n",
      "RDKit ERROR: [15:04:36] ERROR: Can't kekulize mol.  Unkekulized atoms: 16 17 18 19 20\n",
      "RDKit ERROR: \n",
      "RDKit ERROR: [15:04:36] Can't kekulize mol.  Unkekulized atoms: 7 8 9 10 17\n",
      "RDKit ERROR: \n",
      "RDKit ERROR: [15:04:36] ERROR: Could not sanitize molecule ending on line 468852\n",
      "RDKit ERROR: [15:04:36] ERROR: Can't kekulize mol.  Unkekulized atoms: 7 8 9 10 17\n",
      "RDKit ERROR: \n",
      "RDKit ERROR: [15:04:36] Can't kekulize mol.  Unkekulized atoms: 3 4 5 6 7 8 9 10 11\n",
      "RDKit ERROR: \n",
      "RDKit ERROR: [15:04:36] ERROR: Could not sanitize molecule ending on line 469201\n",
      "RDKit ERROR: [15:04:36] ERROR: Can't kekulize mol.  Unkekulized atoms: 3 4 5 6 7 8 9 10 11\n",
      "RDKit ERROR: \n",
      "RDKit ERROR: [15:04:36] Explicit valence for atom # 53 N, 4, is greater than permitted\n",
      "RDKit ERROR: [15:04:36] ERROR: Could not sanitize molecule ending on line 472285\n",
      "RDKit ERROR: [15:04:36] ERROR: Explicit valence for atom # 53 N, 4, is greater than permitted\n",
      "RDKit ERROR: [15:04:36] Can't kekulize mol.  Unkekulized atoms: 2 3 4 5 12\n",
      "RDKit ERROR: \n",
      "RDKit ERROR: [15:04:36] ERROR: Could not sanitize molecule ending on line 480504\n",
      "RDKit ERROR: [15:04:36] ERROR: Can't kekulize mol.  Unkekulized atoms: 2 3 4 5 12\n",
      "RDKit ERROR: \n",
      "RDKit ERROR: [15:04:36] Explicit valence for atom # 2 O, 3, is greater than permitted\n",
      "RDKit ERROR: [15:04:36] ERROR: Could not sanitize molecule ending on line 499305\n",
      "RDKit ERROR: [15:04:36] ERROR: Explicit valence for atom # 2 O, 3, is greater than permitted\n",
      "RDKit ERROR: [15:04:36] Can't kekulize mol.  Unkekulized atoms: 1 2 3 4 5 6 7 8 9\n",
      "RDKit ERROR: \n",
      "RDKit ERROR: [15:04:36] ERROR: Could not sanitize molecule ending on line 503342\n",
      "RDKit ERROR: [15:04:36] ERROR: Can't kekulize mol.  Unkekulized atoms: 1 2 3 4 5 6 7 8 9\n",
      "RDKit ERROR: \n",
      "RDKit ERROR: [15:04:36] Can't kekulize mol.  Unkekulized atoms: 0 1 2 4 5 6 7 8 9 10\n",
      "RDKit ERROR: \n",
      "RDKit ERROR: [15:04:36] ERROR: Could not sanitize molecule ending on line 508068\n",
      "RDKit ERROR: [15:04:36] ERROR: Can't kekulize mol.  Unkekulized atoms: 0 1 2 4 5 6 7 8 9 10\n",
      "RDKit ERROR: \n",
      "RDKit ERROR: [15:04:36] Can't kekulize mol.  Unkekulized atoms: 1 2 3 4 5 6 7 8 9\n",
      "RDKit ERROR: \n",
      "RDKit ERROR: [15:04:36] ERROR: Could not sanitize molecule ending on line 510069\n",
      "RDKit ERROR: [15:04:36] ERROR: Can't kekulize mol.  Unkekulized atoms: 1 2 3 4 5 6 7 8 9\n",
      "RDKit ERROR: \n",
      "RDKit ERROR: [15:04:36] Can't kekulize mol.  Unkekulized atoms: 3 4 5 6 7 8 10\n",
      "RDKit ERROR: \n",
      "RDKit ERROR: [15:04:36] ERROR: Could not sanitize molecule ending on line 511111\n",
      "RDKit ERROR: [15:04:36] ERROR: Can't kekulize mol.  Unkekulized atoms: 3 4 5 6 7 8 10\n",
      "RDKit ERROR: \n",
      "RDKit ERROR: [15:04:36] Can't kekulize mol.  Unkekulized atoms: 1 2 3 5 6 7 8 9 10\n",
      "RDKit ERROR: \n",
      "RDKit ERROR: [15:04:36] ERROR: Could not sanitize molecule ending on line 512030\n",
      "RDKit ERROR: [15:04:36] ERROR: Can't kekulize mol.  Unkekulized atoms: 1 2 3 5 6 7 8 9 10\n",
      "RDKit ERROR: \n",
      "RDKit ERROR: [15:04:36] Explicit valence for atom # 2 O, 3, is greater than permitted\n",
      "RDKit ERROR: [15:04:36] ERROR: Could not sanitize molecule ending on line 519056\n",
      "RDKit ERROR: [15:04:36] ERROR: Explicit valence for atom # 2 O, 3, is greater than permitted\n",
      "RDKit ERROR: [15:04:36] Explicit valence for atom # 6 B, 4, is greater than permitted\n",
      "RDKit ERROR: [15:04:36] ERROR: Could not sanitize molecule ending on line 541262\n",
      "RDKit ERROR: [15:04:36] ERROR: Explicit valence for atom # 6 B, 4, is greater than permitted\n",
      "RDKit ERROR: [15:04:36] Can't kekulize mol.  Unkekulized atoms: 2 3 17 19 20\n",
      "RDKit ERROR: \n",
      "RDKit ERROR: [15:04:36] ERROR: Could not sanitize molecule ending on line 557517\n",
      "RDKit ERROR: [15:04:36] ERROR: Can't kekulize mol.  Unkekulized atoms: 2 3 17 19 20\n",
      "RDKit ERROR: \n",
      "RDKit ERROR: [15:04:36] Can't kekulize mol.  Unkekulized atoms: 0 1 2 4 5 6 7 8 9 10\n",
      "RDKit ERROR: \n",
      "RDKit ERROR: [15:04:36] ERROR: Could not sanitize molecule ending on line 561344\n",
      "RDKit ERROR: [15:04:36] ERROR: Can't kekulize mol.  Unkekulized atoms: 0 1 2 4 5 6 7 8 9 10\n",
      "RDKit ERROR: \n",
      "RDKit ERROR: [15:04:36] Can't kekulize mol.  Unkekulized atoms: 10 11 12 13 19\n",
      "RDKit ERROR: \n",
      "RDKit ERROR: [15:04:36] ERROR: Could not sanitize molecule ending on line 562947\n",
      "RDKit ERROR: [15:04:36] ERROR: Can't kekulize mol.  Unkekulized atoms: 10 11 12 13 19\n",
      "RDKit ERROR: \n",
      "RDKit ERROR: [15:04:36] Explicit valence for atom # 27 N, 4, is greater than permitted\n",
      "RDKit ERROR: [15:04:36] ERROR: Could not sanitize molecule ending on line 567073\n",
      "RDKit ERROR: [15:04:36] ERROR: Explicit valence for atom # 27 N, 4, is greater than permitted\n",
      "RDKit ERROR: [15:04:36] Can't kekulize mol.  Unkekulized atoms: 9 10 11 12 13 14 15 16 17\n",
      "RDKit ERROR: \n",
      "RDKit ERROR: [15:04:36] ERROR: Could not sanitize molecule ending on line 568252\n",
      "RDKit ERROR: [15:04:36] ERROR: Can't kekulize mol.  Unkekulized atoms: 9 10 11 12 13 14 15 16 17\n",
      "RDKit ERROR: \n",
      "RDKit ERROR: [15:04:36] Can't kekulize mol.  Unkekulized atoms: 23 24 25 26 27\n",
      "RDKit ERROR: \n",
      "RDKit ERROR: [15:04:36] ERROR: Could not sanitize molecule ending on line 574645\n",
      "RDKit ERROR: [15:04:36] ERROR: Can't kekulize mol.  Unkekulized atoms: 23 24 25 26 27\n",
      "RDKit ERROR: \n",
      "RDKit ERROR: [15:04:37] Can't kekulize mol.  Unkekulized atoms: 5 6 7 8 9\n",
      "RDKit ERROR: \n",
      "RDKit ERROR: [15:04:37] ERROR: Could not sanitize molecule ending on line 592639\n",
      "RDKit ERROR: [15:04:37] ERROR: Can't kekulize mol.  Unkekulized atoms: 5 6 7 8 9\n",
      "RDKit ERROR: \n",
      "RDKit ERROR: [15:04:37] Explicit valence for atom # 12 N, 4, is greater than permitted\n",
      "RDKit ERROR: [15:04:37] ERROR: Could not sanitize molecule ending on line 595909\n",
      "RDKit ERROR: [15:04:37] ERROR: Explicit valence for atom # 12 N, 4, is greater than permitted\n",
      "RDKit ERROR: [15:04:37] Explicit valence for atom # 0 Br, 2, is greater than permitted\n",
      "RDKit ERROR: [15:04:37] ERROR: Could not sanitize molecule ending on line 599041\n",
      "RDKit ERROR: [15:04:37] ERROR: Explicit valence for atom # 0 Br, 2, is greater than permitted\n",
      "RDKit ERROR: [15:04:37] Explicit valence for atom # 1 N, 4, is greater than permitted\n",
      "RDKit ERROR: [15:04:37] ERROR: Could not sanitize molecule ending on line 601819\n",
      "RDKit ERROR: [15:04:37] ERROR: Explicit valence for atom # 1 N, 4, is greater than permitted\n",
      "RDKit ERROR: [15:04:37] Explicit valence for atom # 6 Be, 4, is greater than permitted\n",
      "RDKit ERROR: [15:04:37] ERROR: Could not sanitize molecule ending on line 604427\n",
      "RDKit ERROR: [15:04:37] ERROR: Explicit valence for atom # 6 Be, 4, is greater than permitted\n",
      "RDKit ERROR: [15:04:37] Can't kekulize mol.  Unkekulized atoms: 4 5 6 7 8 9 10 11 12\n",
      "RDKit ERROR: \n",
      "RDKit ERROR: [15:04:37] ERROR: Could not sanitize molecule ending on line 604912\n",
      "RDKit ERROR: [15:04:37] ERROR: Can't kekulize mol.  Unkekulized atoms: 4 5 6 7 8 9 10 11 12\n",
      "RDKit ERROR: \n",
      "RDKit ERROR: [15:04:37] Can't kekulize mol.  Unkekulized atoms: 5 6 7 8 9 10 11 12 13\n",
      "RDKit ERROR: \n",
      "RDKit ERROR: [15:04:37] ERROR: Could not sanitize molecule ending on line 616025\n",
      "RDKit ERROR: [15:04:37] ERROR: Can't kekulize mol.  Unkekulized atoms: 5 6 7 8 9 10 11 12 13\n",
      "RDKit ERROR: \n",
      "RDKit ERROR: [15:04:37] Can't kekulize mol.  Unkekulized atoms: 1 2 3 5 6 7 8 9 10\n",
      "RDKit ERROR: \n",
      "RDKit ERROR: [15:04:37] ERROR: Could not sanitize molecule ending on line 623202\n",
      "RDKit ERROR: [15:04:37] ERROR: Can't kekulize mol.  Unkekulized atoms: 1 2 3 5 6 7 8 9 10\n",
      "RDKit ERROR: \n",
      "RDKit ERROR: [15:04:37] Can't kekulize mol.  Unkekulized atoms: 5 6 7 8 9 10 11 12 13\n",
      "RDKit ERROR: \n",
      "RDKit ERROR: [15:04:37] ERROR: Could not sanitize molecule ending on line 628065\n",
      "RDKit ERROR: [15:04:37] ERROR: Can't kekulize mol.  Unkekulized atoms: 5 6 7 8 9 10 11 12 13\n",
      "RDKit ERROR: \n",
      "RDKit ERROR: [15:04:37] Explicit valence for atom # 19 N, 4, is greater than permitted\n",
      "RDKit ERROR: [15:04:37] ERROR: Could not sanitize molecule ending on line 636938\n",
      "RDKit ERROR: [15:04:37] ERROR: Explicit valence for atom # 19 N, 4, is greater than permitted\n",
      "RDKit ERROR: [15:04:37] Explicit valence for atom # 0 O, 3, is greater than permitted\n",
      "RDKit ERROR: [15:04:37] ERROR: Could not sanitize molecule ending on line 640674\n",
      "RDKit ERROR: [15:04:37] ERROR: Explicit valence for atom # 0 O, 3, is greater than permitted\n",
      "RDKit ERROR: [15:04:37] Explicit valence for atom # 17 Mg, 4, is greater than permitted\n",
      "RDKit ERROR: [15:04:37] ERROR: Could not sanitize molecule ending on line 642835\n",
      "RDKit ERROR: [15:04:37] ERROR: Explicit valence for atom # 17 Mg, 4, is greater than permitted\n",
      "RDKit ERROR: [15:04:37] Explicit valence for atom # 4 F, 2, is greater than permitted\n",
      "RDKit ERROR: [15:04:37] ERROR: Could not sanitize molecule ending on line 645068\n",
      "RDKit ERROR: [15:04:37] ERROR: Explicit valence for atom # 4 F, 2, is greater than permitted\n",
      "RDKit ERROR: [15:04:37] Can't kekulize mol.  Unkekulized atoms: 0 1 2 4 5 6 7 8 9 10\n",
      "RDKit ERROR: \n",
      "RDKit ERROR: [15:04:37] ERROR: Could not sanitize molecule ending on line 659994\n"
     ]
    },
    {
     "name": "stderr",
     "output_type": "stream",
     "text": [
      "RDKit ERROR: [15:04:37] ERROR: Can't kekulize mol.  Unkekulized atoms: 0 1 2 4 5 6 7 8 9 10\n",
      "RDKit ERROR: \n",
      "RDKit ERROR: [15:04:37]  Unhandled CTAB feature: S group SRU on line: 754017. Molecule skipped.\n",
      "RDKit ERROR: [15:04:37] Explicit valence for atom # 0 Be, 3, is greater than permitted\n",
      "RDKit ERROR: [15:04:37] ERROR: Could not sanitize molecule ending on line 995692\n",
      "RDKit ERROR: [15:04:37] ERROR: Explicit valence for atom # 0 Be, 3, is greater than permitted\n",
      "RDKit ERROR: [15:04:38]  Unhandled CTAB feature: S group SRU on line: 1148513. Molecule skipped.\n",
      "RDKit ERROR: [15:04:38] Explicit valence for atom # 0 C greater than permitted\n",
      "RDKit ERROR: [15:04:38] ERROR: Could not sanitize molecule ending on line 1151592\n"
     ]
    }
   ],
   "source": [
    "mols = [mol for mol in suppl]"
   ]
  },
  {
   "cell_type": "code",
   "execution_count": 34,
   "metadata": {},
   "outputs": [
    {
     "data": {
      "text/plain": [
       "70"
      ]
     },
     "execution_count": 34,
     "metadata": {},
     "output_type": "execute_result"
    }
   ],
   "source": [
    "len([x for x in mols if not x])"
   ]
  },
  {
   "cell_type": "code",
   "execution_count": 36,
   "metadata": {},
   "outputs": [],
   "source": [
    "cmols = [x for x in mols if x]"
   ]
  },
  {
   "cell_type": "code",
   "execution_count": 37,
   "metadata": {},
   "outputs": [
    {
     "data": {
      "text/plain": [
       "172446"
      ]
     },
     "execution_count": 37,
     "metadata": {},
     "output_type": "execute_result"
    }
   ],
   "source": [
    "sum([mol.GetNumHeavyAtoms() for mol in cmols])"
   ]
  },
  {
   "cell_type": "code",
   "execution_count": 38,
   "metadata": {},
   "outputs": [
    {
     "data": {
      "text/plain": [
       "172446"
      ]
     },
     "execution_count": 38,
     "metadata": {},
     "output_type": "execute_result"
    }
   ],
   "source": [
    "sum([mol.GetNumAtoms() for mol in cmols])"
   ]
  },
  {
   "cell_type": "code",
   "execution_count": 52,
   "metadata": {},
   "outputs": [
    {
     "data": {
      "text/plain": [
       "((0, 5, 4, 3, 2, 1),)"
      ]
     },
     "execution_count": 52,
     "metadata": {},
     "output_type": "execute_result"
    }
   ],
   "source": [
    "rinfo = m.GetRingInfo()\n",
    "rinfo.AtomRings()"
   ]
  },
  {
   "cell_type": "code",
   "execution_count": 54,
   "metadata": {},
   "outputs": [],
   "source": [
    "a = m.GetAtomWithIdx(0)"
   ]
  },
  {
   "cell_type": "code",
   "execution_count": 55,
   "metadata": {},
   "outputs": [
    {
     "data": {
      "text/plain": [
       "True"
      ]
     },
     "execution_count": 55,
     "metadata": {},
     "output_type": "execute_result"
    }
   ],
   "source": [
    "a.GetIsAromatic()"
   ]
  },
  {
   "cell_type": "code",
   "execution_count": 57,
   "metadata": {},
   "outputs": [],
   "source": [
    "arinfs = [mol.GetRingInfo().AtomRings() for mol in cmols]\n",
    "aralirings = [[mol.GetAtomWithIdx(a[0]).GetIsAromatic() for a in arinf] for arinf,mol in zip(arinfs,cmols)]"
   ]
  },
  {
   "cell_type": "code",
   "execution_count": 60,
   "metadata": {},
   "outputs": [],
   "source": [
    "avg_arom = sum([len([i for i in r if i]) for r in aralirings])/len(cmols)\n",
    "avg_alif = sum([len([i for i in r if not i]) for r in aralirings])/len(cmols)"
   ]
  },
  {
   "cell_type": "code",
   "execution_count": 61,
   "metadata": {},
   "outputs": [
    {
     "name": "stdout",
     "output_type": "stream",
     "text": [
      "1.529957805907173 0.9368495077355837\n"
     ]
    }
   ],
   "source": [
    "print(avg_arom, avg_alif)"
   ]
  },
  {
   "cell_type": "code",
   "execution_count": 69,
   "metadata": {},
   "outputs": [
    {
     "data": {
      "text/plain": [
       "('c1ccccc1', 'UHOVQNZJYSORNB-UHFFFAOYSA-N')"
      ]
     },
     "execution_count": 69,
     "metadata": {},
     "output_type": "execute_result"
    }
   ],
   "source": [
    "Chem.MolToSmiles(m), Chem.MolToInchiKey(m)"
   ]
  },
  {
   "cell_type": "code",
   "execution_count": null,
   "metadata": {},
   "outputs": [],
   "source": []
  }
 ],
 "metadata": {
  "kernelspec": {
   "display_name": "Python 3",
   "language": "python",
   "name": "python3"
  },
  "language_info": {
   "codemirror_mode": {
    "name": "ipython",
    "version": 3
   },
   "file_extension": ".py",
   "mimetype": "text/x-python",
   "name": "python",
   "nbconvert_exporter": "python",
   "pygments_lexer": "ipython3",
   "version": "3.6.5"
  }
 },
 "nbformat": 4,
 "nbformat_minor": 2
}
